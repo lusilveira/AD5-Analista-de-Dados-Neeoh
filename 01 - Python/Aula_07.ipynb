{
  "nbformat": 4,
  "nbformat_minor": 0,
  "metadata": {
    "colab": {
      "provenance": []
    },
    "kernelspec": {
      "name": "python3",
      "display_name": "Python 3"
    },
    "language_info": {
      "name": "python"
    }
  },
  "cells": [
    {
      "cell_type": "markdown",
      "source": [
        "##**Operados de associação**"
      ],
      "metadata": {
        "id": "2Uwi4UP5PqcC"
      }
    },
    {
      "cell_type": "code",
      "execution_count": null,
      "metadata": {
        "colab": {
          "base_uri": "https://localhost:8080/"
        },
        "id": "s1N0gbVqBz1p",
        "outputId": "bf62a7d2-821b-4ba6-e170-784f5848a33b"
      },
      "outputs": [
        {
          "output_type": "execute_result",
          "data": {
            "text/plain": [
              "True"
            ]
          },
          "metadata": {},
          "execution_count": 1
        }
      ],
      "source": [
        " #(in) Retorna verdadeiro se um caracter  ou sequencia de caracteres for encontrado dentro de uma string.\n",
        "\n",
        "# Exemplo 1\n",
        "nome = 'Franciane'\n",
        "'ane' in nome"
      ]
    },
    {
      "cell_type": "code",
      "source": [
        "# Exemplo 2\n",
        "nome = 'Franciane'\n",
        "'Ane' in nome"
      ],
      "metadata": {
        "colab": {
          "base_uri": "https://localhost:8080/"
        },
        "id": "DNHLe9VBB-2T",
        "outputId": "f11aaef3-aa56-44fd-ff84-7f59ce87dab0"
      },
      "execution_count": null,
      "outputs": [
        {
          "output_type": "execute_result",
          "data": {
            "text/plain": [
              "False"
            ]
          },
          "metadata": {},
          "execution_count": 2
        }
      ]
    },
    {
      "cell_type": "code",
      "source": [
        "# Exemplo 3\n",
        "nome1 = 'Victor Gabriel'\n",
        "'vic' in nome1\n",
        "# Exemplo 4\n",
        "nome = 'Marcos'\n",
        "'mar' in nome.lower()"
      ],
      "metadata": {
        "id": "ZXiYVJGXCFK3"
      },
      "execution_count": null,
      "outputs": []
    },
    {
      "cell_type": "markdown",
      "source": [
        "* (not in) Retorna verdadeiro se um caracter ou sequencia de caracteres **NÃO** for encontrado dentro de uma string"
      ],
      "metadata": {
        "id": "iPyg7PoFCHmE"
      }
    },
    {
      "cell_type": "code",
      "source": [
        "nome = 'daniela'\n",
        "teste1 = 'Dani' not in nome\n",
        "print('Dani não está contido em daniela? ', teste1)"
      ],
      "metadata": {
        "colab": {
          "base_uri": "https://localhost:8080/"
        },
        "id": "_O5TwBATCLkT",
        "outputId": "ffd46eff-bc62-4406-ed27-8f07ccf2d714"
      },
      "execution_count": null,
      "outputs": [
        {
          "output_type": "stream",
          "name": "stdout",
          "text": [
            "Dani não está contido em daniela?  True\n"
          ]
        }
      ]
    },
    {
      "cell_type": "code",
      "source": [
        "# Exemplo 5\n",
        "nome = input('Digite seu nome: ')\n",
        "'mar' in nome.lower()"
      ],
      "metadata": {
        "colab": {
          "base_uri": "https://localhost:8080/"
        },
        "id": "BvdL1BdVCOxV",
        "outputId": "ff4e345e-3136-43cb-c4c4-fd1e946ea863"
      },
      "execution_count": null,
      "outputs": [
        {
          "name": "stdout",
          "output_type": "stream",
          "text": [
            "Digite seu nome: As\n"
          ]
        },
        {
          "output_type": "execute_result",
          "data": {
            "text/plain": [
              "False"
            ]
          },
          "metadata": {},
          "execution_count": 4
        }
      ]
    },
    {
      "cell_type": "markdown",
      "source": [
        "## **Operador indentidade** *texto em itálico*"
      ],
      "metadata": {
        "id": "BCs6AS-rCVaN"
      }
    },
    {
      "cell_type": "markdown",
      "source": [
        "* (is) compara se um objeto é igual ao outro em relação ao valor e o tipo"
      ],
      "metadata": {
        "id": "7on5q_P3IA7I"
      }
    },
    {
      "cell_type": "code",
      "source": [
        "# Entrada de dados\n",
        "h = 3\n",
        "p = 3\n",
        "\n",
        "# Segunda comparação\n",
        "teste3 = p is h # Lê \"is\" como \"é\"\n",
        "\n",
        "# Outra forma de impressão na tela\n",
        "teste3"
      ],
      "metadata": {
        "colab": {
          "base_uri": "https://localhost:8080/"
        },
        "id": "YrsFYn9jJsjK",
        "outputId": "c91b3961-8b2d-4306-f5c0-d48831f62e28"
      },
      "execution_count": null,
      "outputs": [
        {
          "output_type": "execute_result",
          "data": {
            "text/plain": [
              "True"
            ]
          },
          "metadata": {},
          "execution_count": 7
        }
      ]
    },
    {
      "cell_type": "code",
      "source": [
        "# Entrada de dados\n",
        "h = 3\n",
        "p = 3.0\n",
        "\n",
        "# Segunda comparação\n",
        "teste4 = p == h\n",
        "\n",
        "# Outra forma de impressão na tela\n",
        "teste4"
      ],
      "metadata": {
        "colab": {
          "base_uri": "https://localhost:8080/"
        },
        "id": "MpVhye4RKzSJ",
        "outputId": "6976238d-1ad4-4c3a-b74e-4d5392090efc"
      },
      "execution_count": null,
      "outputs": [
        {
          "output_type": "execute_result",
          "data": {
            "text/plain": [
              "True"
            ]
          },
          "metadata": {},
          "execution_count": 8
        }
      ]
    },
    {
      "cell_type": "code",
      "source": [
        "# Entrada de dados\n",
        "h = 3\n",
        "p = 3.0\n",
        "\n",
        "# Segunda comparação\n",
        "teste5 = p is h\n",
        "\n",
        "# Outra forma de impressão na tela\n",
        "print(teste5)\n",
        "\n",
        "print(type(h))\n",
        "print(type(p))"
      ],
      "metadata": {
        "colab": {
          "base_uri": "https://localhost:8080/"
        },
        "id": "pBOfe68PK-R9",
        "outputId": "e770b679-8e59-4d28-9577-edaabc0316ce"
      },
      "execution_count": null,
      "outputs": [
        {
          "output_type": "stream",
          "name": "stdout",
          "text": [
            "False\n",
            "<class 'int'>\n",
            "<class 'float'>\n"
          ]
        }
      ]
    },
    {
      "cell_type": "code",
      "source": [
        "# Entrada de dados\n",
        "h = 'MARIA'\n",
        "p = 'maria'\n",
        "\n",
        "# Segunda comparação\n",
        "teste6 = p is h # lembrando que o python é case sensitive\n",
        "\n",
        "# Outra forma de impressão na tela\n",
        "print(teste6)\n",
        "\n",
        "print(type(h))\n",
        "print(type(p))"
      ],
      "metadata": {
        "colab": {
          "base_uri": "https://localhost:8080/"
        },
        "id": "5W5j_9rWMQNV",
        "outputId": "954af800-74ec-445c-fdf6-c885da0d23bb"
      },
      "execution_count": null,
      "outputs": [
        {
          "output_type": "stream",
          "name": "stdout",
          "text": [
            "False\n",
            "<class 'str'>\n",
            "<class 'str'>\n"
          ]
        }
      ]
    },
    {
      "cell_type": "code",
      "source": [
        "# Entrada de dados\n",
        "h = 3.0\n",
        "p = 3.0\n",
        "\n",
        "# Segunda comparação\n",
        "teste7 = p is h # lembrando que o python é case sensitive\n",
        "\n",
        "# Outra forma de impressão na tela\n",
        "print(teste7)\n",
        "\n",
        "print(type(h))\n",
        "print(type(p))"
      ],
      "metadata": {
        "colab": {
          "base_uri": "https://localhost:8080/"
        },
        "id": "s2Rfk_l6MgXv",
        "outputId": "a65fc3d2-fde8-413a-ee32-3b011c575f40"
      },
      "execution_count": null,
      "outputs": [
        {
          "output_type": "stream",
          "name": "stdout",
          "text": [
            "False\n",
            "<class 'float'>\n",
            "<class 'float'>\n"
          ]
        }
      ]
    },
    {
      "cell_type": "code",
      "source": [
        "# Ideias do Filipe - trazer informações sobre essa situação.\n",
        "a = 10.1\n",
        "b = 10.2\n",
        "soma = a + b\n",
        "print(soma)\n",
        "print(round(soma,1))"
      ],
      "metadata": {
        "colab": {
          "base_uri": "https://localhost:8080/"
        },
        "id": "BhtgitdcNyLp",
        "outputId": "f7ae4ab7-90da-42da-9f57-c7f27a390bf9"
      },
      "execution_count": null,
      "outputs": [
        {
          "output_type": "stream",
          "name": "stdout",
          "text": [
            "20.299999999999997\n",
            "20.3\n"
          ]
        }
      ]
    },
    {
      "cell_type": "markdown",
      "source": [
        "* (is not) compara se um objeto é diferente do outro em relação ao valor e tipo."
      ],
      "metadata": {
        "id": "OUcl1VTMOv81"
      }
    },
    {
      "cell_type": "code",
      "source": [
        "# Entrada de dados\n",
        "h = 3\n",
        "p = 4\n",
        "\n",
        "# Segunda comparação\n",
        "teste8 = h != p\n",
        "\n",
        "# Outra forma de impressão na tela\n",
        "teste8"
      ],
      "metadata": {
        "colab": {
          "base_uri": "https://localhost:8080/"
        },
        "id": "tKWYw0cjO37U",
        "outputId": "10e6ef02-ef59-46ba-a783-e0684f789981"
      },
      "execution_count": null,
      "outputs": [
        {
          "output_type": "execute_result",
          "data": {
            "text/plain": [
              "True"
            ]
          },
          "metadata": {},
          "execution_count": 13
        }
      ]
    },
    {
      "cell_type": "code",
      "source": [
        "# Entrada de dados\n",
        "h = 3\n",
        "p = 4\n",
        "\n",
        "# Segunda comparação\n",
        "teste9 = h is not p # is not lê-se \"não é\"\n",
        "\n",
        "# Outra forma de impressão na tela\n",
        "teste9"
      ],
      "metadata": {
        "colab": {
          "base_uri": "https://localhost:8080/"
        },
        "id": "7nfeNxRyPIMU",
        "outputId": "e6a7d356-dfdd-450f-dd45-644fca3ac5f8"
      },
      "execution_count": null,
      "outputs": [
        {
          "output_type": "execute_result",
          "data": {
            "text/plain": [
              "True"
            ]
          },
          "metadata": {},
          "execution_count": 15
        }
      ]
    },
    {
      "cell_type": "markdown",
      "source": [
        "## **Estruturas de Dados**"
      ],
      "metadata": {
        "id": "n_MRUux7QBBp"
      }
    },
    {
      "cell_type": "code",
      "source": [
        "# Uma lista é um objeto que pode ser vazio ou ter varios elementos.\n",
        "# Podemos localizar elementos dentro da lista através de índices\n",
        "# como fizemos nas strings,\n",
        "# inclusive podemos fazer fatiamento se necessário\n",
        "\n",
        "lista = ['dado1', 'dado2', 'dado3', 'dado4', 'dado5']\n",
        "\n",
        "# indices     0         1         2        3        4\n",
        "# reverso    -5        -4        -3       -2       -1\n",
        "\n",
        "# Qual é o quinto elemento da minha lista de forma direta e inversa?\n",
        "print(lista[4])\n",
        "print(lista[-1])"
      ],
      "metadata": {
        "colab": {
          "base_uri": "https://localhost:8080/"
        },
        "id": "LBy_dDEYZgbA",
        "outputId": "061a3e99-8d44-4e9e-b6b5-142fda4734aa"
      },
      "execution_count": null,
      "outputs": [
        {
          "output_type": "stream",
          "name": "stdout",
          "text": [
            "dado5\n",
            "dado5\n"
          ]
        }
      ]
    },
    {
      "cell_type": "code",
      "source": [
        "# Vamos criar uma lista real\n",
        "lista = ['banana', 2.0, True, -2, 34, 'Bel']\n",
        "lista"
      ],
      "metadata": {
        "colab": {
          "base_uri": "https://localhost:8080/"
        },
        "id": "OziBQjWbbEl8",
        "outputId": "108d6852-9afe-4d54-8e57-4ebddea7301a"
      },
      "execution_count": null,
      "outputs": [
        {
          "output_type": "execute_result",
          "data": {
            "text/plain": [
              "['banana', 2.0, True, -2, 34, 'Bel']"
            ]
          },
          "metadata": {},
          "execution_count": 18
        }
      ]
    },
    {
      "cell_type": "code",
      "source": [
        "# len() retorna o tamanho da lista\n",
        "len(lista)"
      ],
      "metadata": {
        "colab": {
          "base_uri": "https://localhost:8080/"
        },
        "id": "cqZSXmk2b7Ui",
        "outputId": "cdd03dcd-feba-44a9-8b01-2a5d89b53b03"
      },
      "execution_count": null,
      "outputs": [
        {
          "output_type": "execute_result",
          "data": {
            "text/plain": [
              "6"
            ]
          },
          "metadata": {},
          "execution_count": 19
        }
      ]
    },
    {
      "cell_type": "code",
      "source": [
        "# Consigo imprimir o tipo dos dados igual fizemos nos exemplos de antes?\n",
        "print(type(lista))\n",
        "print(type(lista[0]))"
      ],
      "metadata": {
        "colab": {
          "base_uri": "https://localhost:8080/"
        },
        "id": "B8rFhZsTciK4",
        "outputId": "7cc66544-33aa-4e7d-e4d3-e2104dc4c9ae"
      },
      "execution_count": null,
      "outputs": [
        {
          "output_type": "stream",
          "name": "stdout",
          "text": [
            "<class 'list'>\n",
            "<class 'str'>\n"
          ]
        }
      ]
    },
    {
      "cell_type": "code",
      "source": [
        "# Vamos criar uma lista com input\n",
        "alunos = input('Informe os nomes separados por espaços que você deseja cadastrar: ')\n",
        "nomes = alunos.split()\n",
        "print(nomes)"
      ],
      "metadata": {
        "colab": {
          "base_uri": "https://localhost:8080/"
        },
        "id": "BycYzRATckvu",
        "outputId": "542528fb-dfc7-4317-d7e8-5a4a27c20d92"
      },
      "execution_count": null,
      "outputs": [
        {
          "output_type": "stream",
          "name": "stdout",
          "text": [
            "Informe os nomes separados por espaços que você deseja cadastrar:  Bruno Arthur Carina Felipe Juliana Kleisson Luane Lucas Marcos Vanessa Vinicius\n",
            "['Bruno', 'Arthur', 'Carina', 'Felipe', 'Juliana', 'Kleisson', 'Luane', 'Lucas', 'Marcos', 'Vanessa', 'Vinicius']\n"
          ]
        }
      ]
    },
    {
      "cell_type": "code",
      "source": [
        "# len(): retorna o tamanho da lista\n",
        "len(nomes)"
      ],
      "metadata": {
        "colab": {
          "base_uri": "https://localhost:8080/"
        },
        "id": "954AwrrqjNVF",
        "outputId": "5c297507-d5dd-498f-b692-9b17dc4e7fc5"
      },
      "execution_count": null,
      "outputs": [
        {
          "output_type": "execute_result",
          "data": {
            "text/plain": [
              "11"
            ]
          },
          "metadata": {},
          "execution_count": 23
        }
      ]
    },
    {
      "cell_type": "code",
      "source": [
        "# O 4° nome dessa lista.\n",
        "# Os nomes do 2º ao 5° nome dessa lista.\n",
        "# O 8° nome da lista\n",
        "# Os nomes do 7º ao 10° nome dessa lista.\n",
        "\n",
        "# 1. O 4° nome dessa lista\n",
        "quarto_nome = nomes[3]\n",
        "print(quarto_nome)\n",
        "\n",
        "#Professora\n",
        "print(nomes[3])\n",
        "\n",
        "# 2. Os nomes do 2º ao 5°\n",
        "segundo_ao_quinto_nome = nomes[1:5]\n",
        "print(segundo_ao_quinto_nome)\n",
        "\n",
        "# Professora\n",
        "print(nomes[1:5])\n",
        "\n",
        "# 3. O 8° nome da lista\n",
        "oitavo_nome = nomes[7]\n",
        "print(oitavo_nome)\n",
        "\n",
        "# Professora\n",
        "print(nomes[7])\n",
        "\n",
        "# 4. Os nomes do 7º ao 10°\n",
        "setimo_ao_quinto_nome = nomes[6:10]\n",
        "print(setimo_ao_quinto_nome)\n",
        "\n",
        "# Professora\n",
        "print(nomes[6:10])"
      ],
      "metadata": {
        "colab": {
          "base_uri": "https://localhost:8080/"
        },
        "id": "haln3GL9jT2V",
        "outputId": "0e0e939d-7f35-49c2-b4b0-ae14f9661d4f"
      },
      "execution_count": null,
      "outputs": [
        {
          "output_type": "stream",
          "name": "stdout",
          "text": [
            "Felipe\n",
            "Felipe\n",
            "['Arthur', 'Carina', 'Felipe', 'Juliana']\n",
            "['Arthur', 'Carina', 'Felipe', 'Juliana']\n",
            "Lucas\n",
            "Lucas\n",
            "['Luane', 'Lucas', 'Marcos', 'Vanessa']\n",
            "['Luane', 'Lucas', 'Marcos', 'Vanessa']\n"
          ]
        }
      ]
    },
    {
      "cell_type": "code",
      "source": [
        "# Inserindo valores em uma lista pelo método append\n",
        "# por padrão o método append vai inserir o elemento na ultima posição\n",
        "# mantendo os demais que eventualmente já existem\n",
        "\n",
        "descarte = []\n",
        "print(descarte)\n",
        "\n",
        "descarte.append('bateria')\n",
        "print(descarte)\n",
        "\n",
        "descarte.append('mouse')\n",
        "print(descarte)\n",
        "\n",
        "descarte.append('cabo')\n",
        "print(descarte)\n",
        "\n",
        "descarte.append('CADEIRA')\n",
        "print(descarte)"
      ],
      "metadata": {
        "colab": {
          "base_uri": "https://localhost:8080/"
        },
        "id": "RVtC5HVOkfJp",
        "outputId": "8e3a5d84-7fd1-4fc8-d9f1-ee3d5834b38c"
      },
      "execution_count": null,
      "outputs": [
        {
          "output_type": "stream",
          "name": "stdout",
          "text": [
            "[]\n",
            "['bateria']\n",
            "['bateria', 'mouse']\n",
            "['bateria', 'mouse', 'cabo']\n",
            "['bateria', 'mouse', 'cabo', 'CADEIRA']\n"
          ]
        }
      ]
    },
    {
      "cell_type": "code",
      "source": [
        "# Método insert() insere um valor em qualquer lugar da lista\n",
        "descarte.insert(-7, 'alunos')\n",
        "print(descarte)"
      ],
      "metadata": {
        "colab": {
          "base_uri": "https://localhost:8080/"
        },
        "id": "T3hHgGzamvpb",
        "outputId": "241bb3d4-044a-4d44-cc06-1cccb2964f56"
      },
      "execution_count": null,
      "outputs": [
        {
          "output_type": "stream",
          "name": "stdout",
          "text": [
            "['alunos', 'bateria', 'mouse', 'cabo', 'alunos', 'CADEIRA', 'alunos']\n"
          ]
        }
      ]
    },
    {
      "cell_type": "code",
      "source": [
        "# Método remove() remove o elemento que está dentro do parênteses\n",
        "descarte.remove('alunos')\n",
        "print(descarte)"
      ],
      "metadata": {
        "colab": {
          "base_uri": "https://localhost:8080/"
        },
        "id": "vtzxCjlinsxx",
        "outputId": "bfe3c4da-7579-4727-e71c-db91881c6a00"
      },
      "execution_count": null,
      "outputs": [
        {
          "output_type": "stream",
          "name": "stdout",
          "text": [
            "['bateria', 'mouse', 'cabo', 'alunos', 'CADEIRA', 'alunos']\n"
          ]
        }
      ]
    },
    {
      "cell_type": "code",
      "source": [
        "# Método pop() remove o elemento pelo índice\n",
        "descarte.pop(4)\n",
        "print(descarte)"
      ],
      "metadata": {
        "colab": {
          "base_uri": "https://localhost:8080/"
        },
        "id": "FqsTO1LIn9OK",
        "outputId": "b0f32c94-950e-4244-983d-fbbad4d5b9dd"
      },
      "execution_count": null,
      "outputs": [
        {
          "output_type": "stream",
          "name": "stdout",
          "text": [
            "['mouse', 'cabo', 'alunos', 'CADEIRA']\n"
          ]
        }
      ]
    },
    {
      "cell_type": "code",
      "source": [
        "# Método reverse() inverte a ordem da lista\n",
        "descarte.reverse()\n",
        "print(descarte)"
      ],
      "metadata": {
        "colab": {
          "base_uri": "https://localhost:8080/"
        },
        "id": "1OOK6Gpuoat1",
        "outputId": "509367df-8cb7-4f8c-9ea4-f2ca6e36f46e"
      },
      "execution_count": null,
      "outputs": [
        {
          "output_type": "stream",
          "name": "stdout",
          "text": [
            "['CADEIRA', 'alunos', 'cabo', 'mouse']\n"
          ]
        }
      ]
    },
    {
      "cell_type": "code",
      "source": [
        "# Método copy() retorna uma cópia da lista\n",
        "descarte_bkp = descarte.copy()\n",
        "descarte_bkp"
      ],
      "metadata": {
        "colab": {
          "base_uri": "https://localhost:8080/"
        },
        "id": "XEVlhLiYpFkY",
        "outputId": "d5571e3d-051d-475c-e0c8-bc12999f73f8"
      },
      "execution_count": null,
      "outputs": [
        {
          "output_type": "execute_result",
          "data": {
            "text/plain": [
              "['CADEIRA', 'alunos', 'cabo', 'mouse']"
            ]
          },
          "metadata": {},
          "execution_count": 48
        }
      ]
    },
    {
      "cell_type": "code",
      "source": [
        "# Concatenação de listas\n",
        "\n",
        "lista1 = [0, 1, 2, 3, 4]\n",
        "lista2 = [10, 11, 12, 13, 14]\n",
        "\n",
        "lista_oficial = lista1 + lista2\n",
        "lista_oficial"
      ],
      "metadata": {
        "id": "8fH5Zz_FqPlY",
        "outputId": "e4c0b414-2ef1-4a96-e9fb-e65bff836ae7",
        "colab": {
          "base_uri": "https://localhost:8080/"
        }
      },
      "execution_count": null,
      "outputs": [
        {
          "output_type": "execute_result",
          "data": {
            "text/plain": [
              "[0, 1, 2, 3, 4, 10, 11, 12, 13, 14]"
            ]
          },
          "metadata": {},
          "execution_count": 49
        }
      ]
    }
  ]
}