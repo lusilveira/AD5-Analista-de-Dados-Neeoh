{
  "nbformat": 4,
  "nbformat_minor": 0,
  "metadata": {
    "colab": {
      "provenance": []
    },
    "kernelspec": {
      "name": "python3",
      "display_name": "Python 3"
    },
    "language_info": {
      "name": "python"
    }
  },
  "cells": [
    {
      "cell_type": "markdown",
      "source": [
        "# **Estrutura de condições: IF, ELSE, ELIF**"
      ],
      "metadata": {
        "id": "Ors6bdAOpU3b"
      }
    },
    {
      "cell_type": "markdown",
      "source": [
        "Instrução IF\n",
        "* A intrução \"IF\" é usada para executar um bloco de código se uma determinada condição for verdadeira. A seguinte sintaxe geral é a seguinte:"
      ],
      "metadata": {
        "id": "9gKqM6AMprjm"
      }
    },
    {
      "cell_type": "code",
      "source": [
        "'''\n",
        "if condição:\n",
        "  # bloco de código a ser executado\n",
        "'''"
      ],
      "metadata": {
        "id": "_y5jeN4DqKEA"
      },
      "execution_count": null,
      "outputs": []
    },
    {
      "cell_type": "code",
      "source": [
        "# Informar a variável\n",
        "idade = 19\n",
        "\n",
        "# Realizar a condição\n",
        "if idade >= 18:\n",
        "  print('Você é maior de idade')\n"
      ],
      "metadata": {
        "colab": {
          "base_uri": "https://localhost:8080/"
        },
        "id": "TJ11Dn3iq20M",
        "outputId": "b1343b3a-a50d-4109-c5cc-44a042b42f0d"
      },
      "execution_count": null,
      "outputs": [
        {
          "output_type": "stream",
          "name": "stdout",
          "text": [
            "Você é maior de idade\n"
          ]
        }
      ]
    },
    {
      "cell_type": "code",
      "source": [
        "# Informar a variável\n",
        "idade = 18\n",
        "\n",
        "# Realizar a condição\n",
        "if idade >= 18:\n",
        "  print('Você é maior de idade')"
      ],
      "metadata": {
        "colab": {
          "base_uri": "https://localhost:8080/"
        },
        "id": "-JMtv_mVr3Fe",
        "outputId": "b9503d11-0751-4bb7-84d4-3ada3fd03389"
      },
      "execution_count": null,
      "outputs": [
        {
          "output_type": "stream",
          "name": "stdout",
          "text": [
            "Você é menor de idade\n"
          ]
        }
      ]
    },
    {
      "cell_type": "code",
      "source": [
        "# Informar a variável\n",
        "idade = 17\n",
        "\n",
        "# Realizar a condição\n",
        "if idade >= 18:\n",
        "  print('Você é maior de idade')"
      ],
      "metadata": {
        "id": "Edi-Icb6s8tS"
      },
      "execution_count": null,
      "outputs": []
    },
    {
      "cell_type": "code",
      "source": [
        "# Informar a variável\n",
        "clima = input('Digite o clima atual: ')\n",
        "\n",
        "# Vamos verificar se o clima é igual a ensolarado\n",
        "if clima == 'ensolarado':\n",
        "  print('É um bom dia para sair de casa')\n",
        "else:\n",
        "  print('Ficar em casa')"
      ],
      "metadata": {
        "colab": {
          "base_uri": "https://localhost:8080/"
        },
        "id": "imtmHePttBSv",
        "outputId": "895714d7-cb5d-4052-89ba-ccd723030f7c"
      },
      "execution_count": null,
      "outputs": [
        {
          "output_type": "stream",
          "name": "stdout",
          "text": [
            "Digite o clima atual: ENSO\n",
            "Ficar em casa\n"
          ]
        }
      ]
    },
    {
      "cell_type": "code",
      "source": [
        "# Informar a variável\n",
        "clima = input('Digite o clima atual: ')\n",
        "\n",
        "# Vamos verificar se o clima é igual a ensolarado\n",
        "if clima.lower() == 'ensolarado':\n",
        "  print('É um bom dia para sair de casa')"
      ],
      "metadata": {
        "colab": {
          "base_uri": "https://localhost:8080/"
        },
        "id": "Wi2O9Y5otDL8",
        "outputId": "df31d82f-f388-4589-92bd-66051cec6e0c"
      },
      "execution_count": null,
      "outputs": [
        {
          "output_type": "stream",
          "name": "stdout",
          "text": [
            "Digite o clima atual: ensolarado\n",
            "É um bom dia para sair de casa\n"
          ]
        }
      ]
    },
    {
      "cell_type": "code",
      "source": [
        "# Informar a variável\n",
        "clima = input('Digite o clima atual: ')\n",
        "\n",
        "# Vamos verificar se o clima é igual a ensolarado\n",
        "if clima.lower() == 'ensolarado':\n",
        "  print('É um bom dia para sair de casa')"
      ],
      "metadata": {
        "colab": {
          "base_uri": "https://localhost:8080/"
        },
        "id": "mMYahtpXvMyN",
        "outputId": "9d482f45-d30f-4763-d474-7345e62cc029"
      },
      "execution_count": null,
      "outputs": [
        {
          "output_type": "stream",
          "name": "stdout",
          "text": [
            "Digite o clima atual: CHUCA\n",
            "Ficar em casa\n"
          ]
        }
      ]
    },
    {
      "cell_type": "markdown",
      "source": [
        "Instrução \"else\"\n",
        "\n",
        "* A instrução \"else\" é usada em conjunto com a instrução \"if\"  e especifica um bloco de código a ser executado se a condição do \"if\" for falsa. A sintaxe geral é a seguinte:"
      ],
      "metadata": {
        "id": "uGY_-hkk0N5_"
      }
    },
    {
      "cell_type": "code",
      "source": [
        "'''\n",
        "if condição\n",
        "  # bloco de código a ser executado se a condição for verdadeira;\n",
        "else:\n",
        "  # bloco de código a ser executado se a condição for falsa;\n",
        "'''"
      ],
      "metadata": {
        "id": "F3dG48jA0ncn"
      },
      "execution_count": null,
      "outputs": []
    },
    {
      "cell_type": "code",
      "source": [
        "# Entrada de dados\n",
        "idade = int(input('Digite sua idade: '))\n",
        "\n",
        "# Decisão\n",
        "if idade >= 18:\n",
        "    print('Você é maior de idade!')\n",
        "\n",
        "else: # leia \"else\" como \"se não\"\n",
        "    print('Você é menor de idade!')"
      ],
      "metadata": {
        "colab": {
          "base_uri": "https://localhost:8080/"
        },
        "id": "uMVowr3c1T6s",
        "outputId": "74100f4a-b300-411e-8c4c-ee84eabf76e4"
      },
      "execution_count": null,
      "outputs": [
        {
          "output_type": "stream",
          "name": "stdout",
          "text": [
            "Digite sua idade: 17\n",
            "Você é menor de idade!\n"
          ]
        }
      ]
    },
    {
      "cell_type": "code",
      "source": [
        "# Exemplo: Escreva um pequeno código que decida se um numero\n",
        "# é positivo ou negativo\n",
        "\n",
        "numero = float(input('Escreva um número: '))\n",
        "\n",
        "# Verificar se o numero informado é positivo ou negativo\n",
        "\n",
        "if numero > 0:\n",
        "    print('O número informado é positivo')\n",
        "else:\n",
        "    print('O número informado é negativo')"
      ],
      "metadata": {
        "colab": {
          "base_uri": "https://localhost:8080/"
        },
        "id": "ODsKqXDp28Dh",
        "outputId": "b01ce875-e045-424c-8fc3-2b7332756f43"
      },
      "execution_count": null,
      "outputs": [
        {
          "output_type": "stream",
          "name": "stdout",
          "text": [
            "Escreva um número: 10\n",
            "O número informado é positivo\n"
          ]
        }
      ]
    },
    {
      "cell_type": "markdown",
      "source": [
        "Instrução \"ELIF\" (meio-termo)\n",
        "\n",
        "* A instrução \"elif\" é uma abreviação de \"else if\" (senão se) e permite testar múltiplas condições em sequência. Ela é usada quando há mais de duas possibilidades a serem consideradas. A sintaxe geral é a seguinte:"
      ],
      "metadata": {
        "id": "Ij1ULw_d7nWB"
      }
    },
    {
      "cell_type": "code",
      "source": [
        "'''\n",
        "if condição1:\n",
        "    # bloco de código a ser executado se a condição1 for verdadeira\n",
        "elif condição2:\n",
        "    # bloco de código a ser executado se a condição2 for verdadeira\n",
        "else:\n",
        "    # bloco de código a ser executado se nenhuma das condições\n",
        "    # anteriores forem verdadeiras\n",
        "'''"
      ],
      "metadata": {
        "id": "Ud5UB-B37mPh"
      },
      "execution_count": null,
      "outputs": []
    },
    {
      "cell_type": "markdown",
      "source": [
        "Exemplo: Faça um algoritmo que avalie a nota do aluno:\n",
        "\n",
        "* se ele tirou igual ou acima de 90, seu conceito é A;\n",
        "* se ele tirou igual ou acima de 80, seu conceito é B;\n",
        "* se ele tirou igual ou acima de 70, seu conceito é C;\n",
        "* se ele tirou abaixo de 70, seu conceito é D;"
      ],
      "metadata": {
        "id": "M8NY5pyZBuxv"
      }
    },
    {
      "cell_type": "code",
      "source": [
        "# Entrada de dados\n",
        "nota = float(input('Digitar a nota do aluno: '))\n",
        "\n",
        "#Avaliação e decisão\n",
        "if nota >= 90:\n",
        "  print('Sua nota é A!')\n",
        "\n",
        "elif nota >= 80:\n",
        "  print('Sua nota é B!')\n",
        "\n",
        "elif nota >= 70:\n",
        "  print('Sua nota é C!')\n",
        "\n",
        "else:\n",
        "  print('Sua nota é D!')\n",
        "\n",
        "# Desafio: Conserte o código\n"
      ],
      "metadata": {
        "colab": {
          "base_uri": "https://localhost:8080/"
        },
        "id": "3w8ZqtWw9Lah",
        "outputId": "4ea3e3c9-bf6a-4d81-8221-aa178462f4e3"
      },
      "execution_count": null,
      "outputs": [
        {
          "output_type": "stream",
          "name": "stdout",
          "text": [
            "Digitar a nota do aluno: 101\n",
            "Sua nota é A!\n"
          ]
        }
      ]
    },
    {
      "cell_type": "code",
      "source": [
        "# Entrada de dados\n",
        "nota = float(input('Digite a nota do aluno: '))\n",
        "\n",
        "# Avaliação e decisão\n",
        "if nota < 0 or nota > 100:\n",
        "    print('Nota inválida! A nota deve estar entre 0 e 100.')\n",
        "elif nota >= 90:\n",
        "    print('Sua nota é A!')\n",
        "elif nota >= 80:\n",
        "    print('Sua nota é B!')\n",
        "elif nota >= 70:\n",
        "    print('Sua nota é C!')\n",
        "else:\n",
        "    print('Sua nota é D!')"
      ],
      "metadata": {
        "colab": {
          "base_uri": "https://localhost:8080/"
        },
        "id": "JhEw5FpVGR9j",
        "outputId": "4a1c379c-b7ac-4649-83e8-c7755a980bbe"
      },
      "execution_count": null,
      "outputs": [
        {
          "output_type": "stream",
          "name": "stdout",
          "text": [
            "Digite a nota do aluno: -1\n",
            "Nota inválida! A nota deve estar entre 0 e 100.\n"
          ]
        }
      ]
    },
    {
      "cell_type": "code",
      "source": [
        "# Problemas de IMC\n",
        "\n",
        "# Entradas de dados\n",
        "nome = input('Digite seu nome: ')\n",
        "peso = float(input('Informe seu peso: '))\n",
        "altura = float(input('Informe sua altura: '))\n",
        "\n",
        "# calculando o IMC\n",
        "imc = peso / altura ** 2\n",
        "\n",
        "# Imprimindo na tela\n",
        "print(f'{nome}, seu IMC é: {imc:.2f}')\n",
        "\n",
        "# Verificando a classificação do IMC do paciente\n",
        "\n",
        "if imc < 18.5:\n",
        "  print('Você está abaixo do peso')\n",
        "\n",
        "elif imc >= 18.5 and imc < 25:\n",
        "  print('Seu peso está normal')\n",
        "\n",
        "elif imc >=25 and imc < 40:\n",
        "  print('Seu peso está sobrepeso')\n",
        "\n",
        "else:\n",
        "  print('Você está obeso')"
      ],
      "metadata": {
        "colab": {
          "base_uri": "https://localhost:8080/"
        },
        "id": "vbAg6Ux9Gb0u",
        "outputId": "133ccdd2-3e47-4e9c-9de4-3d7efbf02cc7"
      },
      "execution_count": null,
      "outputs": [
        {
          "output_type": "stream",
          "name": "stdout",
          "text": [
            "Digite seu nome: j\n",
            "Informe seu peso: 1.61\n",
            "Informe sua altura: 1.61\n",
            "j, seu IMC é: 0.62\n",
            "Você está abaixo do peso\n"
          ]
        }
      ]
    },
    {
      "cell_type": "markdown",
      "source": [
        "# ** IF , ELSE, ELIF aninhado**"
      ],
      "metadata": {
        "id": "QtHuvKMZPJKD"
      }
    },
    {
      "cell_type": "markdown",
      "source": [
        "Condição aninhada: Este programa em Python solicita a nota e a frequência do aluno em uma disciplina e determina se ele foi aprovado ou reprovado. Se a frequência for igual ou superior a 75% e a nota for igual ou superior a 60, o aluno é aprovado. Caso contrário, ele é reprovado, seja por nota ou por frequência."
      ],
      "metadata": {
        "id": "YsRZc3qbP8f-"
      }
    },
    {
      "cell_type": "code",
      "source": [
        "# Entrada de dados\n",
        "frequencia = int(input('Digite a frequência do aluno: '))\n",
        "nota = float(input('Digite a nota do aluno: '))\n",
        "\n",
        "# Comparação e decisão\n",
        "if frequencia >= 75 and frequencia <= 100:\n",
        "    if nota >= 60 and nota <= 100:\n",
        "        print('Aluno aprovado por nota e frequência')\n",
        "    else:\n",
        "        print('Aluno reprovado por nota')\n",
        "else:\n",
        "    print('Aluno reprovado por frequência')"
      ],
      "metadata": {
        "id": "hTY5_xGUPUjJ"
      },
      "execution_count": null,
      "outputs": []
    },
    {
      "cell_type": "code",
      "source": [
        "# Correção do código\n",
        "\n",
        "# Entrada de dados\n",
        "frequencia = int(input('Digite a frequência do aluno: '))\n",
        "\n",
        "# Verificação da entrada\n",
        "if frequencia > 100 or frequencia < 0:\n",
        "    print('Frequência inválida. A frequência deve estar entre 0 e 100.')\n",
        "else:\n",
        "    nota = float(input('Digite a nota do aluno: '))\n",
        "\n",
        "    # Verificação da entrada de nota\n",
        "    if nota > 100 or nota < 0:\n",
        "        print('Nota inválida. A nota deve estar entre 0 e 100.')\n",
        "    else:\n",
        "        # Comparação e decisão\n",
        "        if frequencia >= 75 and nota >= 60:\n",
        "            print('Aluno aprovado por nota e frequência')\n",
        "        elif frequencia >= 75:\n",
        "            print('Aluno reprovado por nota')\n",
        "        else:\n",
        "            print('Aluno reprovado por frequência')\n"
      ],
      "metadata": {
        "colab": {
          "base_uri": "https://localhost:8080/"
        },
        "id": "fCawk-ggU5Kh",
        "outputId": "93b16db1-83e6-4653-dfbf-8eed6a34a2c3"
      },
      "execution_count": null,
      "outputs": [
        {
          "output_type": "stream",
          "name": "stdout",
          "text": [
            "Digite a frequência do aluno: 80\n",
            "Digite a nota do aluno: 101\n",
            "Nota inválida. A nota deve estar entre 0 e 100.\n"
          ]
        }
      ]
    },
    {
      "cell_type": "markdown",
      "source": [
        "# **ATIVIDADE**\n",
        "* Crie um algoritmo que leia a nota de um aluno e verifique se ele passou com média 7\n",
        "\n",
        "* Crie um algoritmo que leia 5 notas de um aluno e verifique se ele passou com média 7\n",
        "\n",
        "* Crie um algoritmo que leia 5 notas de 3 alunos e verifique se eles passaram com média 7\n",
        "\n",
        "* Crie um algoritmo que leia 5 notas de uma escola com 580 alunos e verifique se eles\n",
        "\n",
        "* passaram com média 7\n",
        "\n",
        "* Crie um algoritmo que leia 5 notas de uma universidade que possui 10 mil alunos\n",
        "\n",
        "Limitações: As estruturas condicionais toma apenas uma decisão, a primeira que é verdadeira. Elas funcionam bem para coisas simples e se você não organizar o código direito, pode causar problemas.\n"
      ],
      "metadata": {
        "id": "HiVVLz3cVtAa"
      }
    },
    {
      "cell_type": "code",
      "source": [],
      "metadata": {
        "id": "ZXTNk9TUWtc3"
      },
      "execution_count": null,
      "outputs": []
    }
  ]
}