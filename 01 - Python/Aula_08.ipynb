{
  "nbformat": 4,
  "nbformat_minor": 0,
  "metadata": {
    "colab": {
      "provenance": []
    },
    "kernelspec": {
      "name": "python3",
      "display_name": "Python 3"
    },
    "language_info": {
      "name": "python"
    }
  },
  "cells": [
    {
      "cell_type": "markdown",
      "source": [
        "## **Tuplas**\n",
        "* São imutáveis: uma vez criadas, não podemos alterar\n",
        "* São ordenáveis: elas mantêm uma ordem especifica com acesso via índice\n",
        "* Permite heterogeneidade: podem conter elementos de diversos tipos\n",
        "* Sintaxe simples: para uma criar uma tupla usamos parênteses."
      ],
      "metadata": {
        "id": "GJxrEMrtJGaP"
      }
    },
    {
      "cell_type": "code",
      "execution_count": null,
      "metadata": {
        "id": "mO4gLFlnJFgh"
      },
      "outputs": [],
      "source": [
        "# Criando uma tupla\n",
        "\n",
        "nomes = ('Fran', 'Bel', 'Bela')\n",
        "pesos = (51, 15, 40)\n",
        "alturas = (1.65, 1.)"
      ]
    },
    {
      "cell_type": "code",
      "source": [
        "# acessando elementos dentro das tuplas\n",
        "print(f'{nomes[0]} tem {pesos[0] } kg e {alturas[0]} metros')"
      ],
      "metadata": {
        "colab": {
          "base_uri": "https://localhost:8080/"
        },
        "id": "4ts4Eek2JvLh",
        "outputId": "27bcf8a0-902e-47c5-9e7a-159d4b8df070"
      },
      "execution_count": null,
      "outputs": [
        {
          "output_type": "stream",
          "name": "stdout",
          "text": [
            "Fran tem 51 kg e 1.65 metros\n"
          ]
        }
      ]
    },
    {
      "cell_type": "code",
      "source": [
        "# Transformando listas em tuplas\n",
        "produtos = ['teclado', 'mouse', 'monitor', 'placa-mãe']\n",
        "print(type(produtos))"
      ],
      "metadata": {
        "colab": {
          "base_uri": "https://localhost:8080/"
        },
        "id": "-dZZg9_pKtx6",
        "outputId": "daae8222-e4f3-4027-c6f4-101f3330ddb7"
      },
      "execution_count": null,
      "outputs": [
        {
          "output_type": "stream",
          "name": "stdout",
          "text": [
            "<class 'list'>\n"
          ]
        }
      ]
    },
    {
      "cell_type": "code",
      "source": [
        "# convertendo lista em tupla\n",
        "produtos = tuple(produtos)\n",
        "print(type(produtos))\n",
        "produtos = list(produtos)\n",
        "print(produtos)"
      ],
      "metadata": {
        "colab": {
          "base_uri": "https://localhost:8080/"
        },
        "id": "XMWGAGF0KvuR",
        "outputId": "0ce48e16-632a-4021-f576-0ba5dd0114d2"
      },
      "execution_count": null,
      "outputs": [
        {
          "output_type": "stream",
          "name": "stdout",
          "text": [
            "<class 'tuple'>\n",
            "['teclado', 'mouse', 'monitor', 'placa-mãe']\n"
          ]
        }
      ]
    },
    {
      "cell_type": "markdown",
      "source": [
        "## **Dicionários**\n",
        "\n",
        "*  Estrutura Chave-valor: Cada elemento no dicionário consiste em uma chave associada a um valor\n",
        "*  Mutabilidade: Diferentemente das tuplas, os dicionários são MUTÁVEIS. Isso significa que você pode adicionar, remover ou modificar elementos em um dicionário após sua criação.\n",
        "*  Chaves únicas: As chaves em um dicionários são únicas, garantindo que não existam chaves duplicadas."
      ],
      "metadata": {
        "id": "IkjR7D9HLpfV"
      }
    },
    {
      "cell_type": "code",
      "source": [
        "# Criando e armazenando em um dicionário as informações de nome, idade, peso e altura\n",
        "\n",
        "funcionario = {'nome':'Luciana',\n",
        "               'idade': 34,\n",
        "               'altura': 1.61,\n",
        "               'peso': 96.7}\n",
        "\n",
        "print(funcionario)"
      ],
      "metadata": {
        "colab": {
          "base_uri": "https://localhost:8080/"
        },
        "id": "iQGK6Nb3RbS_",
        "outputId": "f2f4c16c-a25a-4216-b6f4-dcc0558027d6"
      },
      "execution_count": null,
      "outputs": [
        {
          "output_type": "stream",
          "name": "stdout",
          "text": [
            "{'nome': 'Luciana', 'idade': 34, 'altura': 1.61, 'peso': 96.7}\n"
          ]
        }
      ]
    },
    {
      "cell_type": "code",
      "source": [
        "# acessando valor da chave\n",
        "print(funcionario['nome'])\n",
        "print(funcionario['idade'])\n",
        "print(funcionario['altura'])\n",
        "print(funcionario['peso'])"
      ],
      "metadata": {
        "colab": {
          "base_uri": "https://localhost:8080/"
        },
        "id": "niKWu8xDSIck",
        "outputId": "231ac48b-c5dc-46bb-c303-db9d355d92f9"
      },
      "execution_count": null,
      "outputs": [
        {
          "output_type": "stream",
          "name": "stdout",
          "text": [
            "Luciana\n",
            "34\n",
            "1.61\n",
            "96.7\n"
          ]
        }
      ]
    },
    {
      "cell_type": "code",
      "source": [
        "# Outra forma de acessar valor no meu dicionário\n",
        "print(funcionario.get('nome'))\n",
        "print(funcionario.get('idade'))\n",
        "print(funcionario.get('altura'))\n",
        "print(funcionario.get('peso'))"
      ],
      "metadata": {
        "colab": {
          "base_uri": "https://localhost:8080/"
        },
        "id": "0GiRYYWqSStp",
        "outputId": "cd6db1d1-3068-409f-b0ba-f6e9d23bb154"
      },
      "execution_count": null,
      "outputs": [
        {
          "output_type": "stream",
          "name": "stdout",
          "text": [
            "Luciana\n",
            "34\n",
            "1.61\n",
            "96.7\n"
          ]
        }
      ]
    },
    {
      "cell_type": "code",
      "source": [
        "# Vamos fazer uma lista dentro de um dicionário\n",
        "dicionario_lista = {'nome': 'Franciane',\n",
        "                    'idade': 34,\n",
        "                    'animais':['Bel','Bia','Bela','Kika'],\n",
        "                    'idades':[13, 7, 4, 7]\n",
        "                    }\n",
        "print(dicionario_lista)"
      ],
      "metadata": {
        "colab": {
          "base_uri": "https://localhost:8080/"
        },
        "id": "-8O6qetJSwc6",
        "outputId": "70c33e80-69c1-4fec-a20d-4c44bf6c452f"
      },
      "execution_count": null,
      "outputs": [
        {
          "output_type": "stream",
          "name": "stdout",
          "text": [
            "{'nome': 'Franciane', 'idade': 34, 'animais': ['Bel', 'Bia', 'Bela', 'Kika'], 'idades': [13, 7, 4, 7]}\n"
          ]
        }
      ]
    },
    {
      "cell_type": "code",
      "source": [
        "# Métodos importantes\n",
        "# Utilize os métodos keys() e values()\n",
        "# Serve para obter todas as chaves ou valores do dicionário\n",
        "\n",
        "chaves = dicionario_lista.keys()\n",
        "print(chaves)\n",
        "\n",
        "valores = dicionario_lista.values()\n",
        "print(valores)"
      ],
      "metadata": {
        "colab": {
          "base_uri": "https://localhost:8080/"
        },
        "id": "gbZF1xw-Wjs7",
        "outputId": "53124bb9-5648-404c-9c91-95f32de1a2c0"
      },
      "execution_count": null,
      "outputs": [
        {
          "output_type": "stream",
          "name": "stdout",
          "text": [
            "dict_keys(['nome', 'idade', 'animais', 'idades'])\n",
            "dict_values(['Franciane', 34, ['Bel', 'Bia', 'Bela', 'Kika'], [13, 7, 4, 7]])\n"
          ]
        }
      ]
    },
    {
      "cell_type": "code",
      "source": [
        "# Declarar um dicionário\n",
        "pessoa = {'nome': 'Joaquim da Silva',\n",
        "          'telefone': '(11)33333-3333',\n",
        "          'cpf': '000.000.000-00'\n",
        "          }\n",
        "\n",
        "# Coloca o nome da chave\n",
        "print(pessoa['nome'])\n",
        "print(pessoa['telefone'])\n",
        "print(pessoa['cpf'])\n"
      ],
      "metadata": {
        "colab": {
          "base_uri": "https://localhost:8080/"
        },
        "id": "0HVLnZ3NaSt1",
        "outputId": "6849c09c-54d1-4a43-f720-7656a5fbe0e1"
      },
      "execution_count": null,
      "outputs": [
        {
          "output_type": "stream",
          "name": "stdout",
          "text": [
            "Joaquim da Silva\n",
            "(11)33333-3333\n",
            "000.000.000-00\n"
          ]
        }
      ]
    },
    {
      "cell_type": "code",
      "source": [
        "# Exemplo 2: Lista dentro do dicionário\n",
        "telefones = ['(11)9.0000-0000', '(21)9.0000-0000', '(31)9.0000-0000']\n",
        "\n",
        "telefones = {'sp':['(11)9.0000-0000', '(11)9.0000-0001','(11)9.0000-0002'],\n",
        "             'rj':'(21)9.0000-0000',\n",
        "             'mg': '(31)9.0000-0000' }\n",
        "\n",
        "# Informação pela chave\n",
        "print(telefones['sp'])"
      ],
      "metadata": {
        "colab": {
          "base_uri": "https://localhost:8080/"
        },
        "id": "ekciONGOagrB",
        "outputId": "1fff3099-af9d-4eb9-ba82-7643cd39761b"
      },
      "execution_count": null,
      "outputs": [
        {
          "output_type": "stream",
          "name": "stdout",
          "text": [
            "['(11)9.0000-0000', '(11)9.0000-0001', '(11)9.0000-0002']\n"
          ]
        }
      ]
    },
    {
      "cell_type": "code",
      "source": [
        "# Criando uma lista\n",
        "lista = ['cris', 'ro']\n",
        "\n",
        "# Adicionando uma lista de itens ao final da lista\n",
        "lista.extend(['ana', 'marcos', 'carina'])\n",
        "\n",
        "# Imprimindo a lista\n",
        "print(lista)"
      ],
      "metadata": {
        "colab": {
          "base_uri": "https://localhost:8080/"
        },
        "id": "ieuSZSwqfv1O",
        "outputId": "b1c68aa5-44bd-4d8c-ca92-4711e4ddac7e"
      },
      "execution_count": null,
      "outputs": [
        {
          "output_type": "stream",
          "name": "stdout",
          "text": [
            "['cris', 'ro', 'ana', 'marcos', 'carina']\n"
          ]
        }
      ]
    },
    {
      "cell_type": "markdown",
      "source": [
        "## **Estrutura de Repetição WHILLE**\n",
        "\n",
        "* A estrutura while é uma das formas mais comuns de controle de fluxo em programação, permitindo que um bloco de código seja executado repetidamente enquanto uma condição especificada seja verdadeira. É crucial garantir que a condição eventualmente se torne falsa, pois, se não o fizer, seu programa ficará preso em um \"loop infinito\", consumindo recursos da máquina indefinidamente."
      ],
      "metadata": {
        "id": "SEpvXh5cfxi8"
      }
    },
    {
      "cell_type": "code",
      "source": [
        "'''\n",
        "while condição:\n",
        "    blocodecodigo1\n",
        "'''"
      ],
      "metadata": {
        "id": "HciHairygMp8"
      },
      "execution_count": null,
      "outputs": []
    },
    {
      "cell_type": "markdown",
      "source": [
        "* O while não possui um contador interno. Em vez disso, ele depende de uma condição para continuar ou interromper a repetição. Isso o torna muito flexível e útil"
      ],
      "metadata": {
        "id": "_sCw2JEfgkjB"
      }
    },
    {
      "cell_type": "code",
      "source": [
        "'''\n",
        "i = 1, 0 , -1 ou outros (inicio da contagem, também chamada de váriável de indexação ou controle)\n",
        "\n",
        "while condição (normalmente um operador relacional com a condição de parada):\n",
        "    bloco de codigo enquanto a condição é verdadeira\n",
        "    operadores de atribuição\n",
        "'''"
      ],
      "metadata": {
        "id": "PxTc5YOZg46t"
      },
      "execution_count": null,
      "outputs": []
    },
    {
      "cell_type": "code",
      "source": [
        "# O while necessita de um contador\n",
        "# O while precisa ser incrementado ou decrementado\n",
        "'''\n",
        "5\n",
        "4\n",
        "3\n",
        "2\n",
        "1\n",
        "'''\n",
        "\n",
        "contagem = 5                      # é da onde eu inicio\n",
        "while contagem > 0:               # condição parada\n",
        "    print(contagem)               # imprimir na tela\n",
        "    contagem -= 1                 # como?\n",
        "    # contagem = contagem - 1\n"
      ],
      "metadata": {
        "colab": {
          "base_uri": "https://localhost:8080/"
        },
        "id": "W7fM8BD-hQdd",
        "outputId": "e31c5292-8999-4d79-9a5c-d2b939686897"
      },
      "execution_count": null,
      "outputs": [
        {
          "output_type": "stream",
          "name": "stdout",
          "text": [
            "5\n",
            "4\n",
            "3\n",
            "2\n",
            "1\n"
          ]
        }
      ]
    },
    {
      "cell_type": "code",
      "source": [
        "i = 5\n",
        "while i > 0:\n",
        "    print(i)\n",
        "    i -= 1"
      ],
      "metadata": {
        "colab": {
          "base_uri": "https://localhost:8080/"
        },
        "id": "BZc4sH9gj3lA",
        "outputId": "a1be552b-e34f-4c7d-9d02-175ee6d6aa78"
      },
      "execution_count": null,
      "outputs": [
        {
          "output_type": "stream",
          "name": "stdout",
          "text": [
            "5\n",
            "4\n",
            "3\n",
            "2\n",
            "1\n"
          ]
        }
      ]
    },
    {
      "cell_type": "code",
      "source": [
        "# Validando informações do usuário\n",
        "\n",
        "numero_secreto = 42\n",
        "palpite = 0\n",
        "tentativas = 0\n",
        "\n",
        "while palpite != numero_secreto:\n",
        "    palpite = int(input('Adivinhe o numero secreto. Escreva aqui: '))\n",
        "    tentativas += 1\n",
        "    # tentativa = tentativa + 1\n",
        "\n",
        "print(f'Parabéns! Você acertou em {tentativas} tentativas o número secreto!')"
      ],
      "metadata": {
        "colab": {
          "base_uri": "https://localhost:8080/"
        },
        "id": "oCNG9DWHmKgZ",
        "outputId": "70ec553f-19a8-4f12-f8e0-4c37975cf838"
      },
      "execution_count": null,
      "outputs": [
        {
          "output_type": "stream",
          "name": "stdout",
          "text": [
            "Adivinhe o numero secreto. Escreva aqui: 20\n",
            "Adivinhe o numero secreto. Escreva aqui: 79\n",
            "Adivinhe o numero secreto. Escreva aqui: 59\n",
            "Adivinhe o numero secreto. Escreva aqui: 563\n",
            "Adivinhe o numero secreto. Escreva aqui: 6565\n",
            "Adivinhe o numero secreto. Escreva aqui: 42\n",
            "Parabéns! Você acertou em 6 tentativas o número secreto!\n"
          ]
        }
      ]
    },
    {
      "cell_type": "code",
      "source": [
        "# Pedir para o usuário digitar um número positivo!\n",
        "# Se o usuário digitar um número que não seja positivo de um recado\n",
        "# \"Solicita ao usuário que insira um número positivo\"\n"
      ],
      "metadata": {
        "id": "JoB_vg4Lo5hN"
      },
      "execution_count": null,
      "outputs": []
    },
    {
      "cell_type": "code",
      "source": [
        "numero = float(input(\"Digite um número positivo: \"))\n",
        "while numero <= 0:\n",
        "    print(\"Por favor, insira um número positivo.\")\n",
        "    numero = float(input(\"Digite um número positivo: \"))\n",
        "\n",
        "print(\"O número inserido é:\", numero)"
      ],
      "metadata": {
        "colab": {
          "base_uri": "https://localhost:8080/"
        },
        "id": "QUE6Iu1qrmQA",
        "outputId": "c8535ccf-d61e-441d-e1a6-998d352fdeb1"
      },
      "execution_count": null,
      "outputs": [
        {
          "output_type": "stream",
          "name": "stdout",
          "text": [
            "Digite um número positivo: -5\n",
            "Por favor, insira um número positivo.\n",
            "Digite um número positivo: 0\n",
            "Por favor, insira um número positivo.\n",
            "Digite um número positivo: -9\n",
            "Por favor, insira um número positivo.\n",
            "Digite um número positivo: 3\n",
            "O número inserido é: 3.0\n"
          ]
        }
      ]
    },
    {
      "cell_type": "code",
      "source": [
        "# Pedir para o usuário digitar um número positivo!\n",
        "# Se o usuário digitar um número que não seja positivo de um recado\n",
        "# \"Solicita ao usuário que insira um número positivo\"\n",
        "numero = float(input('Digite um numero positivo: '))\n",
        "# Continua solicitando entrada até que o número seja positivo\n",
        "while numero <= 0:\n",
        "    numero = float(input('O numero não é positivo! Eu quero um número positivo: '))\n",
        "# Quando um número positivo é inserido, exibe uma mensagem\n",
        "print(\"Temos um número positivo! Show de bolinha\")"
      ],
      "metadata": {
        "colab": {
          "base_uri": "https://localhost:8080/"
        },
        "id": "1UGR4mRMwSAG",
        "outputId": "af8aa21a-0ad0-44b9-cb73-c4c48a39be77"
      },
      "execution_count": null,
      "outputs": [
        {
          "output_type": "stream",
          "name": "stdout",
          "text": [
            "Digite um numero positivo: -8\n",
            "O numero não é positivo! Eu quero um número positivo: 2\n",
            "Temos um número positivo! Show de bolinha\n"
          ]
        }
      ]
    },
    {
      "cell_type": "markdown",
      "source": [
        "**Controle de Estoque**\n",
        "Problema: Você precisa controlar o estoque de um determinado produto. O estoque inicial é de 100 unidades. A cada venda realizada, você precisa atualizar o estoque restante até que o estoque seja zerado."
      ],
      "metadata": {
        "id": "qlFUxfbssXvA"
      }
    },
    {
      "cell_type": "code",
      "source": [
        "estoque = 100\n",
        "\n",
        "print(\"Bem-vindo ao Controle de Estoque\")\n",
        "\n",
        "while estoque > 0:\n",
        "    venda = int(input(\"Quantas unidades foram vendidas? \"))\n",
        "    estoque -= venda\n",
        "\n",
        "print(\"O estoque está zerado. Não há mais unidades disponíveis.\")\n"
      ],
      "metadata": {
        "colab": {
          "base_uri": "https://localhost:8080/"
        },
        "id": "YPj6IjumsZfK",
        "outputId": "4f01ff4e-a548-402d-f273-cefff45a6d12"
      },
      "execution_count": null,
      "outputs": [
        {
          "output_type": "stream",
          "name": "stdout",
          "text": [
            "Bem-vindo ao Controle de Estoque\n",
            "Quantas unidades foram vendidas? 50\n",
            "Quantas unidades foram vendidas? 2\n",
            "Quantas unidades foram vendidas? 50\n",
            "O estoque está zerado. Não há mais unidades disponíveis.\n"
          ]
        }
      ]
    },
    {
      "cell_type": "code",
      "source": [
        "# Boas vindas\n",
        "print(\"Bem-vindo ao sistema de controle de estoque.\")\n",
        "\n",
        "estoque_inicial = 100\n",
        "continuar = True # Variável para controlar se o usuário quer continuar no sistema ou não.\n",
        "\n",
        "# Enquanto ainda houver unidades no estoque e o usuário quiser continuar:\n",
        "while estoque_inicial > 0 and continuar:\n",
        "    venda = int(input(\"Quantas unidades foram vendidas? (Digite 0 para sair) \"))\n",
        "\n",
        "    # Se o usuário digitou 0, quer sair do sistema.\n",
        "    if venda == 0:\n",
        "        continuar = False\n",
        "        print(\"Encerrando o sistema de controle de estoque.\")\n",
        "\n",
        "    # Se a quantidade de unidades vendidas for maior que o estoque disponível, avisa o usuário.\n",
        "    elif venda > estoque_inicial:\n",
        "         print(\"Não há unidades suficientes em estoque. Apenas\", estoque_inicial, \"unidades disponíveis.\")\n",
        "\n",
        "    # Caso contrário, subtrai a quantidade vendida do estoque e mostra o estoque restante.\n",
        "    else:\n",
        "        estoque_inicial -= venda # estoque_inicial = estoque_inicial - venda\n",
        "        print(\"Venda realizada. Estoque restante:\", estoque_inicial)\n",
        "\n",
        "\n",
        "# Quando o estoque acabar, mostra uma mensagem indicando que não há mais unidades disponíveis.\n",
        "if estoque_inicial == 0:\n",
        "    print(\"Estoque zerado. Não há mais unidades disponíveis.\")"
      ],
      "metadata": {
        "colab": {
          "base_uri": "https://localhost:8080/"
        },
        "id": "hEixo9nKwzlg",
        "outputId": "64bc9b61-35e6-4c46-c0d4-6be68bbaa226"
      },
      "execution_count": null,
      "outputs": [
        {
          "output_type": "stream",
          "name": "stdout",
          "text": [
            "Bem-vindo ao sistema de controle de estoque.\n",
            "Quantas unidades foram vendidas? (Digite 0 para sair) -1\n",
            "Venda realizada. Estoque restante: 101\n",
            "Quantas unidades foram vendidas? (Digite 0 para sair) 5\n",
            "Venda realizada. Estoque restante: 96\n",
            "Quantas unidades foram vendidas? (Digite 0 para sair) 97\n",
            "Não há unidades suficientes em estoque. Apenas 96 unidades disponíveis.\n",
            "Quantas unidades foram vendidas? (Digite 0 para sair) -8\n",
            "Venda realizada. Estoque restante: 104\n",
            "Quantas unidades foram vendidas? (Digite 0 para sair) -104\n",
            "Venda realizada. Estoque restante: 208\n",
            "Quantas unidades foram vendidas? (Digite 0 para sair) 208\n",
            "Venda realizada. Estoque restante: 0\n",
            "Estoque zerado. Não há mais unidades disponíveis.\n"
          ]
        }
      ]
    }
  ]
}