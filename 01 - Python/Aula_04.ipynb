{
  "nbformat": 4,
  "nbformat_minor": 0,
  "metadata": {
    "colab": {
      "provenance": []
    },
    "kernelspec": {
      "name": "python3",
      "display_name": "Python 3"
    },
    "language_info": {
      "name": "python"
    }
  },
  "cells": [
    {
      "cell_type": "markdown",
      "source": [
        "#**Introdução ao Python**\n"
      ],
      "metadata": {
        "id": "UT5SKUzyA0Pj"
      }
    },
    {
      "cell_type": "markdown",
      "source": [
        "Escola: Soulcode Academy\n",
        "\n",
        "Curso: Análise de Dados e Dashboards\n",
        "\n",
        "Período: Noturno\n",
        "\n",
        "Assunto: Python\n",
        "\n",
        "Professora: Franciane Rodrigues"
      ],
      "metadata": {
        "id": "AEELIkEtA6Z3"
      }
    },
    {
      "cell_type": "markdown",
      "source": [
        "## **Coletando informações do usuário**"
      ],
      "metadata": {
        "id": "0it1bDGHBLU0"
      }
    },
    {
      "cell_type": "code",
      "source": [
        "# print , type, float, int, str, input"
      ],
      "metadata": {
        "id": "xHi3jjj8Bxwv"
      },
      "execution_count": null,
      "outputs": []
    },
    {
      "cell_type": "code",
      "source": [
        "# Coletando informação do usuário com input\n",
        "nome = input('Qual é seu nome? ')\n",
        "print('O nome é: ', nome)"
      ],
      "metadata": {
        "colab": {
          "base_uri": "https://localhost:8080/"
        },
        "id": "RdlZNrmZB7Hf",
        "outputId": "b7f21e1e-401f-4176-db1f-8a9034fc98df"
      },
      "execution_count": null,
      "outputs": [
        {
          "output_type": "stream",
          "name": "stdout",
          "text": [
            "Qual é seu nome? EU\n",
            "O nome é:  EU\n"
          ]
        }
      ]
    },
    {
      "cell_type": "code",
      "source": [
        "# Coletando informação do numéricas do usuário com input\n",
        "idade = int (input('Qual é sua idade? '))\n",
        "print('A idade é: ', idade)"
      ],
      "metadata": {
        "colab": {
          "base_uri": "https://localhost:8080/"
        },
        "id": "UzdDFLBWCooj",
        "outputId": "4907ca16-a356-4393-ea7d-4b3a0418cf32"
      },
      "execution_count": null,
      "outputs": [
        {
          "output_type": "stream",
          "name": "stdout",
          "text": [
            "Qual é sua idade? 42\n",
            "A idade é:  42\n"
          ]
        }
      ]
    },
    {
      "cell_type": "code",
      "source": [
        "# peso\n",
        "peso = int (input('Qual é seu peso? '))\n",
        "print('Seu peso é: ', peso,'Kg')"
      ],
      "metadata": {
        "colab": {
          "base_uri": "https://localhost:8080/"
        },
        "id": "s0wZMKUmEfz8",
        "outputId": "5292eb17-d2be-4639-9ee9-4ae9bbca6d40"
      },
      "execution_count": null,
      "outputs": [
        {
          "output_type": "stream",
          "name": "stdout",
          "text": [
            "Qual é seu peso? 97\n",
            "Seu peso é:  97 Kg\n"
          ]
        }
      ]
    },
    {
      "cell_type": "code",
      "source": [
        "# altura\n",
        "altura = float (input('Qual é sua altura? '))\n",
        "print('Sua altura é: ', altura,'cm')"
      ],
      "metadata": {
        "colab": {
          "base_uri": "https://localhost:8080/"
        },
        "id": "Ev9lw_6mFWNg",
        "outputId": "ca01b4cc-49dd-425a-adad-cf55d4259256"
      },
      "execution_count": null,
      "outputs": [
        {
          "output_type": "stream",
          "name": "stdout",
          "text": [
            "Qual é sua altura? 1.61\n",
            "Sua altura é:  1.61 cm\n"
          ]
        }
      ]
    },
    {
      "cell_type": "code",
      "source": [
        "# Crie um código calculando o IMC e imprima na tela o resultado\n",
        "nome = input('Qual é seu nome? ')\n",
        "peso = int (input('Qual é seu peso? '))\n",
        "altura = float (input('Qual é sua altura? '))\n",
        "\n",
        "#Calculando o IMC\n",
        "imc = peso / altura ** 2\n",
        "\n",
        "#Imprimindo na tela\n",
        "print(f'{nome}, seu imc é: {imc:.2f}')"
      ],
      "metadata": {
        "colab": {
          "base_uri": "https://localhost:8080/"
        },
        "id": "VvWfDCrtG0ia",
        "outputId": "bfa81690-5a75-4a39-9a4a-c916cb87fdb0"
      },
      "execution_count": null,
      "outputs": [
        {
          "output_type": "stream",
          "name": "stdout",
          "text": [
            "Qual é seu nome? Flores\n",
            "Qual é seu peso? 78\n",
            "Qual é sua altura? 1.98\n",
            "Flores, seu imc é: 19.90\n"
          ]
        }
      ]
    },
    {
      "cell_type": "code",
      "source": [
        "# Outra forma de escrever o resultado\n",
        "print(nome + ', seu imc é: ', + round(imc,2))"
      ],
      "metadata": {
        "colab": {
          "base_uri": "https://localhost:8080/"
        },
        "id": "Q9JqWdn6JUSL",
        "outputId": "c4f94884-1e78-4edd-eda8-95eac1519fbc"
      },
      "execution_count": null,
      "outputs": [
        {
          "output_type": "stream",
          "name": "stdout",
          "text": [
            "Flores, seu imc é:  19.9\n"
          ]
        }
      ]
    },
    {
      "cell_type": "markdown",
      "source": [
        "# **STRING - Encontrando um caracter pelo Índice**"
      ],
      "metadata": {
        "id": "gobOw-vvSghC"
      }
    },
    {
      "cell_type": "code",
      "source": [
        "# Definindo uma string\n",
        "nome = 'Franciane'\n",
        "#       012345678 (Python)\n",
        "#       123456789 (Ordinal)"
      ],
      "metadata": {
        "id": "Put7HnCZTEV1"
      },
      "execution_count": null,
      "outputs": []
    },
    {
      "cell_type": "code",
      "source": [
        "# Exemplo: Imprima na tela o primeiro caracter da String\n",
        "nome[0] # Sintaxe básica de localização de caracter\n",
        "print('O primeiro caracter da string é: ', nome[0])"
      ],
      "metadata": {
        "colab": {
          "base_uri": "https://localhost:8080/"
        },
        "id": "vTZtdCEZTvxz",
        "outputId": "1683da66-4600-4c56-f1ac-af69385be73c"
      },
      "execution_count": null,
      "outputs": [
        {
          "output_type": "stream",
          "name": "stdout",
          "text": [
            "O primeiro carcter da string é:  F\n"
          ]
        }
      ]
    },
    {
      "cell_type": "code",
      "source": [
        "# Exemplo: Imprima na tela o último carcter da string\n",
        "print (nome[-1])\n",
        "print(nome[8])   # Recomando a usar sempre quando forem os ultimos indice reverso\n",
        "print('O último caracter da string: ', nome[-1])"
      ],
      "metadata": {
        "colab": {
          "base_uri": "https://localhost:8080/"
        },
        "id": "PfzJIaW5VBbr",
        "outputId": "3edd732e-cd01-4fa6-9670-512983db55ba"
      },
      "execution_count": null,
      "outputs": [
        {
          "output_type": "stream",
          "name": "stdout",
          "text": [
            "e\n",
            "e\n",
            "O último caracter da string:  e\n"
          ]
        }
      ]
    },
    {
      "cell_type": "code",
      "source": [
        "# Exemplo : Imprima na teal o terceiro caracter da string\n",
        "print (nome[2])\n",
        "print('O terceiro caracter da string: ', nome[2])\n",
        "\n",
        "# Exemplo : Imprima na teal o quinto caracter da string\n",
        "print (nome[4])\n",
        "print('O quinto caracter da string: ', nome[4])"
      ],
      "metadata": {
        "colab": {
          "base_uri": "https://localhost:8080/"
        },
        "id": "UnpUC1jlZ-pL",
        "outputId": "fdadb2f9-d568-43bd-844c-1967afda04a7"
      },
      "execution_count": null,
      "outputs": [
        {
          "output_type": "stream",
          "name": "stdout",
          "text": [
            "a\n",
            "O terceiro caracter da string:  a\n",
            "c\n",
            "O quinto caracter da string:  c\n"
          ]
        }
      ]
    },
    {
      "cell_type": "code",
      "source": [
        "# Atividade em 10 minutos: 20:50\n",
        "# Ex.1 Definindo uma string sendo esta o seu nome\n",
        "nome1 = 'Luciana'\n",
        "# Ex.2 Imprima na tela o primeiro caracter do seu nome (normal e reverso)\n",
        "print (nome1[0])\n",
        "print (nome1[-7])\n",
        "# Ex.3 Imprima na tela o último caracter do seu nome (normal e reverso)\n",
        "print (nome1[-1])\n",
        "print (nome1[6])\n",
        "# Ex.4 Imprima na tela o terceiro caracter do seu nome (normal e reverso)\n",
        "print (nome1[2])\n",
        "print (nome1[-3])"
      ],
      "metadata": {
        "colab": {
          "base_uri": "https://localhost:8080/"
        },
        "id": "7g0RfK4FbW2u",
        "outputId": "6e605dee-29f3-458d-fe50-92553d4fc677"
      },
      "execution_count": null,
      "outputs": [
        {
          "output_type": "stream",
          "name": "stdout",
          "text": [
            "L\n",
            "L\n",
            "a\n",
            "a\n",
            "c\n",
            "a\n"
          ]
        }
      ]
    },
    {
      "cell_type": "markdown",
      "source": [
        "# **SLICING: Fatiamento = Filtro = Intervalos**<p>\n",
        "![image.png](data:image/png;base64,iVBORw0KGgoAAAANSUhEUgAAA+8AAAEwCAYAAADGjUD2AAAgAElEQVR4AeydBXgTSRvHty6UCi1SWqwCBYq7w3G4FHc9XA453F0Ol+PQ4u4Oxa0UalBvOeDucLceTvv/vm2bZJNGJpBm0+bt8+TpyiS7+5t3Z+e3MzvLrb4Wje/5rLkWA11+vmcf1H1Hl/vG/5a6bX3POtq/74s7CWviR/y0iQFJ3OjqvzbbZkmrq/2S/A7LNrVJI/ldXf3XZtssaXW1X5LfYdmmNmkkv6ur/9psmyVtyn4FKZQp/LxwmeI8X3cQrhfMs2xTmzSqtiPlqWw/lC1Lq+9os22WtCr3Q8BEZRol+8myTW3SqMzfNB7SfVOcV7JvfFptts2SVuX2JfujYj9UfY9lm9qkkW5HcT8k+6fuv+J3goiflKc6bpJ1YvFTsl25/VZcL9nfjD4/1GxXun+KaRTmtYl9lrSs201XjvPMFPaNn2fZpjZpUrYh3A4/LZxXsR/S45KsT/uONttmSZtuO4JYUrXvXIVle0AfYkAxQDFAMUAxQDFAMUAxQDFAMUAxQDFAMUAxYLgxQPJONy/o5g3FAMUAxQDFAMUAxQDFAMUAxQDFAMUAxYCBxwDJu4FnEN35Mtw7X5Q3lDcUAxQDFAMUAxQDFAMUAxQDFAMUA/qKAZJ3kne6w0YxQDFAMUAxQDFAMUAxQDFAMUAxQDFAMWDgMUDybuAZpK+7OLQdumNIMUAxQDFAMUAxQDFAMUAxQDFAMUAxYLgxQPJO8k532CgGKAYoBigGKAYoBigGKAYoBigGKAYoBgw8BkjeDTyD6M6X4d75oryhvKEYoBigGKAYoBigGKAYoBigGKAY0FcMkLyTvNMdNooBigGKAYoBigGKAYoBigGKAYoBigGKAQOPAZJ3A88gfd3Foe3QHUOKAYoBigGKAYoBigGKAYoBigGKAYoBw40BkneSd7rDRjFAMUAxQDFAMUAxQDFAMUAxQDFAMUAxYOAxQPJu4BlEd74M984X5Q3lDcUAxQDFAMUAxQDFAMUAxQDFAMWAvmKA5J3kne6wUQxQDFAMUAxQDFAMUAxQDFAMUAxQDFAMGHgMkLwbeAbp6y4Obcfw7xgW6rwDeRttow8xoBigGKAYoBgwyhjgr4PlFhr+9ZrqVJRHFAMUAxkVAyTvJO90h83AY4CvqFjn3gyO20gfYkAxQDFAMUAxYNQxYGazCaVn7qa6i4HXXTJKXOh3SYqNPQZI3qnwowuggcdAgXbbjbqiRjct6KYNxQDFAMUAxYAwBtybbae6i4HXXYxdsOj46SZDRsUAyTsVfnQBNPAY4LvKCystNE2VWIoBigGKAYoBY44B/rqYURVj+l2SLooBigFDjgGSdwMXN0MOHto3/RRuivKe3XuLUT7rSM/703gHFAMUAxQDxhkD/HVPeLOCjwOqg+inDkKciTPFgGHFAMk7yTtdAA08BvhKClVaDKvgpAsZ5QfFAMUAxYD+YoCug/pjTXFNrCkGDDsG1Mr7hpA40IcYUAyIGwN+fU7LyTs/T3kibp4Qf+JPMUAxQDGgvxig66D+WFNcE2uKgYyLgRFHA3+40VStvEc8egH6IwJEQFwCU6bckJN3fp7+iAARIAJEgAgYCwG6DhpLTtNxEoGsTYDkPWvnLx0dEUghQJUWCgQiQASIABEwZgJ0HTTm3KdjJwJZhwDJe9bJSzoSIqCSAFVaVKKhFUSACBABImAEBOg6aASZTIdIBIyAAMm7EWQyHSIRoEoLxQARIAJEgAgYMwG6Dhpz7tOxE4GsQ0Dv8n7nzh3QhxhQDOg3BoYMOSf3zDs/T3mg3zwg3sSbYoBigGJAvBhQvA7yMk9/RIAIEIHMRkCv8p6UlARzc3NUqlSJPhoYeHl5IXfu3MRJAyc+lnLkyIGiRYsSKzWs3NwGyck7P0/noepyyMfHB87OzsRITUxJ4idXrlzw9vYmVgyszMzMiBMDJ19fXzg4OBArBlZ58+aFh4cHsWJgZWbWWu46SPKe2ZSF9pcIEAGegN7l3cnJCQkJCfTRwGDx4sXo2LEjcdLAiY+l+vXrY/PmzcRKDavBg8/IVVr4eToPVZdDGzZsQJMmTYiRmpiSxE+7du2wfPlyYsXAKnv27MSJgdO+fftQrVo1YsXAqk+fPpg5cyaxYmBlb99N7jpI8k4iRASIQGYkYLDy/vjEHLzYO9hoP0FzGmDvYF+jPX5t8n5LL09ELG1JrNScL8dHd8PU2i2kH35eG8bGlvbGYj9s6+NNjPYOBl8W34qNVCkHJO+qbwJJbnBI/pO8s7EieWfjxMcVyTs7K5L3zKgptM9EgAgoEjA4eecriZ8XeQBTOfoQA4oBigGKAQOIgaTZ9rgTEahU4Ene2eWB5J2NFck7GyeSd3ZOPCuSd0UFoHkiQAQyIwGDk/cnR6dSZd0AKut084RuHlEMUAwIY+D5gREk7wxdcyWt7Mr+k7yzyRbJOxsnknd2TiTvmVFRaJ+JABFQRsDg5J3vniusMNI0CQTFAMUAxYD4McCXzcqElFre2QWC5J2NFck7GyeSd3ZOJO/KFICWEQEikBkJGLy8v/+zolE+d0rPvLOPd0DPvGtmRc+8a2YkfK6fnnkfDL7sFd40IXnXThSU3eggeWdjSPLOxonknZ0TyXtmVBTaZyJABJQRMHh5V1VhVFYxykrLaLR59osyjTavmRWNNq+ZkbD8oNHmE1JumpK8axc3whhSNk3yzsaT5J2NEx9jNGAdOyt65l2ZBtAyIkAEMhsBkvcffIZRWQVNF8t0Ke+P58zBi8GDs+xni6cnIlq2zLLHp4u8G11xttwrcvh5XfxuVv2NG35+2ObtnaUZ8eXCrUjVo8jzN05J3tnFgKXcJ3ln40nyzsaJ5J2dE8+K5D2zKQrtLxEgAsoIkLxnYXnnK+afPf4/cj/3/+dl6WPUDKZwLeTknZ+nmKDzIsneHncClY8iT/KunRiQvOuOF8k7O0tqeWdnRfKuTANoGREgApmNAMl7Fpb3J1P/P3I/STsx+H8MkLyTqKsqC56PUD6KPMk7uxSwiDufhlre2ZiSvLNx4mOK5J2dFcl7ZlMU2l8iQASUESB5z8LyzndpVlVhp+XGJXMk78aV39qc33w5oUw+Sd7ZpUAZP2XLSN7ZmJK8s3EieWfnxLMieVemAbSMCBCBzEaA5N2I5P19xYpZ8hleeuZd83gG9My7ZkbC5/ez8jPvfDkglHuSd+0EQJmUsy4jeWdjTfLOxonknZ0TyXtm0xPaXyJABFQRIHk3InlXVUlnrXgaajoabV5zBYZGm9fMSBjfWXm0eb4cIHnXLh6EsfEj0yTvbNxJ3tk48bFI3ebZWVHLuyoVoOVEgAhkJgIk7yTvSrvM/kgFVd/fJXnXXHkhedfMSBi3JO+Z9VVxsQgO3I7eTUrBzs4O+YpXxsgVOxFiIOU8yTvbeUjyzsaJ5J2dE8+K5D0z6QntKxEgAqoIZFF534EB+VzhYG8PeztbWJlx4Dgdfsq0x++7LmWo9OriVXGsLWxCacmM0yTvmiswJO+aGQljn+Q9M8p7PG4EbkH3wgplfc5y6DZrJ4LjtIsBYTzoaprknS0PSN7ZOPFxSS3v7KxI3lWpAC0nAkQgMxHIovIuK8yjT/pjfD1XZFcl75YOcC3giSJFi6Ko4OPj4wNPj0Io4OoCOysrefknec/QGxfaVpRJ3mXxroodybtmRkJ2JO+ZUN7jYnF+TkP5sjqt3C/WfCg2nY0TvdwieWc7D0ne2TiRvLNz4lmRvGcmPaF9JQJEQBWBLC/vCQkxuHZ2IZrZKbTGSGS+QHPM3HkWkQrdKuPj43Hl4jkc27AQQzq2Q5XiBZDLJu03SN5FrwQLRYvkXXMFhuRdMyNhTJG8Zz55j4+LwaGxlZTKe8F6fbHmxE3Ryy2Sd7bzkOSdjRPJOzsnkndVGkDLiQARyGwEjEDe4xB6cSN6FNFO3oUV+YToG7i6dxlG+pWEWzYOHMm76JVgYf6QvGuuwJC8a2YkjCmS98wn7wnxcQjeMQq+ORTKeps8+HnAfBwL0S4GhPGgq2mSd7Y8IHln48THJXWbZ2dFLe+ZTVFof4kAEVBGgORdRct7+spaNIIOL0PfWh6wI3kneVfoqZE+XtgrFPr4Lsm7dvlB8p4J5T0hATGRl+A/uRPKeeVMaYG3zeGKGp1GYO2xQEQZwDlL8s52HpK8s3EieWfnxLMieVemAbSMCBCBzEaA5J1Z3hOQEBOKXbO7oUITGrBOH8LJug1qeddcgSF518xIGG8k75lT3hMS4hEdGYSDO9dj2bJlWOW/CccvXkO0AYg7H18k72znIck7Gyc+pqjlnZ0VyXtmUxTaXyJABJQRIHlXKe+xCLm4EZNazsExQcUvaMc0+PXqT6PNC5gIpUeMaZJ3zZUXknfNjISxS/KeWeVdu3wW5rk+pkne2fKH5J2NEx+zJO/srEjelWkALSMCRCCzESB5VyXvcVG4tGUsGpf4DXsFohofsBLdRk4keRcw0UelV902SN41V15I3jUzEsYYyTvJuzAedDVN8s52HpK8s3Hi45LknZ0VyXtmUxTaXyJABJQRIHmv1AurjwSlf4Y7JgIBM9ugoIK866oSp+l3xHnPezxiY6IRGRGBCBWfqNj4NFbxiIsNw/mdc/FrWXe48qP3u5ZAl2lbcDlckob9oqqJh7r1ost7fByioyIRen0/5g8ciCalvFCokHDQLFe4l+2IEcvX42JIGOLi9cuHZyeKvMfHIkpFHPHxFRkVg9j4BPADjcVEncWWeQNQ08kO5mlvgrCu2AnT159EdIz+X/FlMPIeH4fY6EgEbJyFrlUqorSJiXQ0dRsbR9Rp/Cvm7TqHi9ExiONZMtxUezF4MMBx0g8/r+x7L/b+P93U/6dL+/DzytK1a9cOy5cvV7pOWXrdL4tHbFSkyjIrIiIS0TGxiGdgo/t9k88TseU9Pi4W0VHBOHPQH+Pat8dPpfLAxUVYVnnDp+FgLNp7ABFR4jHTt7zzbypQV1ZF8fGTUlbFIiryKJYOa4FikjfW2OVCkZYjsfbAJcTG6b9sNxh5j49FdMQN7F4wFPWLFJGWUzlyFIRftynYfjwQMbFxop6HJO/KNICWEQEikNkIkLyrkPfokHMYW8vOuOQ9PAB/jmqHUrmzw8ZCWKGTTZcZdyJFtqKDT2LVyKZwl1RgJP9df8bY9Sdwg1EkdFFZFlPeY0IvIWDDbDQsWhQmprZwzJsf+T084OFREPndcyK7rbm0EsPxjPI3xeTNh3E9Vr8VY1Hk/eIiNPHIh9zZZfGTwiAtVvLU6IKl+y7j2qH5aFsiP2wkMST4b2mbA437rEBwpLwE6SJu1P2GQch7VCiC9s5En3qusLPiGdohj3shFCrkjpxOVoK4skfRWn2w/FgIbsZo5pT15P0SFrYqinx5nGEliB1ZrOVC7Z6/43CoZjbqYkIX60ST9/g43LxyHBtnDkP5/AVhYeMAF/cCKJBSVhWAex4HWFmYCmKKA1e0HzZevIoIEW566FXeY2/g7MaRqJkvJxwlr4NViCPvrotwNjAIFzcPQwlzBU5paZ3yV8CI3/cynYO6iCXJbxiCvMfcDMLJDYPQwIcDZ2IC82xOcMvvgYIF3JHDwTo1rnIVRvMhy3E8MBKxIsQUz4vkPbMpCu0vESACygiQvCuT95vXsHdyaxTgjEzeUy6o4biwfRhalnKEtUIFhq8M23T1R8zN01gzpCHyKlnPcfnRespWXIrQX0VZNHkPOYMlfSvAKqUyZwq7wh0x5+hVXEvhGIlr5/0xumc1uDoKRYsD514Ov2w5gSg9ttKIIu8pHC5j08ACsFMSK3kq+2H0pNFoU7saSpWthKrVK6BwTmuYmcjLfva8RdB/5VW9jhYuurxHh+DMimFo5umcdh5mQ4FSw7DzfCziYs9i7Yx6cJFjao/8FfixOK4jUkPFOOvJe2pZc2HXUvgVsJMX0BRGJO9RF3ZjRJP8qWyscsG32VisOR+K8JRYCcWZfTPQ7idvZLMyk+NnXbIhppwK1nuvCr3KewqDGISdW4UxTXMpve55txuHP2f0RmmPUihXrTqqVS2D/Hby5RR/fcxfrRMWHQzTq5yKLu/8dXB8M1hapMaOmXUeVBkwHyeuJSAy5AwWjGkJd2fJNdAbTX77AyfCIhGnoZyS3JzQ5X+Sd2UaQMuIABHIbARI3oXyHh6OS8d24s9h3VAmpdJnjPLOV4TPYWn32ihomb5yYt1pAbbN6YCK+Svj58bNULtsIQUxMxZ5D8KBUX5wyWaZWtk1MUWOunNx5Yb8TYuIo3+ge50CchXilBbBksNw/Ga03irF4sl7AsJPTkYlOdFMjSuHvHmRz6MsqvaYhc2XwhGTEIydQ6rBTkEgOEtnlPCbiqN6vCEkrryH4ezGKWhZ3F3WG8GxDmYdC0nrGh+HkEt/oJWj4vnpinr9F+GEQgwqVn6zqrwnxMXg6Piq6c81ztjl/QJWtyst4+LghXqDNiJEoTdL6PrBKJ7PXpaOP2fNbeDWZAGu6lm09C/vCUiIvoztMzuhsJKyKpePD/K5lkH9qTtwOY5/TOM8FrZUUq7b+6LDpE24HC1/HVA8B3U5L668B+HASD84C66DjuX6Y9d12fFHntuKUS2Ly8oylzLouWA3rkfq/3EokvfMpii0v0SACCgjQPLuVgqN2/VA//790b9LFzSrURJ5pBdvY5X3a1g/vAEKOyjKAQezolVRw6saev9xFJeDwxDgPwENCzvIKnyOFTBw2UEEM3Tf1VUFRpSW94tL0cQzNyyksWICq2wV0X3mQYQJK7pXdmBUq3KwlaaTMK2G6ecijELebwYvQZN0x89zyA6ver9i1fHriJEwOzwePtnTullKv2OBfKWbY8kpWYVQV7Gj6nfElPeIi5vwW9MScJQeP4ecDachIDQqLV7icfPaYQyvLIkl2f9SbUZjx0X1nLKsvMfHInCBn6wskvIzbnmPPzkGRaQs+Fixg1vR9pi24ax8l/iTv6Oud27pmBOpjx1YwNm9A9bq+ZEDUeQ94Tr2LemH8nKsJOeWMyr0Xo6zN2NSz8G4aFxe2RU506XNhipdp2F/kPpzUFW58z3LxZT3izuGop67vfQ6aGJmgZozz8lf16JO48+hTVFIwMqp5nDsuBCm99Z3kndlGkDLiAARyGwESN4FF5TUyorkYp1ayTGuAeskFQ7V8m5iZomy3dYjKE22YsIDsWXmIFTI7wTOKT9q9JiNvRfC9dptUBR53zMOxfhjFsaPqRXylPoFm4MlHBOQELIf0ztWU+jizMeWA7r5h8tXciQCmwH/xWx5Vynv7lXRf+F+hAlv9Jyfixr2NvJcOQ55fGtg1iEB1wxgJKw4iyfv17F3dh9UdpG/gVFjzB6ERMoGw4q9cRXrB5ZQ4JQXDQYuxsmb6jmRvKvnI4wDXU+L8cx7/Jr2CnHCgbN0Q83uc3FM2Evj8gq09cmrMG6ACexzl8REPZ57PHODk/diHbH62PXUATb5sic+BoFbB8NHWP6nTZduO0bjDTRdxpV48n4O8/1KIqegh56ZhRfGHlE8v65j56weKC9sDMheGaO2nMPNOMW0GTtP8p7ZFIX2lwgQAWUESN6LNcGouSuxbds2LF06CT0b+sJE+swttbzLySnHwdyqBEYdjJSTzqiw6wg4uAfb9h7EmcAwROv5giyKvIdvQPcibvLPR5rZwv2nCTgeJaiAqJR3Dq2Wh8lx1GWFTvG3DFHenSt3xIJ91+UZGLu8X92DCR0ryrqYpglBw2nHECqMq7gYhJzaihEdyqS+6cHBDb7tJ2DViRCNYwOQvAvOzwy+CaR4Hooi79fnoYaiZGYvjEZDV+OS8MaZUnnnYJerAH7bqV9mhibv7u3n4sw1Sc8XkveUuA5YiAa+bnI9NcwsKmLGWcVYCcP+hX1RNbewYcQGFYduQNCNWPnyP4PPR5J3ZRpAy4gAEchsBEjeBc+8x8ZGITzkKi5s/R0Ni1LLu7Ju85Y2HbAhVvHiLO68KPKeEI2wK/swpnNVWJibwsTEFOUrjcKKwzflex2QvENVy3vKaPMHQ+Urb0Yu75d3zELbshYKLaWF8MuqM7ihcN7Fx8ciIiwIly9cwIVLV3A1LILpxhnJu3jllRjynpAQicsn1qLLT94pcWVnVwDNOi7G7nNR8t2WSd5VdptPGW3+umCMEmp5x9E5zVEsj/wAh+zyzsGi8VScD5ZvCFC82aXreZL3zKYotL9EgAgoI0DyLpB34YXixoERKG6Uo83zFVvV3eatK0/GuQy+Oy7MB5ZpceRdvQDE3wjE0T9+Q93SbgoiJmt9MPaWd5J3xRi6gcMrhqB2XlmMpPZ88UaftWdxU0HeWc4NZWlI3hW5629eHHlXf3zxQcewbnx7eLoqDFaX1lpPLe8cSN4VY+gqVvevgQIqXgOq2GNP6bxPL2wJ1O9z7yTvyjSAlhEBIpDZCJC8q5D32IhQLGiV07je8y6VctXybtN1vXxLqfQ7ihd3/c0birzHR0cj/PIp7F70GxpX8oCNvRcateuKTk2VPfNO3eZJ3hXPkTAcWjYYNXMpyjuHdN3mf+C8I3lX5K6/eYOQ9/h4xEbcwPWTu/HHmI4o6eUGB5ey6DtuEOp6KD7zTt3mefEkeVc8R45ieoNyyKX4OIaJFRzzuMHNjeFTczh2B91A/A+UZcpuTqpbRvKe2RSF9pcIEAFlBEjeVch7QmwEzi7ohmIlfsNePV5cJBeexYsXo2PHjj8kyqyVdMk2Zf9J3mUsFCstyuYjcf3iSeyeNQO/VCoAzswK9l510HfePoRSt3nqNs9cflzB1mldUFKxQsxxqDN+v9yAddrFp3zMspYLL/YOBqZy0g8/r2y77dq1w/Lly5WuU5Y+w5bRaPMa8iAesdGhuHR4L9YO74e63jnBWTogb5UeWLDnPCKp2zx1m2cuq5TLu5lFMUw8Ll/eZNj5zryvsv0heVemAbSMCBCBzEaA5F2VvMdH48ruqWhF8i7X7Zta3mUVgZRKyY1A7F0/Hj2bVoR7inRZIHveGui9+EDqK+NI3knemSuZ17Brbi+Ut0nf8p7Xbw7OhgmeuWX+TYV4TUgAyXt6JvoSDNFa3uPjEHn1BNbM7w+/SkXS3n5hD/dK3fA7L+58PJG8k7wzlyunMa91JeS1kC+rTM0t0f7PGxpuIol3/pG8ZzZFof0lAkRAGQGSd1XynhCHm8HHsH7aVlxivqDp7qJELe/sLEXrNh92BEsHd0KZfObSGxxWdq5o+ut2XJbEDMk7ybskFjT+j0bAujFo6ClfIU55XjRnQywICJUfYEzj7yk/h0jelXPRh8CLJe9Rl7ZifNuf4ekii60chergt2UnESKJI5J3kndJLGj8r/yZd/49774jD5C8K6tt0zIiQASIgI4IkLyrlHfxKnh8JZLknZ2/OPIegt0Tm8LLzhImkm7OZlbIU+UXbL0q2HeSd5J3jRVhWbwE7VuIzlUcpTeDZAM9OaL+rGOIiZO96/17ZZPkXcb7exl+7/fEkferWNHdF46Scor/n80NtXrPxfEwAQuSd5J35rIqEjvG1oW3s+xmUEpZZWKGHOUn4hTz7wjiTw/foZZ3HZkD/QwRIAKiEiB5J3lXcpecnnnXVDm/tn0sahdxhLmpoPJiZQ+P3uvl37NN8k7yrkWlNDZwNyZ3qCgvWmnSZVdzMs7GxCk5X7WrAJO8a8dLU1mgzXox5P3S8nbIbycop/h4cq+ATr8fQowwNkneSd6F8aBhOnzLbyjvqXij0QTW9j7os+Gq+nLq2nYs8A9AWAS9511UA6CNEwEikCkJkLyTvCu5yJK8q6+QB2FNn0pwzWYi30Jq7QCvwdvkeIYdWYbutfLBTNjqlTZNr4rrgqX0nne5eEmIu44dM7qgrGKLFh8zVo6oO+uUfHphBTvsCPw3bcf+U+qfOSV5NyZ5v4AZ1a3kyyk+lgpURtfFx+Vi6eq6ASjlnl3WkyitnKJXxdFo80qvh1G7MLSiN+zT4kTSS8jE1Ar5SnXD2kBV51kQ/AfXgleHWbhA73nPlOJAO00EiIC4BEjeSd7lKnCpF2mSd6WVFakoXcHyrmWQW3FgMQs7FGg2TzZGQvhxLO5fD66mCpKfVtkheWeXd3vPCvh1XaCSWFVVQfyx5Rs2bECTJk30tj1hvMWfWo2e9QqnFy6Og4lZOfTYqOTYwi7Cv08b1KvXD6uOhqndb5J3Jfyk53bGrtN/y/sZjC+j0OrOlz85fNFi/BYES4776nr0ruyFbCbp05K8ayfvbnX7YvUx9eeg8Hz/0ek+ffpg5syZas/5H92G8u/H48KSzvDIZZOurDKxyYVSXZbjiiS+BP8PzWqC4q61MWHfOUQIlivfhm7PR+o2L65w0NaJABHQDYEsL+/xMeE4t28caircHZbcJebc62PM2qMIjorT6/tGNV2oxHvmnX+d0EFMa1EZrkqYWdq0xYrwaJ0MnKWJAet6/T/zfhUrf6mAPIot7zyv7LnhM3ANDp05hnVTR6Bb165oVqcGcgu716dxLTZgAwIDAxGih66DgwefAcdtlH74eVa+P5YuFoGb+qGwkljiijTEmDUnESt5jjsuGjfW/gKHbJbpKoN2Bcqi3/LziI3TbWVO1bGJKe/8Pp1aPRj1ilrBXIlMmVpYodq45dgfGIjAwLM4fXg+xrQrj4JlWmHylvMa8zWryntMRCj8e/ukix2+rC/aeBD8T0YjLl4/8aMqrvQv7+cxtbKFUiacR3W0mbcLAcd2YFrvbug5dAjqFHSDtULMWTrmQbNp+3H1WjBuRP34Yxuq2AiX79u3D9WqVdMYy8Lv/Nh0POLCTmP1iEbIq6ysqj4E+8+GID4tfuKjwnBsan2lXPNU74nl+4P1FmviyTt/LvE3sksht7VpehbZnOHReBCWbD6Scp0LPL4Dy7pXQbE8dmgyYRsuhev/XCR514040K8QAVifuhQAACAASURBVCIgLoEsKu/hOL9/H3bv3o1t84ajVaH0rQlSeecv1G4/o/uENdiyYzd27z4jG31Xz3eFhZUPUeQ9NgLXzu/DiuntUcrbIf3FmGdlZgGnFlOw6sBhnAvWzaurhMf9PdP6l/cEBG0egapeDjBTqOjyccW/LsfZzRd+fefgYGg4Di/qi6r5rJXytMvphZ4rLmd4JVUUeY+6imO7l6Gjl6rzzxmV6vXGn7tP40b4dZzdOA9tK+aAhZmy9M4oXq4/lu84jaAbGf+cpNjynpAQij1zf0HdIi6wNjdTGjupZZgZLG1ywK1sMwxbfhjhDGVW1pP3KFw9sRdLxnSDpzLxSlnmhYbtp2HNrjO4diNatBu1+pf3BFxY1Bx5bJWdUxwsbLLDzbM6Bi7YjSuR17C+X2XktE0fb6bmVihQoTlm7Lqe4WUVfw3Qq7zzr9ELOY31cwahdl7lnDguH1r0nYp950IRHxmIgwtHorqHqrTeaNJpBjYfu4qb0Rl/s0NceecF/BCm1CiD/HZKBF7ufLSEo4s72k5YhHOhUXqJI8X6BMm7uMJBWycCREA3BLKovB/H721aolGjRt/xmYwD8T8+orPiRUPbeVHkPeICts4biQ4M3Pw69MDs3cGiXIAVWYoh7wkJwdg+pQNqF86FHCap3eJNzZyRy7Mk6jTvgln++xAqEakrezG5XwMUzGcLc/O0Cp99XhQpWwODZh7UC0NR5P3qegxgiKVuk1Yh4OR2TO/dGc01pG8/aBI2Bqh/plsxPr5nXnx55yvFoTjrPxs9/RqhcglPuDjLpMrU1BTOOXOjcJmf0LbXNPgfucAk7jyLrCfvQfAf6sdW1nefgq2nr8kP1CY5T/XwXwx551tHl/WuhlKu9sieIlMWsMzmioK+leDXczj8j55Lfc87f/wBK9C2vi9cnNNEzMQUljk9UKleO/y+9rReyio+RvUq73ERuLx3HnpqKHv4+kTfZQGIvbwW/RnSdp+2Xi83uMWX9wQkBB2D/5DmqFmzHIrkdZB7Dt7SMhvcC/mifK22GDV7A66EROotjhTLfpJ33YgD/QoRIALiEsii8q7/7liKF4kfnRdF3vVQef1RLsq+L4688zEWgtNr52Ba3z7o1as3+vafhjlr9+N8aPr4uxF4ACuXjsDAgb3Qq1cv9Bq/EJuP6u8ZblHkPZPGEx9jhiHvaXEUGoqze9ZixvT+6N07NX769u2L6bN+x0YtpF1y7mQ9eU9/vkmO1dD+iyPvCYiNvowDC8ZjLF/29BqEX0cuwMrdZ3AtIj27kDP+mDG9X2o51acvBs9eg4PnQvUqXHqV90xcTvHxbRDynsYwKOg4Ni+agHEpcZZaVv366ygsWbUHJ69HyG4SicSc5F1c4aCtEwEioBsCJO8iXUQ0VSpJ3tNXKlUxE0/e2fdR1b7raznJu3Z5ZVDyruMyiuRdu1jQ5Tkqlrzr8hj08Vsk7+wxakjyro/Y+JFtkLzrRhzoV4gAERCXAMm7jivGP3JhEX43I+T9fcWKKV1m+cp7Vvps8fRERMuWWeqYdJ0/oyvOlg5Wxw9cx8/rehtZ6fdu+Plhm7d3lmTElwPgOOmHzzdh2SOZfrF3MDD1/+nSPvy8ZJ3wf7t27bB8+XKl64TpaDoBJO9sUkryzsaJP6dI3tlZkbyLKxy0dSJABHRDgOTdiORdWGGnaZm8GAOLKVwLOXnn543huOkYNcc5yTt75f9Hb0CQvLOxJnln40Tyzs6JZ0XyrhtxoF8hAkRAXAIk71lY3p+PGEGCJmhhNGaRI3nXLLHGGh8k79oJwI8IPMk7G2uSdzZOJO/snEjexZUN2joRIAK6I0DynoXl/U5gIJKtrEjgSeBB8k7yrurmxL+7dint8k7d5rUTAxapJ3lnY0ryzsaJ5J2dE8m77sSBfokIEAFxCZC8Z2F55y9Wf584kSWf2xU+X03PvGsew4CeedfMSBhTWfmZd+FxPli3Tqm482UHybt2YsAz0/QhedfMiGdI8s7GiWdFz7yzs6Ju8+IKB22dCBAB3RAgeWeocGmqkGXEel0MWJcR+2WIv0mjzWuuvNBo85oZCWM7K482LzxOddMk79rFjDqWknUk72xMSd7ZOPFxRfLOzorkXTfiQL9CBIiAuAT0Lu+2traYNGmSys+5yTWloxvzoxzz8+rSZ9V1rVq1Qrly5Yzy2LXNUx8fH3Tt2pVYqTmvatZcJDdgHT+vLWdjSt+5c2cUL17cqBmxlsVlypRBmzZtjJoV67lhZWVFnNSUUxKOvXr1goeHB7FiYFW1alU0bdqUWDGwsrbuIHcdbNRoNZYtW0YfYkAxQDFgsDFw8uTJdHcK9C7v2bJlw/z581V+AmfVk5N3fl5d+qy6rkuXLqhSpYpRHru2eVqiRAn079+fWKk5r+rVWyFXaeHnteVsTOn79u2L0qVLGzUj1rK4UqVK6Natm1GzYj03rK2tiZOackrCcejQoShcuDCxYmBVp04dtG3bllgxsLKx6UjXQQZOkvOQ/qt2FWJDbPQRA3zPqo4dO4ov7y4uLul2Qm7B+Sly8g5+3gj/du7ciQEDBhjhkWt/yK1bt8a5c+e0/6IRfWPKlBtylRZ+nv5UEzh16hQ6dOigOoExrGEsi/mLy969e42ByA8fo4ODww//hjH8QEhICPjHoehPM4ExY8Zg7dq1mhNSCjg69qDrIMUBESACmYYA3+pO8p5psgsgeWfPLJJ3zaxI3jUzEqYgeQdSbpxO/f8o/ZKPihupJO/CyFE/TfKuno9kLcm7hITm/yTvmhlJUpC8S0jQfyJABDIDgcwr7xtrp1Yi+YqjEX2i/2iDoyPLG9Uxf2/+7hpQFH9v6E6s1Jwf56f0w9TaLaQffv57eRvD9+74d8Xewb7GzYgveyXizv8nef/haz3JOxtCknc2Tnwqknd2ViTv7KwoJREgAuITyLzyLqw80rR8ZZp4EA+KAYoBfcUAyfsPX8lJ3tkQkryzceJTkbyzsyJ5Z2dFKYkAERCfQOaR98tzqDKur8o4bYdijWKAYoA1Bkjef/hKTvLOhpDknY0Tn4rknZ0VyTs7K0pJBIiA+AQyj7wnPgZmWlOFmrVCTekoVigGKAb0EQP3g5ReyeiZd6VYlC4keVeKJd1Ckvd0SFQuIHlXiSbdCpL3dEhoAREgAgZMIPPIOw/xeZxxP2t6fgromXf2MQ7omXfNrOiZd82MhM/y0zPvCrz+OqHy8kbyrhJNuhUk7+mQKF1A8q4Ui9KFJO9KsShdSPKuFAstJAJEwEAJZC55N1CI+twtGm2enTaNNq+ZFY02r5mRMAWNNi+koX6a5F09H+FaknchDdXTJO+q2SiuIXlXJKJ6nuRdNRtaQwSIgOERIHk3vDxRu0ck72rxyK0keZfDoXSG5F0pFpULSd5Vokm3guQ9HRKVC0jeVaKRW0HyLodD7QzJu1o8citJ3uVw0AwRIAIGToDk3cAzSHH3SN4ViaieJ3lXzUayhuRdQoLtP8k7Gyc+Fck7OyuSdzZWJO9snPhUJO/srEje2VlRSiJABMQnQPIufh5otQck7+y4SN41syJ518xImILkXUhD/TTJu3o+wrUk70IaqqdJ3lWzUVxD8q5IRPU8ybtqNrSGCBABwyNA8m54eaJ2j0je1eKRW0nyLodD6QzJu1IsKheSvKtEk24FyXs6JCoXkLyrRCO3guRdDofaGZJ3tXjkVpK8y+GgGSJABAycAMm7gWeQ4u6RvCsSUT1P8q6ajWQNybuEBNt/knc2Tnwqknd2ViTvbKxI3tk48alI3tlZkbyzs6KURIAIiE+A5F38PNBqD0je2XGRvGtmRfKumZEwBcm7kIb6aZJ39XyEa0nehTRUT5O8q2ajuIbkXZGI6nmSd9VsaA0RIAKGR4Dk3fDyRO0ekbyrxSO3kuRdDofSGZJ3pVhULgwICECHDh1UrqcVMgIk7zIWmqZI3jURSl1P8s7GiU9F8s7OiuSdnRWlJAJEQHwCJO/i54FWe0Dyzo6L5F0zK0V5r137JPhl9FHOoEuXvfD1nUh8GGKkbNnpaNduO7FiYGVl1Z44MXDq0+cYPD1HECsGVtWqzUezZv7EioGVtfVUcNxG6Ye//tEfESACRMBQCZC8G2rOqNgvkncVYJQsJnlXAkVhkaK8CyswNC2rzBELYkExQDFAMWAcMUDyrlBRoFkiQAQMigDJu0Flh+adIXnXzEiSguRdQkL1/zlzIqWtDVQxNY6KKeUz5TPFAMUAxYDqGCB5V11noDVEgAiIT4DkXfw80GoPSN7ZcZG8a2b1+PEHWFtvIYEXdJmkSq3qSi2xITYUAxQDWT0GgoKeab54UgoiQASIgEgESN5FAv+9myV5ZydH8s7GKi7uDUxMWtKzkQzPRtIz78rHAuBbqhQ/9Mx7eiaKjCTz9Mw7Gyt65p2NEx9X9Mw7Oyt+wLqxY6+llGEnTjxgu3BSKiJABIiASARI3kUC/72bJXlnJ0fyzs7K1NSUPbERp6TR5tkzn0abZ2dFo82zsaLR5tk48alotHl2VoUKFcKbN2/Yv0ApiQARIAIiEiB5FxH+92ya5J2dGsk7OyuSdzZWJO9snPhUJO/srEje2ViRvLNx4lORvLOzInlnZ0UpiQAREJ8Aybv4eaDVHpC8s+MieWdnRfLOxorknY0Tn4rknZ0VyTsbK5J3Nk58KpJ3dlYk7+ysKCURIALiEyB5Fz8PtNoDknd2XCTv7KxI3tlYkbyzceJTkbyzsyJ5Z2NF8s7GiU9F8s7OiuSdnRWlJAJEQHwCJO/i54FWe0Dyzo6L5J2dFck7GyuSdzZOfCqSd3ZWJO9srEje2TjxqUje2VmRvLOzopREgAiIT4DkXfw80GoPSN7ZcZG8s7MieWdjRfLOxolPRfLOzorknY0VyTsbJz4VyTs7K5J3dlaUkggQAfEJkLyLnwda7QHJOzsuknd2ViTvbKxI3tk48alI3tlZkbyzsSJ5Z+PEpyJ5Z2dF8s7OilISASIgPgGSd/HzQKs9IHlnx0Xyzs6K5J2NFck7Gyc+Fck7OyuSdzZWJO9snPhUJO/srEje2VlRSiJABMQnQPIufh5otQck7+y4SN7ZWZG8s7EieWfjxKcieWdnRfLOxorknY0Tn4rknZ0VyTs7K0pJBIiA+ARI3sXPA632gOSdHRfJOzsrknc2ViTvbJz4VCTv7KxI3tlYkbyzceJTkbyzsyJ5Z2dFKYkAERCfAMm7+Hmg1R6QvLPjInlnZ0XyzsaK5J2NE5+K5J2dFck7GyuSdzZOfCqSd3ZWJO/srCglESAC4hMgeRc/D7TaA5J3dlwk7+ysSN7ZWJG8s3HiU5G8s7MieWdjRfLOxolPRfLOzorknZ0VpSQCREB8AiTv4ueBVntA8s6Oi+SdnRXJOxsrknc2Tnwqknd2ViTvbKxI3tk48alI3tlZkbyzs6KURIAIiE+A5F38PNBqD0je2XGRvLOzInlnY0XyzsaJT0Xyzs6K5J2NFck7Gyc+Fck7OyuSd3ZWlJIIEAHxCZC8K8mD13+fxvK5bVGvXmVUrsx/umHahnO4l6wksZ4XGaS8P3iAy9tmYnKPOmjVxR8xemaianOGIO/Jycm4c+ss/Md3Q6eUWOLjqRGaNh2FuStP4K8niap2X6/LDULe3z/HrTP+mNPDD02krDqg8+g1OBlzC1+TkvTKRNnGDF7eP73FrT3jUsqtBl2HYUvIK2WHoZdlhiTvX/57gQPjJeW5mv9jd+Px20964SPciMHL+9OnCD90CAsGDkSftHOzZsMWmH36qfAwMnxaXHn/DzHHlmJgUzXxIy23FNN0xext16FPWoYk7/9c3o6ZPXuiq4BPo0btMHPpIQQ9eIf/Mjxy1G+A5F09H1pLBIiAYREgeRfmx9v7OP3nYNTydUSJroPhHxyFvx89wqPgIxjWLD9yuTbD5Iv/Cr+h92nDkPeneBS2B9undUZhj/xwzZkTTva2sLGwQ6FS03Fd71SUb1B8ef8Hq5q6IqeLE7JbW8Cc48ClfExhZmYNWztHuFRojln7buLlB+XHoK+l4sr7J7yIP4YZrSvDxSk7bC3MYCplZQ5zazs4urig0ZBDuCvyDTTDlvdveH1/J7rbW6fEmXOphvj9rD51QT5aDUbek5PwKmQBqllLzj/V/xsvCMLz9/oPMkOV92cx57H815ooUSgXnB0ckK1SJfScvhU7rl1DyJOnePPhm3ymZ/CcqPL+LgZbR/shv5nq+Ekt35WtL43e80/hfgbzEf68Qcj7vR2Y0KYAcrvkQNNBB3Ez5BEe8XWqR7dx49ImTGhVB8VzlUPz8VsQ8VQ8hSd5F0YOTRMBImDoBEje03Io+W0sdk5oiXwmpqg+YBmuP1TMurMYaGEGy2zZMfbMX/im//pdyg4ZgryHr5qALgMnY8vuQ/hzeGNYmZumSSnJe2rUJCPp62kMym4DzsQEZuYWsLC0hGXKxwIW5mYwNTFJY8ZX9LzRz/8aHn8UKagAiCfvn/Eochf6FDWBqZkZLCwsZJwszGFmagITqchz4HodwjcRG+ANWd6/vn8N/w4ycSB5Tz0bk75+wOZOMi6qBMvEdxAOJTzDV8WiXw/zhiXvyUj69hRntk5EOS8XmJiawbxsG6wPfIov+nX1dOTFlPc3EfsxvHE+QbmtOaYksWZSpj0Wnv473fFk5AJx5T0Z3y5MhV9OO5ibVcOQUyqO9HU41gxqAFcTE9QdswPRz8S5Bhq9vCcn4dvXL/j8+XPK58vXJCSLkxUqAoUWEwEiICRA8g7g2+f7OLuyD8pyHKwq98DKSw+EjKTT/2xqBnuOg13Oghh78CU+Stfob8IQ5F3+aO9jVX1LknchlA/RmN8oDyydXFGoY0fMunof0ntBH17gr1Or0LdFRThktxJUBGtj0ulYJIp0V0gceU/GxyfR8O9bEp7Fq2LinI346+XLNJIv8TzuBFaPqofirlYwM5FVlH85+F5IW6/TBivvX17j9KhSgnjiQPKeGhpvAsehlJkT3L294a3m02jKftx98Vmv8STZmMHI+9ePSLx9CvO61UROjoONkwt+Gr8cl5+/E+WmhoSP5L9o8p70GmE7J+LnvOawts8J1/ye8PRUH0+ehfIhp70lODNrVO4+Axf12ewu8jPvXxPPYHSJArDlrFD3j1hJ9in9//raWnSukRccVwidV1zEo/f6vztr3PKehE8JxzCutS84zgI2TrlRZ9xOJDzT/+NDSgOEFhIBIpCOAMn71w+4c24N2pfh5cAONXovwNUn6TilLQjGSFc+nS0KlBqCwyIUboYn78DJgRIJpZZ34BMe7xoMt2LlUfv3SzJpVwipxMdhWDCqGfI4Sm58cOCqT0P4k0SIccNbDHlP/vIe0Tt7oW3L7jiQ8EKBkGT2Bc7PaYEiDpbSFnjHPodEuXHG75FhyvtLxG35FcXN3OFbzgPZ03oqkLwD+HAfyxqboVC1pYiUhJQB/jcIef+ciMdBWzGpafFUcc9VCD0X78Dfb8S4Ta08k8SS909PwuA/ujFKFK2L3gsP4Mqt9/ioFksS3ty+gFkt3WFZ6CeM3HID+h7dRLyW98+IWdcd3rn5x3fK4fcIDc+E3T2G4c1LwoIvt+pOwdW/X+v9GmjU8v7pMS6s+RUV82WHm09jDF5xCndfqw1u5ScnLSUCREBvBIxe3j8/jcWWX0uktlg5VUH/ZRehSiP4XAmc5J2S1iqHFzrOuQJJO6G+cswQ5f3qeElXQpJ34BZWNa+C2rNP4/0X9S0I/90OwNROZeAsfRa3LGZefYzP6r+WIaEmhrx/+5iIkHUDcey2hkHVXp3HyIp5YWWa2vru0GAl/skQCpp/1BDl/VHwZNS1MEOpZhtx4eIUlCJ5l2bkg8M94G3uhkHHnkuXGeKE6PL+7QOehu7CiIY+qddCF080m7gF0Y8NqxIvjrx/xO2rWzF6QEfMuxAOpkj6loiE0wvQOI8VvOsPwq5ofau7mKPNP8a+XyvDLRtfXhfA+Msaekq9CMS8jlXhzJdbxQeK8uiK8cr7V7yJPowJ7aujWLPBWHcuFuTthniFoH0iAvIEjFvev33EvUB/tPNKlYLsFdpi4VnlXeYl2N6eGQnXlMqxLYpUH4RjjyVr9PPfEOX99vJaad11Sd7xYA+Gt5mEU3GvGcZF+IDobSNQ09M2jR+Hjhv+xkcRHroVQ95THqp784bhxHmLQwM9YWeZep4WH3YaLN9i+GGtkxicvP9zDgPrOqFAw8E48dcXPCF5l+Xp6zBMqmYDU7OC8PttAzafDEP0/bey9QY0Ja68f8Grv09hTrNyyJFybcuFkp3mIOBvsc4y1Rkjirx/eYGE0GPYfzpS7Y194V5/enkbO0eXh7OtBxoN34IEDY3Pwu/qalq8lnehvHMoPfys2kaO9/H7MbxRUdhwHHI1mY3Ae2+h7/vXxivvX/DiThB2r9+AE+H3RevRpquYp98hAsZCwKjl/VviE5yZ2wAOaS1VXg36YXeU+ud8/rvvj8Zp6W29q2L4Af2OPk/yzn5qijLa/PMYXAm9iw+f2EZ2+hi6Fq2qSHou5MOwow/A+FV2EAwpRZF3hv2SJLk4qTDsU3oo1MaSBP23Ykn2w6Dk/VUwVnWvhew+bbE24hWQRPIuySf+f+z6ZshvZQaOM4GpuSvcildFrcZtMPC36dh1+h4SxQsj4W6mTIsp75/ePsDeSRXglnZdcy/TFssC7uu9m3c6KEoWiCLvXz/hw7uXWrRIfsHjmF3o6c7BzrsWxuxOgPpahZID1cEi8eT9A85Nq4kCjqk3W7mc5dBuk6qHVt4jatd41Pe2AcflQeuFZ/Agke3aqQNE0p8wXnmXIqAJIkAEMhEBo5b3D8/vYGXHbGmtng6o0nE2Lql83j01V9+/3oMOaZUczrk4/GafxWs9ZjjJOztsUeSdffdSU0ZvQ/uanmkx2Agr457hi7a/oYP0hi3v0VhUPT9sTDk0nRsPDZ3sdUBD9U8Yjry/wIW5rVDUqT4mnYpBIj80MMm7LOOensHgMi4wFwx0KBn529zaHvm966HroE24FvdO9h0Rp0ST96TPeBy0HPVd0kTLsQhaTdmDuyK0FLPgF0XeWXZMmObza0Rt7gVnLhuK/jQUB++KUaKL2W0eeHtjGVp4uaQ+x85xMMtXFmNWhqd7z31iwklM7VgKDpYcynX+HWcS3kHD02ZC0jqbNip5//oRD49PR+3atTV+ph25hw8Z0hPwP8Sd+APDWqffh36bY5AkHPjnv6eI3zoWXWrXRqvug7HtcrRB3liUBeMHPI04Cv8FK7HX/09MHdhSI2c+L5o3b45BY2fhz2NX8eidvq5LzxCycx56K8RCr5WBePVe/zfRZAyVT92/cgTLFmzGqfgXotwQVb5X4iw1YnlPwpsHFzCqbFqlhXNBja6LEKThIfZP765jrG/ad0ydUaH1bFzR8B1dZi3JOzvNTCfvRYfh9MM3eu8yyBM1aHkPW4Iy7k4oPfIQnmt4fJI9Or4vpaHIe9SWX1Dd0wrNZl3Bow9pnUxJ3qWZGrq4NvLZS15hKSnjhf/NYGnthNzle2BZQDzEe8N06i6LJe9f3r/Ett6OsEy7IZ2jdBPMDXgoShkkzTw1E5lB3j+9uo+1nbOBy+6J+qP24YFIdWDxWt75V/j8hxNjSsDZVnLOmcDWxRs1hh2A5EnDxMehmDO8PrLb5EeFbrNxOuGZKOLOh5tRyXtyMr6+e4q7d+NxOeB3tKwqyaO0/1VaYM6JS4i7exdP332RF2k156Z2q5LwKfElHt08jXkNqkl7/fA3WCvMCMI3qb1/xMNIf3R2sk25EWRmYY1irUfhYLRhPv708fUdHF7QGdVL1EenaacQ9c9LPH34L+7evY4VXUshl42MtblVFcy9dBd34+MRvm0dhtTyhpWtHRxccsO9anNM2xmMZ7qs7yR/w6vYzRi+NFiQVV/x4U041s9sAi/JDVyOQ6mRh/DkXYbctRFsW/vJLw8jcHR8K9QuXgs9/gjAg3fivB1G+z3X/TeMWN6/4Nlf/mgpaUXnvNBs8A7c0sD4U2IYJkqF3xFlm07G+WcavqTD1STv7DAzg7w/OzcfTcq4pLS8t1wWihcitXgZrLw/OoS+ZQqi6vgAvP4gUi1YEHIGIe+Rm9CiSkH4/rodd4SvNiN5l+VUchKSkpLw119/If7oEcyZ0wWlS8sqTpJWeL5LvYlXOyw7ewsinXop+yyWvL8JmY2y0t4J+VCn8zrEyCga3JThy/s3vPx3E1qbcHAoXAUTjkpUVf8oRZV3/nCT/8G6lq6wMhOcd7Y5UOKX+bh05TLmdvKGiVtJNFl4DBGvhU2t+mdlVPIuwPv+nyAs6po6CLOkTKw9YjMinwoSZfBkxPpuqJRfFiPy8v4B/4YtQxNpPZ2De70B2BGmz/6ubAA+Pf8LWweXgIlHNbTfHInnCiF9f89AFHaVjW9kYV0H6/5O++3kZCTeOo+Z7SW9MDmYmNTCxH3haseLYNuz1FRfPx1GVztn+E69nO5r8fvHolFRWR4YqrzzO56cnIzwNe1RNp8JSo88gIdvxOnZlA6inhcYr7x/+4j7ZyaipLRQ8EKzX7WVdw6etTpihx5rOyTv7GeIwct70hOcnNUOJZ04WFcYgeN/vRDtXcoGI+9JSfj68T+8fvkYN0/PR9dSeZGNP0d9m2H06lN48vKjaIz4yBNX3vnWimCs6PgTilQYgv3RT+QfsSB5V184fPmCN1fPYkGnGsiVwxaW5rLKCld9EA6EPcI3fY+UlbbH4sj7F1yeWFo6WCaXtyRazj+IkLDDWLLsN3TvXg6lSuVD3twusLc1h2kJX7RZfRKXnrxEokiNMgYv718/4tbqFuBMssOn1iic1uONfcXgF13eU3boPjZ19IBLNsErUdPqXLkq1ceMS3GiPgYlYWas8o5n0dg2AWFNcgAAIABJREFU+idZGcBxqDNyMyL1GLcRG7qjUgFZWSwv7wDePUTE8u6olS8fyv7UHSsC7sCw2t2T8fnlHWztXwxmOXzQYsYZpQNbPlAn7ymB+BSB64ejivC6VGMUTsY8+8FXJ35F4rPA1EZH2xxK5T1h/7hMI++p52wM1rWtjjzmpmi+IBjPPijcKZGc2Fn4P8m7RN4tiqDlyH2Q3AhTlefyLe8k7zwnGm1eVbSoX/7h7lFM9CsBB0d39FkdhCci9t01BHn/9uE1/g05j53zJ6BtIw84SgY8kpyjHAff5vOx7654d93FlPevibexd2orVCleG5N238RzxVGwSN7Vn3CStR8eIurYJHSu5Q7HtDcY8K1OVYbtROzzLz9YUZJsRLv/osh7ciQmClpbzG3t4Fa8DjoOWooTQfelA/o9j7sE/0nNUMbNCmZ8K71vc4zZF42nivGn3SF/V2pDl/evH+9jST0OFk6F0GzGBZ21mn0PLMOQd37PH+Ly7K7IbycTNP58cypWAb3XHkXE00SI3aeK5F2WNwYn798T/Hr8TvK3t7i56Rd4ceYoUK41tiYo37hmeU9E9OFZaCa4kcFx9TD3XDy++wn4T2/xd8xBjChnlXqDJsvIOz8irT8a+LjCjCuC/ntuGd2bEkjeJWLgUg5dF53XeLEleU9fMJG8p2eicUniY5xY0gOl3XKieL8/EfpQ3KGvDUHePz6KxN4lw9C5cxu0bl0fNcp5wcE2fYtN9maTcVOP3fqEeSmavP/3FNe3TkDtmuXRc9Fx/KvsLV4k78Ks0jD9AX9f9cfAGgWkbxvh3FpjbfB9fBSh9V0MeU9+uxMtJNc/zhr5yrfFioh/VVQUX+LSnGYoZGOeUgm0si2DYf432d55riEntFlt6PL+4dYyVOXM4erTHFtua3Nkuk9rMPKe+AhXj81D+yK54FE8PxylMceBcyqGxiNW4OJfTzNoYDQ2riTv6uT9Ma5v24atW7dKP7uPnELEw3f478kt3DxxAPv4dYdO49q/r6H86bYkfPvyDPcTzuPw4dTf2X/8ChIeJyJUVct78jf8d+eKdJuS7e8/G4x/XqZ/1jnx8V+4fuqUNP3OnXtwMTAKD199VBoE75//i5sX9mHn9tT92XE6BLe/owXl053daFWIA2eVBxW6bFbZAPi98j5501Zs279TelwSDlu37sHR07EpzvLlzQOEXzggSHMY54MDcWbtLPiVyQ4z07T8tcwG99aTUtMdDEDQndSGEOUt76/xKCEEJ/m83b4TBy5Hqh1z6MOLe4i4dB67duxI+f1t27bh7LlQPP1PsVUqEfdvXsERQTzxx3Q84gm+Jr3Dg2sBOMGv27kbB6/G4L7K59nuYF3LYnCy4MB5tsfhh0qzOcsuJHmXXEiy+aLd5KNQ/5Z3gOQ9/blA8p6eifoln/D4ylr0rOYDn5ojsD30AXQ5Lon6bStfawjyLtuzD/jvv38RFXgAi38fjW51fJHdKlUa+BYbc+vs8FsYIUrXOXHkPRH/nluF7rVqoMrgPxH4jzJzB402LwsgxqlXiNkxDQ08U8ec4LhcaL08EC8lAwAy/ooukoki77cWo6Lk+sflQvlGy3BT3cG8DsOSlj4wSfmOOZzc/bAyRr8dWA1d3iN/LwfO0hFFO2zGfXUs9bDOIOT9zU1sH9sbFQsWgN/wNdhzcgtm9vJDKWeZLHKO7qjSYjqOBD4WTeBJ3mX5kb7l/TYOTuiAknllaRx9yqHPnxuwbKQfars5IjtfJjh7oEKnadgX+Qwf5bpSJONT4l0E/NEXXZoXgXdZL/j1GYqpM2Zi/qqDWDexCcoIWpul3eaTvuJVyGYMalMJXtJyStkz7+9w79J+TOrXGpWq9cKAcWMwpEt1uFvaolipeug/Yx2C/hHWsP7D47AALBjZA7Vr10evESMxbkB95C9UGW0HT8MRrQbDe4WLo8ul3NC0yOWNtutiVZ7ZGuX98xNc8R+GSsIeh4W6Y/mGFRg3qC68bCzSyl4+Hyxgl6MBBiy8DN5ZPz2Nw4nN09G1YRm4ZXNCyfpD8ce+XVg3Zwa6VbGHuUTeLayRs0ZXjB8/HuPnrcS+8NQxOdLL+xYEbJiE3n6VkZ9nb2YBxxJNMOmPIOmAk7IDfY8nN05j8ehfUKd4DdRt0Qtjxo7D2H4/o0bhahg4aSaOBD0QvCHgFWJP/YneP3nBSTCAX7nJG3Fg42h0q5Af7vw2LazhVLY5hq86i7uK/p+28agVjeHmmFo3rDwxRK9v/pIdvzhTxivvyZ/x+MZi1JUWCt/zzLstfBsMxbF7+ss8euadnbWhPvP+6vYFLOpTBtV/boEVp2JhCONtGJa8C/OYvzCcw9K+lWFryb+zmwNnaok85UfgvAjvjBND3t/8cwmLelZFzUajsSfiOdK3OaTxopZ3YeCwTb+Jxtph9ZEvrUtvqZEH8ViEUXZFl3crN1TtuRV3NVB7d2ksPNMGuDPLngc/TzkPFbeSNPzS9602bHmPxtQiHKxy5MUvu8UbqE5CVnR5f3UdKwc0Qj5zM9QZdhipb2VMwn8vYnFkQR/ULZwztTxPqYPlQZlqE3Ag6rEo3V9J3mVinl7e+Yi6hwV+sjSWjo4o1rQ1Bk+ZgbHd66Kwg2SdIxrOOYVH72T2/u3Le1xY2gwl+Rs2NnlQrfd8hL/6iE9v/8XFTb+j208ecBI8UiGVd36zSR/x6NoqdHWV/H56eb8bMAU9anjAytwU1aeH423yN7yM344O7qnfsXYui97zLkDyFugHQasw0q84nGwtUW7IAfzND+DxNhrLWxWCmZUtyrYfg9Oanp+VnGTPDqFjrtTtOBTwxdSzKiwTgCZ5//QwBCsHVoad1Em80XjGXtx6/QmJj8OwtU95WJqZpJ0z1nAtPAh75FobP+Hm1uFo37YrVp+7Kx2X5NyYfLCWPEfP2G3euVQ1tOk3EX/+OQNtPCTsrZC3RHusjpAv8d/FH8SUzlXgzI9rUWYgAsLvIyk5GUkvb2BB84Iwt7JDkfoDMf/8vxJqAN7g4pquKJdP8tscXMqVQ6NBU7By5TT4FZQst4B7+fZYHar8JnFiwBgUzJX6um/TvN1x7LlgE1l80njlHV/w9K91gm6DbPL+4c1R/GIvCSxXVG+7HDdU1qZ1Hz0k7+xMDVLe+VeJ/N4JpWo2wPS9IXj5UaSRnxQwGq68p+7ohwen8Ful7GkXLhM45i2DJeEKB6GHWb3L+9t7OL2kB/I7WcE5X3FUrdsQDRuq+DSojzoVvVJbQTgOFtldUKTCT9L0PefsROQj5V0IMwJdnz59sHfv3oz4aR3+5hfcOTARP/nYp8SW0cq7XQHU/O2gtIKrEvCHYIwtllaBNHVE0bpLEKkyse5XGLS8h06FG2cGZ7fuOCzCjUVF2uLKezy2/9IABawsYFJ/EmLkKtVJ+PzuMcJ2z0e7KrkFAu+MetMO4R8R7maTvEvqtKoHrNvTQ5aGs8uH6gNW4+bL97h/dhnal88hzcfsHVbg1lNZS/f7hG1omSbf2QpVxLDtt6Q3oD+/uozfW1dCLqmwKr4q7gueJhzEwOKybcuNNv/yGmY0LQoHvus09xPWPeLrU8n49O4f7BxTDQU4DvaetTB2W2zq60DvXca07pXhmNLiWxmzLv8DSUerp1vaphwDP15FizlXmAZSfLSzQ9pjIBbIU7il2kdlVMr7ly94d/Ma/Ie1ko1Gn6sI/Ib54/rfb6WD0n64fwK/lkl7dp0zhVWeMui6NU5w2j/GqTmzMW/ZIdwWvKP9e+SdqzYQB8Of4Fvye1wcVVSat+ZuJdHJP1q2zbcx2DaqJTztLVLSeAzciYdv0oQo6Rv+Xtcq9btWuVCh0yIIXxIQvW0AanrK8pXz6oytsS+RnPQOx4YUlm7TwqMqBmyPl21TOHXLH/Xdc8CU42Bi6owee8W/aSrcvYycNmJ5T0bi4wjM+lkSPLlRu8cyBMvfVErH/v3rPeggKWjsC6Px2MNKupGk+5rOFpC8s6M0OHn/9BRh20ahcbmfMWXNFbxR/nAY+wHqMKWhyzvwBa93/QKTtFY/e1dPzA7UIQDGn9K7vL+Iw65xP0svZCk9DyTlj5b/vTrMxsXbqlsGGBEwJ8sc8g58u3cMI+v7ptz0IHnXlL1fcLCHpPXHHoUrzkaIpq/ocL0hy/vl0bnAmVsj38Ajor52UIJbTHmP2NgeZfNYpFSqW22StHlK9iz1f9KnRNwOWIIOVWUCb+XUEeujHkLfYyGSvEvqwWzybu9VBaP3/5My0ODL6xvQo5ar7BrltxBxj2XXmejlP8M67VqVt/TP+DNE2GDxBMcm+aGotOVeO3mP3twNFdxT44zznYiIr6kDliTzz8u/uo87sbFIuHsPL/5L7Qlw5/BENPZNG0fHewAO3X4ufXtN4r6eqcdg6oLSjZYx3ZQ8N9wp7bitkNenG/bKtYTLx7uivJuY2MLVqyiK+vigcP6i8HSrhFq1mmHUjD9xKiwCT16/R9rhpP3QF7za3kXG2cwePj+Pk72q+v45TJ27BKvP3JEeE//F75H3IkP34vHb1FewxS6sIttmnuLwWxEmPbC/A2ajTRkbmKXlb9NF1/HifdrI78nf8GR717TvmsLKuw6G7JGN5qco78V/O4ZXn74hOekbrs2sINtmgUroviFCuk25iXs70Cafc+r2TUyRb9xFudVZecaI5R348vo+9g7zTQsSE/g2H4Ijf6nP7sQbc1FeUml2L4sOa8L1Ojoxybv6/BGuNSh5/5yIO3sWo6lXFXRfG4qvYr2TSghIMG348g7gWwB6mfDiYA7n/K2xXdgLS3AsGTlJ8s5ON7PIO56dxcTGpVMGrmu5NBQvVA6Qw37s2qYUpdt80lF0lVzLWFveARzvR/KePn/P41dbc1hY22HkGVmX4fTp9LdEPHm/iSX1SsMl5UZre+x+o1rF+Yp69J7RaOAjkUcztF1xAy/110EoJUNI3iX82eTd0acGJp9IvSmjXt7vYF5VU6mIuZetj7U3hOfAcwTMaIniTrLty3Wb53vIqmx5f4ojY+rCQ9ITtsJ0xMnbrnBDAO5i3+g28JE8/+07BMfvyl7PK5V3zgRupethjdoBQPif/gcrfpK0hGsv7xZWNfFn7Hu8f89/PuDDh4/49Okzvnz9lvIuc4WdT539Fo/ZFWWsTPKWQts1PNB3CN++DIsXb0bEa/nXpn2PvAvf865a3l/j6uoBqJZHtj+tloXJrp9y8s6By+GL1rNOS1+jpyjv5SZfwH+fk7ST9+QrGOeRB5b8dczEFDmaroEen2JWmkX6WmjU8o4vbxB3cDRKmaUGX+7qXbA6UK5/V7p8eLFTcufLFPnLN8OGqHRJMnQByTs7XkOR9+Skt7h1fRGaFqqETv4arwjsB6jDlJlC3nEa/VLk3QquRSbjmg6Pn/Wn9C7vrDvGp6Nn3rWhJU2b9CgAYxuWRA6bVlh1474oz9yKIe9ITsb+PtZpFWsXlG2wAKHCRjEpIfmJ+IUVU79jkxOl+u7Wa88zw2x5T0LCHw1hYWYCG5cRuCKPS7Q50eT94WEMqOwFW75Cbd4VBxNVy3sqnNvY+WtTeKXVw3hx0Pe4EyTvMgFT/sw7IOw2r1beSwxFwD+v0l7/F4+ZZWW/rVt5j8CK5pWQR3IDkuuIA/Ij5Smce7exZ2QrFJGkN7eBQw5n5MyZM92nRO2W2KTxeaC/sby2RN7tUKjUdFxX2KJwVrHl3cK6DtaxPlsv+KGPxwfASnIMXG5UbL4EIU9vYsvSxVi6PTzd20J0Ku/2Hvh5zGGkvuznLg6Mb4+i0n3hoFbeuQL4uccGSDr6M8u7U3G0nBGg4s0mgRgvlPfGq/GPgFVWnjRuecdXvPjrBMZWd0itjPg0xoR9sWrfOXp1SvGUtKaWeVGry2bIOoHoJ0xI3tk5G4K8Jye/QtS12WhSvwrab45UUQDJH9Ont5/03m0wU8j7p6PoZmICE8tsKDPoiObnc+Wx6mSO5J0dY+Zoef+I23sn4aci+VBj/F7ceaXHAUwEKEWRdyTj1fFfkSOt8uVWtgFWhqR2lRTsmsLkJxzoxre8m8A8R2E0W62iO6PCt3Q1a5Dy/jka8+s4w8yEQ8FJYtxSVE5XNHmPWo/GZdxTusxzRcci+L3mcyp+11DU8k4dNbrihBN4IhjwTPnR6XYpybtMsHUr7+fQP5vst11L/4wVwcIy5kda3iMV5L0YZt1Qd/dRQd49e2B37FN8kW+o1iKwHmJtI4m8Z0PBEhNwWXhoCr+kK3n/+uk8hudNHaSNf4zOwasaeo9YgPnzF2B/bPo3wmecvN/DkamdUCJlvIHUPFYr7+YeaNBvGySdm0neFQJEy1kjl3cA7x/jyuo+yM+PdulUBj0XBOChyhPwCZbV4YPUAi7ejbHo+kstcf94cpJ3dobiy/tThJwdj3q1q6HnkgvS7kJqj+BZNNYsvwx9vyLY8OX9Pe7uGwwfEw62JRpiu2DMFLU8dbyS5J0daGaQ988vrmBBx6ooUaQPNoaI98pGceQd+PjmIqaXdU+5IZ3NvTwGr7mp4RWMUZjhYwLO1AquNcbiygv2eNBFSkOU9/dh81E1RzaY5CiJpQbUsUo0eX8diGmNisMxZYTrGlhxW/NzKM/OzkOj0s7guDzotz0GkjGvdBEzLL9B8i4TbN3K+2Msl44rxcGxSHVMPi4cVOxH5D0B6ztXg5tkJHWOw8/z41IHplOa6fdwZHIH+FpJjjU/em6OwNvP323vODlI0nPpO7rNf2fLe3LSF0Ru6gA3aYu3HRyyN8bIOaeVNmhknLz/h5ANQ1BbMGK8WnnPVRrtF16UXl90Iu8fTmNIwdyw4FmYmMK5/VY8U5r3WW8hyTu+4tXt05jTphgcOHv4tJ6CIwnKX0vwOnwqKnAcLLPlRotRZ0R5tsIQ5T10mmRkSBvk9/0NZxIN40QRV97v4dzeQahSvS6GrAvSOHJpYmIi7gUew6ph9VFu+CmmFnpdUhZD3r99eYbAo1uxcPlKbDwRjL+fyUaoVTy2+4Fb0Mk3G7i8JdD1oL77u8j2huRdxkLTlGjynvgY144dxu4dO3Dqtmq7/PQ0HocW9ESdBg0wfmswnsjGWNJ0aDpfL5a849tnPDq3DLW9+AqtI0o2Ho/j91XL1puIuahiwsHSrgoGHtf3LUbA8OQ9EYHTf4KTrRlcu+1ju0Gr8+hR/oOiyTveIWLzYFTJY5cykFTFcVc0vH/5I2K3j0RNz2zwqD4Zx+++lo6wrfzIdL+U5F0itDp45l2u2zwQPD21tyrfSmyTrxz6+UcIBnS8h30jmqCwrWz77M+8JyJ6XT+UcJO1QnMFm2OPQr/pL6+e4N+/4vDw43vE7ByHn71tU3vachzcfpqP0Fcf5Mat+vbhHR7Fhqp8t7gw+q5NKpT2W/qTd340/cSnFzDcW8YsR4XWWHQhtTO7cP/46YyTd+BZ8Fr0rZUXNmk3EuTkPekbEv5sImVtX6wOJh5/JN09nci7woB1JWbqc/hU6aGIMkHyzmP/+hb/nl+DntUKgctVCb+uuognio9pvQjEtNp5YW5pjaZjFyFYFoN6zThDlPeTAyVdh1ILsH1qRtzUJyzR5P31XRyZ3B3l8pnD1K0WegwdiqEaPr169UKrikVga1kR86P0bxFiyPvb4CWoWDgXOAtb5PCphhZ9x2HpvkDEPHsvvbi/fXsPJ7bMQpdqhWHp0QwTd52BCOPUScOW5F2KQuOEWPL+z5FJaFbWE26urijetAuGLd2Nq7dkvaQ+f36HiGsHMGdQezRp0xUTt13Evdcqu1tpPE5dJBBN3gF8ef8CF9f2RNXcHGxyeaD9lK2IVtZ88eo6fm/C36gthC6zLkKMYt7g5P31ZYyrng82pvnR/7j68XJ0ESfa/IZ48g4g8S/sGloHTrbm4PJUx4xLqtk8jdyDia2LoHit1vjj1B2809zLXhsMTGmNVd4/PwjDqv5lpYLFC7ZuW96B99Hr0UDSOmvlBN/W43H0ViLw/jlun5yPXhXySV9vym8/d/tNeJwkaQ1XN2AdgKeXMb5ZEWQXdN0u1+4PHPmLL++/4r/XUQjYuRQbd50H/5bUDw9PYYpfGemjQhznjQbT1iHyCT9KfTK+fPoHV0/8gT92ncffqtsSpDH15uzQlNfRcZwZcnnVxZoY6ap0E7rqNs//8LcPL3Fufl248tJsmxd1Bq3ATRWvp4xYUBU2FmmDjFo7wmfwITx//wyxsWcR/DC1m33C/9g7C+iojr+BbhKCu0uhuBct7u4QpIYVLRSKa6EtUqNIkeJWtLgULcVdWtwSNBACxG3j2dzve+vxWciym38n5+Ss/fbtzJ15ct/Y7q9pV8F0MyDJCevijHkHwl9y4IceVMqj+27pkTvx1M9SHxsTzYER+pUkshek3ldLuGd2GEgVeb+1mLqFc+KgXSquFJNOJd7wmqAw/gfekPJuKMRwfx4fXcJXTSpTqVxHRq86gbt+llTvO5uZ3qUWecq3ZtjqA9zzEdirDdtN5Uf7kncfvG6tZZB+rJpK5UjGvNX4eO4pHvsncSRJZR7Jbc4m8u53kYUDXaiYMYNuzJ+xa5PpwKicoJL8b/QLD0PfvUjYQt6DXRfR0JxF+izkKVWVei3b08HFBRcXF9q2bUL5opVp+slPbPn7Prbu1CHlPbk9Lu5ntpJ3/8OTqFwsm3Efc8hTgmoNWmnrk1KnOnZsR+uO7eg3fh5bTz/CN+zd729xSYEt5R002nWRT6+dhMsHhclesCa9Jm7g3BMv/U00P1zPbuGHHg0pXLEl3y49LXRhGz+PqfHa3uTd99i31CqSHcfSwzgZYB+zzBs421TegTCPq6yf9REfpHcib9U29J65lrveprtCYb7POfPHTwxu34Bmnwxj+fG7BNho+dT/prxH8dJ1ByM6ZDUeK5Xrkrxdx7LTzcu4FruuPl1lUQvTdYtzwSr0XnCBIEK5s3Ma7coYuo+rUGX/jI3nvYjSrdqGJsqPy7+NoK7+XJ8+R0EqN2iHS/tWdO/iQt/6ZXTDVg3XAjkr0KJLF1YrQ1Bi1Lw4/jMfZTP9dqY6Lvx8ylV/bArnxY0VfN4sHxn03ecdnfJRtmFrXFw6075rV/p+t5p/PQxSF8Kzk0vpXeV93YSKym/mLEqdFp1xcelCtx6dGPfzBm56Ci53oD7P6LK6tGUrWpGJB003iQ37oe7Rn+PTWlM0h5ORtVP6Qgz+U2wepLjbUu4zRONz9xBf1VKRrUxjJm1/GK+8TN8IdV9N50z65fEc05G1aE1a9ujN0Dl/cCtIaaV8zT9r+9PEcINFGUff6meu+oQSyys2dc9tTLMqXREa9liLm9mS2kEep1nQryaFlbkNCndmzV/3iI6J5cXlPXyqbDN9Tkp1mantUWNKlSfnf+tBLbOZ6nO2/42HYVHExniworNhCT4VKudStO2/hceGIjRtBJ+9I3g/n64nhWPFSVyynZqZperdPJXybs45MgRf9yvsWzWTfn0bUbt+VapXr06lTk3p+etW9ro9w8cGd4XNk2gX8n5vOwN7tKJ69UpUKp2frNoZwPUHV0dnMuV5n3KVK1O9xef8sP16gtkvzfNjzefvXt5d2TSgLSUzOmvvBCYp6IaTVCKPbRfdJuzNZ1B5Y5y2kHdNlDe3Nv3I4A5lKFnSdHJWuBUpUoTWrXsxffo6Tp++wdOXajTGu/FvnM23/qKUd3GEtpJ3Qr1wPb6BaX0bUCOdaZmijBkzUqdJG0b/vJlT59x44RtChJ34lm3lXSnTWKLDA3hw4xTLZo2gV50qfFi+ElWqV6d69U506P8dv23ZwT/3nqC93hOvBqkaaV/y7sPBCY0pnNWRSuOPEBJjaC1M1Sy/8cZsLe9KwiNDPHl4Yz+7F46jW92mdKxUSXtNpVxXNW3UlpHj57Lm8AWuefgSarC9N87xm3/xPyXv0eF47J1M9epVqVShGLnNxFh7zZI1N8XKV6Jq9epM2u1OaNRlfqhRmsJmXdtVThnJUaEDfUaNZUC7fGQ1a/lWqXJQtNRYDvsr8qf8xRId4sWtQ8uY3LCkvqU6D+XrjmTNn6fYMbkjHWuUoH379owa9QsLdu7mz2vX8AiIwPPPiVQqmZ/s5tdKmbJRoPRHzP7zBjpVVvPq6TFWfdeL6o764336zORvPpi5f5zi0cugOOueEx2M58WzbPqyM02zZ9SNl1apcP7wE6avPoK72Rr1KdeoCNyXddHKrWPeUrT77VqcrwRc38bEvi2oXr0yJfJmxtmwTJ2SHwcHshcrTaXq9ejcZxbJdE6Js03DC03AMw59157yzUbxp3tyE/WF4HFgGS5VdNdYGbMXovO4rVz0DCSa11zcMJVORXOSxWzuAFWm/JT5eAm/z6xGEbMJB5X5vrJkq02/qft4YkgI0QS9fMSpP+YyuHkrSpauTLVq1ahYqihN6vbi+7V/4/rcfCiMJyeXjKF1kexkMv/NzAUp32stG2dUoJB5XVOlJ1vORgyb9XeCocpX5jSiUA5dr4Iev3sneQPDmNT/oSdS3hMUZiwx0RGoQwLx9/fDz88Pv6Ag1JExyc5Cn2AzVnrDLuQ9OoKgwAAdG4VPUv8BQagjouOMJ7ISlkQ3++7lPYbw4ED8k+Ih8H5IhMYmvGwh70qhxUZHEqYOJDAwbj0KCAggJCSUCKX+xNrPRbFdy7uyWlx0GIH6euYfGEy4DS+IbSbvSsXSRBMRGkyQ2T7n7+9PcEgI4ZHRaPStQokeOGzwpu3lXZfp2FgNUZFhqIMCCDCyCyQwJIzIaNvf6bAvedcQqQ4iwN+PoLDkLp5tUKH+v0erPci7LucaYqLCUQcFGY9NyjVDQEAg6tAIojSxNjnnmZfKf0reiUUTEZL0dZtxv/cjJCJG6UyO2uw94/WefxBBwSEEB8U9d+s+DyEy3nlbmWhNuT7SnZ8CCArhAWTaAAAgAElEQVQOJyomhqiwEEKCAlGr1YSHR2rf0x1pkktnEKER0ZgO4xqiIkJNx3t/fwK0xyxThHl5KyeA6DA1If7+Rg7+waFEvMH5MiroCpOqKTKel2qtF2K+/kZsdAQhQSldK/sTGBRq7KkQJ53JvQh+wan1k+m88GLK39VEodaXk79/AOpwAzsNUeHqOPulsXyDwghXm/gY3/cLIFgdkcCHNMq1XEgwynnWEBusMI2OXwYaIsNCkvjNcMLVidWnQEJCI+P95jVm1y9LdgcVqprfcdv2HeiSK61U/0zKe6ojte4G7ULerZvFVNv6u5f3VEv6O9+QreT9nWf0LX/Q3uX9LbOXql+3qbynak6svzF7kXfr5/TtfsG+5P3t8mLtb9uPvFs7p2+//f+WvL89L7kFMwKxUXif/5G6GdORvVRtJu3xMLupYBb3Vk9jiAgLITg4mNAo5UZhLEHPXfn965GstKMVLt4qixZ9OZbo83OpWTov6TI2YN6Ndz9PlEXJtUKwlHcrQLXmJqW8i9OV8i7OSsq7GCsp72KclCgp7+KspLyLsZLyLsZJiZLyLs5Kyrs4KxmZCIGIIO5vHM57uYtSvf0sTgUIjplPZFOJvRUVsI8vWuXGyVFF7R/3ER7hw9Xt3zFw4sF3vjJRYul7t+9FE+5/lRX9a1C8aDHG7HxOhP11fLI6EinvVkecuj8g5V2cp5R3cVZS3sVYSXkX46RESXkXZyXlXYyVlHcxTkqUlHdxVlLexVnJyMQJRAV5cmxhf6o3aE23KX9w9aE/qTX3sPeuoRTKpZsU0PmDISzZMp8vunTg13NJL4WaeCrT+LtRanzdjrJ+XFPq1a/JgGXn8A21/XAuW1CV8m4L6m/xm1LexeFJeRdnJeVdjJWUdzFOSpSUd3FWUt7FWEl5F+OkREl5F2cl5V2clYxMmkCU2p9/9q1lbN8BDJ68kQuuiUyRnvTXk/7k0UE+b1QOJ0cHHBwcef/Ddoxfd5mApL/xP/lJ4J2TrBk3gP6fT2Dh4Rv42eFcI+8KvJT3d0U6lX5Hyrs4SCnv4qykvIuxkvIuxkmJkvIuzkrKuxgrKe9inJQoKe/irKS8i7OSkSkRiCLI4wZn/jrB3Sepp9fPTu1i7uzZ/DJ7DjtO3iSVbguklBm7+tz/4Q2O/nWeu69C+I/NT5egHKS8J0Bi329IeRcvHynv4qykvIuxkvIuxkmJkvIuzkrKuxgrKe9inJQoKe/irKS8i7OSkZKAJGB7AlLebV8GFqVAyrs4Linv4qykvIuxkvIuxkmJkvIuzkrKuxgrKe9inJQoKe/irKS8i7OSkZKAJGB7AlLebV8GFqVAyrs4Linv4qykvIuxkvIuxkmJkvIuzkrKuxgrKe9inJQoKe/irKS8i7OSkZKAJGB7AnYj7yqVCmdnZ/mfAgMnJycU0ZKsUq4rCqd06dJJVinUKaUuyf0v5fqkcFLqk9z/xFgpnJTjlTxWpcxL7n8pMzLsfw4ODrJOCRzT5f4nVqeUeiXrlDgreTyXrGQdsH0dUK5FP/vsswR3EcYdOE+tRTve6l+V3AZuvjQtcaDRaMibN2+CRMg3EhKQLe8JmST1jmx5T4pMwveVCz35lzIB2fKeMiNDhGx5N5BI+VG2vKfMSImQLe9inJQo2fIuzkq2vIuzkpGSgCRgewJ20/Iu5V2sMkh5F+OkREl5F2cl5V2MlZR3MU5KlJR3cVZS3sVYSXkX46RESXkXZyXlXZyVjJQEJAHbE5DybvsysCgFUt7FcUl5F2cl5V2MlZR3MU5KlJR3cVZS3sVYSXkX46RESXkXZyXlXZyVjJQEJAHbE5DybvsysCgFUt7FcUl5F2cl5V2MlZR3MU5KlJR3cVZS3sVYSXkX46RESXkXZyXlXZyVjJQEJAHbE5DybvsysCgFUt7FcUl5F2cl5V2MlZR3MU5KlJR3cVZS3sVYSXkX46RESXkXZyXlXZyVjJQEJAHbE5DybvsysCgFUt7FcUl5F2cl5V2MlZR3MU5KlJR3cVZS3sVYSXkX46RESXkXZyXlXZyVjJQEJAHbE5DybvsysCgFUt7FcUl5F2cl5V2MlZR3MU5KlJR3cVZS3sVYSXkX46RESXkXZyXlXZyVjJQEJAHbE5DybvsysCgFUt7FcUl5F2cl5V2MlZR3MU5KlJR3cVZS3sVYSXkX46RESXkXZyXlXZyVjJQEJAHbE5DybvsysCgFUt7FcUl5F2cl5V2MlZR3MU5KlJR3cVZS3sVYSXkX46RESXkXZyXlXZyVjJQEJAHbE5DybvsysCgFUt7FcUl5F2cl5V2MlZR3MU5KlJR3cVZS3sVYSXkX46RESXkXZyXlXZyVjJQEJAHbE5DybvsysCgFUt7FcUl5F2cl5V2MlZR3MU5KlJR3cVZS3sVYSXkX46RESXkXZyXlXZyVjJQEJAHbE5DybvsysCgFUt7FcUl5F2cl5V2MlZR3MU5KlJR3cVZS3sVYSXkX46RESXkXZyXlXZyVjJQEJAHbE5DybvsysCgFUt7FcUl5F2cl5V2MlZR3MU5KlJR3cVZS3sVYSXkX46RESXkXZyXlXZyVjJQEJAHbE5DybvsysCgFUt7FcUl5F2cl5V2MlZR3MU5KlJR3cVZS3sVYSXkX46RESXkXZyXlXZyVjJQEJAHbE5DybvsysCgFUt7FcUl5F2cl5V2MlZR3MU5KlJR3cVZS3sVYSXkX46RESXkXZyXlXZyVjJQEJAHbE5DybvsysCgFUt7FcUl5F2cl5V2MlZR3MU5KlJR3cVZS3sVYSXkX46RESXkXZyXlXZyVjJQEJAHbE5DybvsysCgFUt7FcUl5F2cl5V2MlZR3MU5KlJR3cVZS3sVYSXkX46RESXkXZyXlXZyVjJQEJAHbE5DybvsysCgFUt7FcUl5F2cl5V2MlZR3MU5KlJR3cVZS3sVYSXkX46RESXkXZyXlXZyVjJQEJAHbE5DybvsysCgFUt7FcUl5F2cl5V2MlZR3MU5KlJR3cVZS3sVYSXkX46RESXkXZyXlXZyVjJQEJAHbE5DybvsysCgFUt7FcUl5F2cl5V2MlZR3MU5KlJR3cVZS3sVYSXkX46RESXkXZyXlXZyVjJQEJAHbE5DybvsysCgFUt7FcUl5F2cl5V2MlZR3MU5KlJR3cVZS3sVYSXkX46RESXkXZyXlXZyVjJQEJAHbE5DybvsysCgFUt7FcUl5F2cl5V2MlZR3MU5KlJR3cVZS3sVYSXkX46RESXkXZyXlXZyVjJQEJAHbE5DybvsysCgFUt7FcUl5F2cl5V2MlZR3MU5KlJR3cVZS3sVYSXkX46RESXkXZyXlXZyVjJQEJAHbE5DybvsysCgFUt7FcUl5F2cl5V2MlZR3MU5KlJR3cVZS3sVYSXkX46RESXkXZyXlXZyVjJQEJAHbE5DybvsysCgFUt7FcUl5F2cl5V2MlZR3MU5KlJR3cVZS3sVYSXkX46RESXkXZyXlXZyVjJQEJAHbE5DybvsysCgFUt7FcUl5F2cl5V2MlZR3MU5KlJR3cVZS3sVYSXkX46RESXkXZyXlXZyVjJQEJAHbE5DybvsysCgFUt7FcUl5F2cl5V2MlZR3MU5KlJR3cVZS3sVYSXkX46RESXkXZyXlXZyVjJQEJAHbE5DybvsysCgFUt7FcUl5F2cl5V2MlZR3MU5KlJR3cVZS3sVYSXkX46RESXkXZyXlXZyVjJQEJAHbE5DybvsysCgFUt7FcUl5F2cl5V2MlZR3MU5KlJR3cVZS3sVYSXkX46RESXkXZyXlXZyVjJQEJAHbE5DybvsysCgFUt7FcUl5F2cl5V2MlZR3MU5KlJR3cVZS3sVYSXkX46RESXkXZyXlXZyVjJQEJAHbE5DybvsysCgFUt7FcUl5F2cl5V2MlZR3MU5KlJR3cVZS3sVYSXkX46RESXkXZyXlXZyVjJQEJAHbE5DybvsysCgFUt7FcUl5F2cl5V2MlZR3MU5KlJR3cVZS3sVYSXkX46RESXkXZyXlXZyVjJQEJAHbE5DybvsysCgFUt7FcUl5F2cl5V2MlZR3MU5KlJR3cVZS3sVYSXkX46RESXkXZyXlXZyVjJQEJAHbE5DybvsysCgFUt7FcUl5F2cl5V2MlZR3MU5KlJR3cVZS3sVYSXkX46RESXkXZyXlXZyVjJQEJAHbE5DybvsysCgFUt7FcUl5F2cl5V2MlZR3MU5KlJR3cVZS3sVYSXkX46RESXkXZyXlXZyVjJQEJAHbE5DybvsysCgFUt7FcUl5F2cl5V2MlZR3MU5KlJR3cVZS3sVYSXkX46RESXkXZyXlXZyVjJQEJAHbE5DybvsysCgFUt7FcUl5F2cl5V2MlZR3MU5KlJR3cVZS3sVYSXkX46RESXkXZyXlXZyVjJQEJAHbE5DyLlwGPnjdOsqa779nwIABuv+vvmLy8nWcvOaJWi28obcKTAvyHhnix80j21g6aRITDKwGDGDKlHnsOnmfZ+HRaN6KgtiX7VPeI/C8eYjfJujrkBkfY71K8r2vWbz1H7zEsm9RVJqV98hIAtzcOL5pE7+NH88YPbup607zIjDKIgYiwWlF3kNe3WPXXIE69vs1kWy/UUyalvc7m7XH+MHDRrLivO8b5d+SL9m9vPs/4tyOBfzyxSD9+W8QQ4bNY+neczwNCLAkq28Va+/yHhurwcP9MnuXTOMb43F8NOPGLWLDnkt4+oe9Vf4t+XKakvfgYJ5dOcKu38YycugSzvmq38k1goGnlHcDCfkoCUgCaYGAlHeRUnp9hGWTmlO/mgvDl+/j2LFjHDt8mF2//kj/trUpX6U9A8du5drDEJGtvVWMXct7TBje11cyuW8DGjVuz+hJmzm0+5iO17GdbJj/Nf2bt6RRk0H8eNSVaE3sW7FI6ct2Ke/hHhxf/AWVM6pQqSz9L0vXsdt5lFLG3+DztCbv0RFqbh1axtefN6VhjRqUq1KF+t36MW72Upbv38/J+56oI1P/FlGakPeoQO7unU6j3CnXr3arPd+gtoh9Je3K+w0W1y+t3T+ds+Wl54ZnYhl+iyj7lXd/XHfPp1/HRlR8Py+5HB30xy0HHNPlJn+JijTrOoDlhx4R+Bb5F/2qfcu7J1uHN6dO7cqUyJ+VLMbje3oyZMhHkRKVqPvxSH4/+YjgSNEcv3mcfct7OKHe1/ln9wImDPmEFo0aUbtyGYrny4CzUzfWufsS/eZZt/ibUt4tRia/IAlIAjYkIOU9Bfivri2naZ3S5MzcjVVuz/EJ1bfmxcYSE6rm2dk/GNG2OBky56F25ymcvv46hS2+3cd2K+8xkfjuHk27IoUpUaUPPx56gW9gJDExhvzGEKEO4PXlZXQt8R65C7zH5KMRhg+t8miP8h7mfpFf+1UmnfHCLmXBMkp+iSaM2HCD1G9PhrQk75Fh9/l1ZCeK5M9J5ryFqDPgJw5ffcpzL18CQyOI0Giw1m2htCDvIZ63WfhpDpxTqmMfjOJcgPUukdOqvF+aU4sC6XWS+t+Wdz/O/DaIpqVy4OzkmOTNRsd0GchZ6yO+2//QKsdx843ar7xfYFqFUuRJ6aascyZyF2zCtD/vEWCNA7kZLHuWd997l1k6+Uu+mbOCJdO+pEbpvGb1S8q7WTHKp5KAJCAJJCAg5T0BErM3/l1Cg0qFcHCozswLfol344qN5cmxhfSqqcLBwZHyfeZy4Wmo2UZS96m9ynukei99nBzJUrg8w7c/J8lG9VgNT9f3okCO9Dg6NWTp49TlY741+5P3cJ6cXUHPMobWKwvEXaWiTIu+bLtnHS1NM/L+6DfqO6fD0dGBrMXKMnjnRV7EWE/WzeuT8tzu5T06mIf7J/GBQ8p1q+b0s0REW6c+KazSorx7bBlEsTwZjCLxX5Z3n9ML6ForPxUqtGH5wRMEhoYSFRVFVNR9rm//no+rm9UxBwc+6DIKa/u7fcr7M1a7FMTZQYVzk6aMOfqQx1pOUUT5P+fatpm0r1XMWKdUKgccnVxYfscTa96+tmd5JzYWTUwMMRoNGo03R2d9StU8hvqURuT9ws+ULZobZ2dnnNNnoNOqJ/FPF/K1JCAJSAJWISDlPQmsmohLzG5Tg7wqFc71ZnAtMDyJSCDoNhvGd6Kok3LyKUGvRSfwUKd+l10lAfYp79FcmVEDlSoDhcv3ZdeLpFFpP7nwA8XzZtFezGQeehBj43wKX7P0Y3uTd436OccW9aFcttI0GTifndcDCA5OPlcRvg/ZOLQ8jnmr8PEvJ/BLPvyNP7V7eY8M5tX2IdRSpNTBgXzlavDbP9br8p0USPuW91hCve4zp1M+anVayu2kMvGO3k9b8h6F+s56PitbkgJ5s5PB4b/d8h796hS/DmrJgOnLcPVNbJy2hqCXp/mmQVZTL6KKHfl2r2viN7lTqc7Zn7zHEHZ4IgUKFaLQuCO4J5HPQPcTjOlbl0zpzXowdFzA04BkriuS2Jbo23Yt7/EycWfTUBqVTEPyHvWIVb0rkitrJnLla8+kE0/j5Ui+lAQkAUnAegSkvCfKNorHOyfSoEw2rWBWn/o3gWHJKWYIN7dMoXXJ9Lq763VHsP+WF9Zo1LJPeX/E7LrKideZQuV68EdKN6CfbaJLgRw4qlRkar4Ya5327EveY/B2O8a0z+sxaN3BJC/y4lTH2Ci872+nXyknClTrxPxz1lJ3O+82H+nLgzVfkDOzbv/KULwWUw++ioPqXb2wZ3mPjYnAdfsgaharxdQj3u8KSZK/k5bkXf36AFMalKVkiRH8eX4+zbLoWt//qy3vHqeWs3HrUu74JNOLLDoYt0PTqJNJL12FGjFi9UWsOX2d/cn7Y1a6fEDFyQeJikm+F0vgjS0Mb1eazOkMktqcxff9rXazIy3Ju9v2UTQtk07fO8HeW96j8Dv0HVUrVqRizykcf2jN/hNJHl7lB5KAJPAfJiDlPdHC92DPhA6UzaI7yTb+6TxB4cm3pIfc3cXo9mXJoB1nWoTPlp7HOyz57yT60ym8ad/yriJr4fKM3uZBcu0Jof/OoWHerDioVLzXdxfW0gy7kndNCM/v7GXFmiOITn+liQji4tIuFHXOS80es7lsxRmh7Lfl3Y97W7+hcb7sOGn3rVJ0WH8rhb3Eeh/bs7xHeV9naoN05C7SnIm/n+X87We8DrTdhWWakfdAdzZPaUmV2nWYvvcRIQ/W0PI/Lu+EhEBoMuKu3cWUG5KHGVNLd57MWKYt3+64Q0rfepu90+7k3XcfY1uMYNfdoKSHihkzHMyV5YOpVUR/k1+loveml0Sn/mWC9hfTkrx7H59N+2p50oi8B3Jlw3SGf7eRO/6hVptfxVht5BNJQBKQBOIRkPIeD4j2Zdi/LPykIQX1Ez59ssqNkJRmhw27yeohbSiq/07B/mt47JOcwib2wym/Z5/y7suqDvrWhPTZKdZ6LBuSnLgvmPPftyBPFidUqsIMPWS9ZZjsSt5jIgnzfcaLFLrJm2pALKF+l5lSRUX6AhXoufAK1lzLwF7l/dW/8+lVPh8Z9ftV1R47sf60WKZSiP/MnuX9zpp2FNFySk/G7JWo0qong8d8y5Lf9/Lv3QAiUzqGxc/sW75OE/Ie9oLLq8ZRp2YTBiw7yauQaHgq5V206AOfXub7dsqxPxfVu0/nyDNrqjvYnbw/O82WAzcJDReb+DHk/CLa1yykl9T8jDzgJeUdSFvyLrp3yDhJQBKQBKxDQMp7Ylx9TjHT5UNy6YWh2ayLBEWkdHv8IdtGu1BG/x1Vg2+48CIw1bvE2ae8g9vGrhQz5D1LHqp0n8yflz1Rx+MbcG0NPWvlJ72TivpDtnI7KF5AKr60K3m3NF+xGnxPT6WUMhShUleW37DuRbFdynvQXZYNqENBQ7fc9zuz3T35rqmWYrY03m7l3fsUQ8vrb6AZ9kP9Y5a8pWnYaiSzlp/Hw/vdtcTbv7yH8fjofHrVbEiXcb9z1StEN/+GlHfB3SKSl7e20L+YinxlWjBz+0OrLxdnd/IuSMoYdms9LvWK6+W9FUvdZLd5hY3dy7vvffav/Zlhw4Yl+z9uynSOpDRs0FgZLH3iz8XV3zD6q7hpGPPNj+y8Ga9b3qt/ObhgGuOGDeOH5Tt4FByW6teilqY+Ovg1F7fMTJafOd/hw4czd+58lizZw5Xr7ljxUtHSrPyH4n24vXkei7de5c7en4TLbvbs2czbchJXX+s1zsUvhFjNbdbF2z8n/rKCEw+s2ewVPxVir2Miw7myeSm///X4jc+ZUt4TYx1P3rP334SvOqV1XeLJe7bP2PjQO9WX9bJXeY/yu8uMpiZ5SJ85F6WbfsGvB+8aW4z9Hx3ky27VyZKhDM3Gzefay+TmEUisYCx7Ly3Le6wmmiNji6DKkIcPPl3KPSs7lz3K+5P9k2hTzjQhVtmRh1Db1t3tdrb5q3OrkTOetBuXGNS+n4nchavQqPc8Tj1+N2so27u8v762jUld3qdh92/ZfzcQY8cEKe9iB9oIP26sG0iJopUZtPgEnu/gGul/St5LjuCYd4jVul3LbvNi1ViJSnGd9zAf3K6d5cCBzcwYWZv38pqudZTjrEO7L1hz4ABHjp3ikb/471oWGY7H1eMcXvsDbc2O9Vnfr8rYveaTt3pyeu5QmubJol0uNFuBEvRedQV1ZEoNUJalxtJoTWQIHrdPc2DnRhZ/1YEP85kzLErnSYvZuvcABw4c4MCqVUxtVZ5cufKQP39JqtVsTe+JKzn5LN5NCksTIeOFCXjd/J2vu7akTvuvWXXsJd73z3DgwG5W/zKcJoXMy64gLYf8yO+7D3Bg3Tp+7laHAnlzk/v9StRp1ZbPf9rE/dR2eP9/WLntHB5epkat2NjXXNw2kUalTGnLV8uFBad9hPP8rgI1UeG4bfuR4W2b88moxRx5YvlMMVLeEyut6Fus6NmU9wwHyBwD2e8bvw05/hfjybuqCytdX5suCOOHv+Fre5X32NgYXtxYT/9yph1HlS4zuau1Y8qm89w9uor+7SqQqXJLBqw9j5tvmNUuWgxo07K8a6JP8WVOFRnzlaDvWjfEOmUacm75o93Ju/8//Nq7AQWcDfWpLUseWG/CPlFi9tryHuJ5h1u3bnFw3z62L5zN4MFNKF7cwM7sMUMuiradyWmPAKut8mBgadfy/vo6K8e1oXybz1l16hlh5juYlHdDESb9qInk9YX5dK/xIf2XX8JLGW7wDv7Surz7nZxN66q6Nc1b/3gWLyvMi2MoBinvBhIpP6Yo78ZNRPN030TqldVNZmy4QfrxNt9Uv9Yz/mT8J5EhbO1hOqYnlPeHbB3Z2dQLVKWixtSjBIZbt7EkfjKTfK2JxufiBoa1MAwfUfJSgVHbbuFnuIMaGUmQ+z2O/NBe30vFifRZ8tBkwDSOJ7WkQ5I/KD+wlMCrg1NpWLUwWbot4PATX9SGciGWQNejTHcxX/qyJP0WHue54tFRUahfufPXt/V05ebgiHP2UrT+bC13LU1EkvGP2Dm6OxV7zOGqe9ybORHBT5nvYto37FXeIZaYUH8enNrGmNa5qdx5KOuvWHbXT8p7ohVEw7WVvfjwPUMlSMeAHT7K0qRJ//lfZmH/puQ3CP9/TN4VMLGxEXje2s7gCgZuyrJejjhnyETmTBmo0G8S2x94EhwTa3VxV9KTluU9+vBQnFXO5C/5CX+8g67i9ibvvmcWateYViY11F4gdVuOV8gD/v57KcOHN6Vhw2xky6b/L16c2hN/YNMj/zfugpT0jh33E3uVd0MqNRoNMdHRRESEofZ6xb2Ni+hVs6j+AkjP0jE9mXqt4qWVJ7OzX3n35tKGCTQs1pSRay7gp4l3YJfybqhOST7e2jWEBpnT45StAJX7z+XoLa8kY1Pzg7Qt774cn/UxVfI4oKo4lL0PfKx6U1bKu3jNE5d3iL22ktY13otzTB1yWPy3UiPy0Bema6yE8q4h+sZGvmlcStsbq1LHnznmEWz1m7WW5Cvw5i7GtDcXwHjyrt2YhkCPvxlZ2ZRXx8LKihaXrH6etyQv/2uxL/+cQM1SOXCo/jUX/BMOt1A/PsOsz0qb1X8zedfD0EQd4HPDtZvKAcfCVemx8noqoPLn9ML+1CnghEP7H/gnnrxHBnuz8mNTfbFfedehiNX4c2PfNzRxSke17uM49EgckZT3pFh5H+ebtlXJ4ahb71dVYyrXklwuLpYYr3PM7d1Quy68VjacurHa7b/T8m7CGInfg0PM6FSV9I6mnUhhUqb3eLbcf4E6/sWy6cup+iztynsUu/uocEifnYr9t2LeIS5VAZltzL7k3ZcTc/tQM4+p/jhlykKOXC0Yvewo7vo77xFBXpxcNYZO1TLr6lqRqnScs49rPlECMz+bZd6Cp/Yu74lmJeAa++Z2pkax9Dg5mJh+tPoJEVZsjLFHeY/VqHE9toCPyxah7fCVXEust5qU9wTVSBOpJuDWTXbPGULt2qY6ZGh5zFOiARPX/otnlBUrFHY4YV0CUkm/EfPqODO61iSXcyY+WnCOV1YeZiDlPemyiP+JJfLO9VW0sWt5j587+3stJu8Q5vuURd3MjzcFafXlCq4mdty2v2ymsRRpiHq6iy9rlyKzKj2fb36e6PWBiLzDY+bVi1tudTov4eabEonVEBXuybGFA6mTX7/d/wF51+LwvceWr1uRTlWA5kOWctk7RqhxU8p7MpXJ+9SvdGtSmpzOTtplzaqO38tDDx/jzPMaTTQhgV54uF3i8MIxNC2dz3g3KlP9qZz2+O9MWGfEGBtDeOAzTqyfSudy2cmZI7N23JXhIk9V6lMWHb2Od6h1L/KU9KRZeQ/eSVeViiy5KzDnqpGsVZ/YlbzH3Gfj8A6UNN65zUHredu5H5FY19xwnp5fzaCaOUmvjS9C+zHrufo6zCotDWlS3rU1J4BLa0bQvJhuHKR2f6w4jgvBiYvpvoYAACAASURBVDFNnapmd/KuicL39mGmfFKJGh9P5GhSE0tJeU9QAV4fmUn75nWpXr0iFSuWonDuzMZznenY3oTR6y8TbOximWAzb/1Gmm15jwji3MovqFs8KwV7zuPKM+tPvyXlXby6pa68xxAW9IqH165xzez/rrsX6sgI1K/deXzzBteVz9ye45Pk/hJDdLgPL57f5eZN3bZcn/oSpoklyZb3yBBeubvG+V0lDa4vg4mJ12gSGxNNsLcnD+/eNcbfuePGi9eBRCa2fmFsLKH+L3lyX5+vW3d54OGDOtHzcvLs31zei9BuxBpuJLFqT0SQN8/c9Om7cYu7T18TFGaYryqCgBdPuGdWJqbyeYaySWWuoUDP+0Ye12678dxHHedaIkodwMvHt7lxXfc71x944BtvOarIEF9TOvS/9/h1CFEaiAz25MH161y//gBPX0Pha4gI8+fpA0NZ3OGBkvaIMPw8XhEYEZVgwkElrSE+L3l0754xvUr5vfYNIErzBvMbhD9iw6hmFMuqQpXzc3YlMbTuTeW9VptfOPrUkD99GRnL4gl+kdFaaQ33cjPm59q1m9y594ind8+zdnI3yhcwuyHQcDibDp7RxT7T3c1JvOX9NRFqPzwe3OOW8nv3HuEdHJlkA48mOpLA1y9wu3PHmI67dx/iHRBMTLzu15pof54a86DL0+0H7viqIwj3f8Xzu7e4qXx+/wkv1dFJ/KY/13Z8RwtlafIC9Rm15izehiqbzG4k5T0ZOMpHvq67mDWgK42rlSJ3bhUfdBjKDyv3sH//fo6eOMq6jUv4afgndCxflOxG2VBR9+v9eASm/oWxvY5512KMjUbt8Q8bpgygcfWafDL6B2b9MJouVYuTK4PZTleiPqPnnMYzKF531RTKwtKP06q8e21wQaVyJPeHs1NxnFDy9OxK3v0uMb9vY/IZ9ycXVrm9Tnryx7AXnF4+ijoFMumF4gMGrz7NSyuM8Uu78q6UvzuHJ39C6ewZ9ZxKM+a49eYRsC951xDufY21g5qSr0Ff5pxIZuCklPdkDhavefnyKjsXjqdju0Z8UCh7HIkv1WYEW68HWq07eNqU9ygCrmxgULOKvFdxIKvOPzFO4poM6Lf+SMq7OMLUlXc17v+uZ3i90uTObLruKdtnGpsPbOTXfk34MLMzTsr5rXwbvlpzgYQrLEbh736eAyuH0qV1IUp+WJ1WHToxdPIiNh13ZXtS3ea9b7H1lwF8WDQPWYznz/hj3mOJifDj/ondTB/2Oa2bd6ddh2ZUL1WAYgXK07nv1/xxypWgOOdPNR5XjjF3fG9aN/6Qtp1aU79BbT7sOJSFO8/xIlDANsyKQ0zeY1F73+WXNiaGqmwfMmDOMV6bbUv3NAzvOxdYPm0wrRtUpXXnDrRsUoNyjXvx/ZpDPNCusvKK8ysm0KpwLv2NfsN2i1Kn828onbpjwgK4tHoIdSoWJGvmHLzXYiAL/7qvXzUpgoAnN9m+cAo9WtemVaeOdGlVhfyV2zNy1nqueoQZU+Vz9yAzPy1NvoyG31DR6ZdTvHjqyoZZH1E5nSOOTh/w6fgTKNPHhvjcYdevX9O5WWMatWiPS/vP+WrYDOavX8zo9mPZ4voC84WnNVH+PDj9J98P/YzGHzSifvN2uHRoSsta9RkwbBI7jl/lVUhkAuE3JjDBk0i8j82lXbUC2uN5jj5r8AhIfJZkIXlXX2Sc+fxXGYpRu9O3/PLjJ1QpnptMZnVTpSpA6TrfceS1bmjHiz8n0al9E8rmcCJzzop0+mIGc379ht4NPuC9nCaeqgIVaNq6Ay4uLrgsOq/NUUJ578iMPw6zc+FIOlYspnO0ojUZOH0/D4Ii4rVwa4gK9eLG4T/4um8PGlRtQuOW7XFp15DmNRoxbNJ09p+9j1+EqWU8PPgMP7apTqHspnQVatyDH7ftYt3UT2hTKLtuP3y/Dh/9vJfbfonvJ15XdzCque6GePmu33LwXsrDXP7n5T3U/RI7NyxnwYIFyf6v23kYtySvY/1xO7+bBQtGMWqU7n/ChAnMX7qGdX9d5+GDC6wd04FCxgr5PsP+uGGafCPBjvLmb1hT3gNv7EyWkYHhnouPCDA/kijZidUQ+vw0Cwa3oHTeMvSZeQA3bbfAUB6f/Z2p3T+kkFEalIr+IYMmH+HZm6NI8ZvWkvdotQ+3jm0QYpWcIySeAQ9WtMqKg6MTTX5zSzzECu9aS97DPK6xb8uKFFmt2bKXO4ZJQePLe96+bHuc/PjQsCfH+KFnNeMFS4EOP3D6Ser3fLGmvAfd3sdvixamyGrn6bv4mCZZtaw2eBxhRJsyZEmnO9nUnXPHsu9bEG0teY8JD8T11MYUOSnHq6OPdCfLmMggzq3tSYNizRi/5Y62lSXJrPwPyXv4qzsc2bEqRVYr12/lRsIr4iQRKRPuRIY84fiiibT8ILdJ4HPWYtjSk7w0NCgls4U3+cia8h58/zArlv6WIqttx67y0oIu78EvrrB6XDMa1W/NrD3XkmlpfRMiSX/HWvKuiQrj6bnNKXJS9r/DykWowD16u18qzhyzULf5EO6cmEUns/Ha+WrVolWvXnw5/HNalclGOv2wwozZqzHjfNym5KDnF1k+sjGlFCnIWZ4R6/7GKywav4cH+XnoKLrVN8lCgjHvoa7sG9eRSoYlVuNNWKeJDuP6jtF0rVKYrO/XZtSGe4SEPWHvDz2poLT+qVQUqD+Jg66+xhvm7se/pX/t90mfozDd510lMNKf23t+on3pHOQs34jJ689bNAxESN41UXhd+o3mhfV5zZSD4j3GsumWt3lpaJ97XlrE2NYVcHRwoPaks/hpwnl1ZR19q+QhS5GK9Jvzp24VAPVj9k7/jHJ5DDewlW335k+z3gPR6pcc/60fDWq48MMZN+Nyx7739jBvYGPtdWyZPr9zPzCSWJ8zTGlYkHSZstPoq8VcfWVIWji3d35L+9Kmcur07Wp2/bGBSeM/oWo6J1SqdOR9bxLHQ15waF4nymV8n1YDl3LXSw1qNS/P7OfH/k0omLMbS26aybsmhmcnf+GjakVQZXmPRgOWaXtWEPaco/OHULNQZvKXa8XgVae0Am9IUbKP4Q/5Y3wHSunLv/HME3irE2+9F5H3wBNjKW70oQzkLteDH88+JzzgKUcXfUnjYllN5wxVI8bteUyQmdeGB95jToe8NP1ijXE56adHf+WzGiaeKoFu81mLlaXZp4MYMeRzujcqT37jPlGFUfvvE252cNJEBHBr9ze0q1AAVc4KdJ+4GXfvUAh5yK6pPSidOwOFq3Rl1PZrhCldKLR/Mfh7HmZ4I1O6spcqRf1PP2Xg0M9xqVuS3MaGy/cYuCvxRoOIx6f4uXdlHZM8DZm06TI+ZjwSK7v/eXl//dcMGlfIZVZRTJCN3f1UKko37cmWN5oOMQLPs6sYUE93x0p74Ks7gQOuPsYDX2Lg3/Q9a8r7o9+apMhJyV/rb/cQf+Lv6IgbrPy4Hvky56HawHncjDN/URg+d8+yYmwHiuU1P2hWZtK51F5DwkTWWvIe5nmDZYPKC7H60tKJbB4tp17WjDg6NWS1Ne9smDBpn1lL3r1P/krnmqbhJOb7nPnzoh+2Y/UNfaLiy/sHo/n7eQqzo0c859AvfaliuAOa+yNW/vsM073weBl+w5fWlPcnKzvi7KSfY8N44kt4vGoyeo2FomWeWTVXfu1G8dzptfU3Lcp7pO9j/hihP9Elw0mpX/13hWhvLAZcXEnLsunIUaAqXb4Yy9ixyfwPbE0xZ+XiSoVj+kyUbzvIGP/dgt858zillUfMeYs9z5Ejh1ighVF+F1fTp1GhFI9V+cvVYdE/Fm5caakKfc2ZNcPMln3KRsvRq7mW8Pra8o0n8g1ryvuzDT3Jm805RVZ1B83lvEciiUvsrWAPjiz6gvqN6zFh7d94xutem9hXUus9a8m7cvP64KRqKXJS9p+e658lOm42fh7/9+QdXlzcwBAzyVbl+5Bha87gFRrA2e8akjWDo+4YkykHDeeZTeYV4cWZlSOpq+8inK/lZA7c8TF23Q68OYt6Zse9BPKOH6fm9zXbJ+O2vIc9OcgAbatoVio0Gc0R7b4aweNTSxhYpxBZFXmvO9F0DfvgT7pVVc5L6chTrDtb9ZPwRLqfZU4/XT0o1OQrNv8jPsdTSvLu4+PDzaNzGdhGuc5KT458NegyciYb/7lPgjm53U8wst17ZNTekK7Dcr0fxfg/Ye+URlrGuat0YdbBp9rrgVD3vYxpUo5sRoYVGHnspbFKRgc+4+CioXw0fpupR4TXTRaPak5h7fVFJb7+6zFq/chPz7VdtL+RMV9p+i65aVyP/vHhn+lR1XT+LlmtFzMOPkAd5c72j8vh4JSeWgN3c/vpab5W6knGfJTtNpX1t7yM1y3qJ+eY1XcSWx6a5D365THG630j4/s1GPLHQ2Paw65v5PPmJXT7ZskerL3kSYTBM41RCZ+o7+1gZJty+hbxggzedIfAJG7AJivvAQE83LeGIa2L69Lg5EzOKp2YseIfY2+JCK/rrBnfhhLZDGzyUHPqn7wKNthqLKF+l5nV+iNW61oAtQl+E3lX5StDuynrufMqgPvbJtGsTBZdulQq8g/dQVC4vne0MqTu1jYG19CtBJK1SntmHDJdgIeen0+LKnrHK9efA09MrSdqrwdxZrhXZS9J+0m/c9M7gNu/D6NWMUOPUBUFR/+VEL7yju9N1o1vq1/uNweNxvzOTa8kCkC/BSnv+h34jeXd/z5bpnWloLF7VGUGrTxllS67SpnZq7xfWFiXoioV2YpWZMKhxLswhL+8zY5pnSicK4NxBypcZwG3E6/Ob/1uWpT3OwsakSWDI+nariXO/Y+3ppH8BtK8vBPF3V3f0L6s4YTQlnkXHhvvmiefe/FP0768Q9jNpbQvkZd0KhX/CXnXRPNqc2/jMcf8ppGlz/PX7sYiK6wbm1blHTSEPj3Dr70/MPKtP2QBF1+I71OWRKYpeY/04fbu7/msSStGzT3A8wDDxaklOX7zWCnv4uxSt9u87nfjy3uhDt/xt6u/tiuz++8fkSNzOt0+kzE7Zb89bUxsmPsZ5varbuxaXG/EGq6/Mp8j6BYzzbokWyrvp7+vrJOEjO9Rf9BmDG2BkSGvuHfhKPt37uTvq0+N3eZvza6BozLRqWNGirT8DWN/wJdXWDysgS4PWZoxdeu/JH7lZ8ya8UlCec9G6Tot6dS1u3auojZt2lC3cm5UmXJQ9LNZbDxyhQevAkisI7fb2o8omU9/063sdNOkaEHPOfZTBz3jqvT+/hC6e26BHP2uDWXMumDn7rFJL5eReLnuY0bXISwxmxXvxd8/4VJdvzxgsYHseOBtbJxT7x6g+w2nfFTvsox7+lzGl3fVhxM5+URX/upHp9m1ew8Xngbh8+gAX1XSX7dkK0CJup8yY/EBnvnqBNHvwQNehZnm8Lk06wNy6b0lf8WGzDtv1g3WdTdftKugS48qO2XH7uCVwCQkTw/OpHNVQ8NaJcb/6UZS0+EklPcsvF+1Ee1cutO9XTsal21I+XLlad16ANOWr+DQxbv4xWlFicL3/Ap61jdbsaFwF9Zc8yFa6aUTq8H3zEyaDtgZpz69ibxnr9aRn47oTkbeJ+fRUS/n2vP+p2sICNUdk6PDAtg3qTw59FyLN/6UddfNatuN1bQ1rtqTk0ozTftrfHnPVaMH8/5+pq0fCRqP+2417gNxngS7suO77lqHUtKWtf03HL2f/N4k5f2t5D0c97Or6FfN1AWkaLtvOHzXz3iXNE4BpcIL+5T3C4zJqxx8MlGs8hiOJ9MwFen/jI1flSWHvvuKc8Zi/PgGLT4iKNOevN/g5xqFSO+goseWuOtXiuT3bWLsSt6j77NxWAdK6PdNlUjLO/DwwAy6GLspSnlPsj682EHvsoW04/56brNePbNWt3mLW96lvOsv5gw3thI+vmnLu7aORb/kzOrhVNXurwXoNHkTd6w0G3SakfcoNU/3r6BPvZb0nXMY7wTjzJLcO1PtAynv4ijfhbyX7fMrl9x1Qpa0vIfz+MQSelUyNXA0n7CJ23F6sjxhgVmLvmXy/pxfG+v3/6zFaDxmj7FFNHFa15hRLod2wmZVukwU7fE7zw2B5vKuykqHb7dxL0GzuCE47mNCeS/Opz9t4fieGTTMmVn3e8rxxMmZQnVcWJfk6K77LO1YhTxO+jzVm8djw0+Zy7sqI3X7/sBpfa+B0Htr6V21CBkN1xhZ2rFJcbyIAG5vm0zLAet4bLzX5sHB6T2pYhi/XnkEBx8rI9V1f0Z5V6WjWA0XNrrq3o8v76W++J0H3mairQ2LJfD5P3zf2vyY7EzOvEVp8/lENp97TtwVXT34rZkpttAHTVhqPqlxHHlXoarzDZe9Q+KN7dYn3PgQzOXVw2lUxLBdS+W9CB3HL+XAuX9Qjs///HOPe/fu4+7uRVCEmQAbfw8Id2fndy6UM95AyUThkbsJUcaTx7izoU83frkadyjJm8i7+VJxycl7eOBNZpjNjl+meR+2Gu7CKOmOI+8qVI3nGfeD+PJeqHFfVl/UibewvMc85+9fB+nPoSpUlfqz/vIzkmt7/5+Xd01kKAF+Pnh7eyf77xcQJNS9y7z+hXn8y5IvqpDBcOAo1p6Ze24QaDaOwjw+NZ5bU96VyTpS4qR8HqiOiDuO7elSGmgPglkpUXUml1PIaFToYUYWzq2dsEXpltr9d+PpIIVvWvaxteRdmeUzPNhPiJUlvSRf7PqSUnmULjaf8Wdye61lGISirSXvyvjIQH/fFFn5+gdi6MEEMdzaOJwmJfUnk3TdWPvAy3inO6kM+V5cTd9G+q5NZQey9dbLZA9+SW0nufet2fKujOX2SeE4pex/ASHhJDYZcHLpjvOZUd57sN18oFmcoLd/YS15j9XEEBHin2KdUlgFR+gG3GoigoXitce/qwtpnFl38eycNTfdllwzftc3IMhsvNvbMzJswVot77FR4QQHCOx/fgGEGa5GDYkSfvTm8uaJ+nNAdQbPP4qHwDhn4c2bBVpT3jXhQfj6pHytEBAcpp012ixZ8Z6G8+LWKj4pW4fu888QbDqwxYuz7ktrybvSMhapFtv/gsI1KYiDjsF/odt8kvLunIUSPTfql4QN5f5fc+lWwiBSKlJX3o8wQD/ficohPx92WMytZKvhacbmza6XaQccM2QjT7585FP+8+QiaybTMJNm49ZzS7C7YEJ516/zHh5O4J7hpDMbPubolJ2qradwLNFt/8vshpWMLdEq56zkNqQvbx5yZNEND1NaM6t/MoW/DSuMaJ6zeXBNChjHQDtTYOJJwv2fs31yLX46HWE22dsjdk7oTjmD6KfLRI7ceXQM8uUjr9lcToWrNGP5NR3Q+PJeecRmHiWytECsJoBbh76lqWH7+kcn5wxkzVGbzxbeNJtj4xhfOJvqRorynu5jNnn4p9CYGMC5ZUOpb5zJvR0LkxlymLDlPeE678lWKe2HGqKu/U6P+vru9UqeM3zOvuBwYh4upXOH33gYr7t/qst7rWncCFFuLsQS4rODnob9QlnWOiV5TzeAI/pMWiTv9WZhqIJxGXlyYtGX1DTUgTK9WX3haZxJCuPGw/+8vMfPcGq9jg17yfmVgyithe2AU7raDPvtpNXX5LamvL8xmyNf4ahwSJ+T8r036rsmJb+1k5OLkt5JN6a06xpDx63kv2Ppp9aSd0vTIRQf+5yNfStqJ7dIN3CP0FdSM8ha8v7Gaby/nb7NyxrvwH+00hV1sjc0Ynmwfwadtd3PHEjX4XsuPkn95j9ryvsbs7LoixrctwyhTMFs1P3xApFWvNFoLXm3KLtvEvw/NGHdm2Tf8u94c3nTBOorcwS8355pO28mPyGg5T9g/IY15d34I2/1JJJXz1bRtWV5mi4yjfNMbpOxMbFCgpvcNhL7zGryntiPveV7/2l5T5eFEp+s0183KfvSRBoo3dT1F/LNxm9MxZb3Q3xuEARVVso3Gs0h4yRriRWimbw7ZaJot9W4p8KNuSTlXX+O/3tkFu2wLgMDVY4ytJ2yj5cJzlfx5L3ObB6Ipu/KPKq8b5psM2PmQWw89gvdPvyJuJ1B48l7xeHsf5T8BLoKyfjyrp1tPm5jshnwMB6fWUHfihlJ7+RovO7R5b8iY3e76id0+5tB+okOlc9SlHfHj9j4PGV5P798KA0KGupcexZdTXq+oNSRdyXr91jTsylFHU3z/NT6/jK35jSmy5qnZmx0T1Nd3mt8w1WjvG/jUzOuKcq7Yz8Mo9ctkvfaP2KaocA8i1LezWlY7bkmOpC7RxfxSSmlsjuROUclek3fwb0kd8zUS4pdyvvz32mlvYOZmfc/mMDJOONbEs/709VdyJDOkXQZCzPzUuIxb/tuWpL36Ecb+bR8IdJnzMvYv95BRYoH1+7knUfsGulCmYy6O/sVhuzAMzS5pkE/zq/4iob5VKgy12Dspn/Qrg4TL59v+zKty3t0yCm+rVeO9wp+yd7XwWatC29LJuH3pbwnZJLUO9ZqeU/q91Lv/Vii/O+y49vOvJchK02GzrPaeHclzfYt72rcXX/DpXE52nx9QGzOErUXf2+6Yerqm3oFg5R3cZg27TYfR97DcDu6gI/LGERKRZk+87j41DRBFrxNt/ljfGFsbVZRsEoL5p8NSaZl9gKT39N3m1c5katIB1a7GfuTiwOOF5mSvMNZJpfIb+rWrlKRq0Jzvtv9kDDz4f/cYH6LyuQ2ilc1frkpmr4bzG9cnqx6eXR0dKJmo84M22OavE6X7KfsnfIxFY0ts2X4asd9gqOSv0tgmbzrfink4VU2DOlK7XzZyWT8PWVJwTGc0J6vn7OwialupCjvtaZy0SulbvPgtvtr2lUwbNfSbvNv0vKuy6/P6dm0q5xPt2yi9qZSFWrmncDFePVFeWk9eYfwwOtMr2PIv0DLe8O5xpWyUkXeNR4cnT+YaoYbaxX6se7Ss0TneDCgkS3vBhKCj5qYAK7vm6Xr1uSckdzF6zP0h13vRNyVJNqlvPOSrQPLaddQzFakAhP3vE620kE4//7UhPTpHCjVYAmGScYFi0A4LO3IewR3V/ejXIGMZG+7ALcw0ZOPMIoUA+1P3pVb10cY2aUiWdIrB9XGzLqe9FpW0cE3WTe2A8VVOSnRew5nn1pnLLddynuYL3cvX+bS5Su4xZ0ZJk65K2PFj/zamxp16zF1zxPUVq5mUt7j4E/2hX3JezQBXk+4fO4Eh89c4c4zHyKSGKcRHebPhU3f0qJEZvK3GcLyS/pBpcnm9s0/tF95V/bBH2nXqCpdZx4hzhDlRLIbHh6O74PrHJvzMSX67iS+LiTyFYvfSkvy7nFoOq0rZ9e3Nrdl2X395FUW5/rNvmA/8g6+N3Yzvk1OY8t7kU7TOeoaYHaj9Q4/VDSJhmVj3j3Z9EkR47ZVWYvSbMQa7sdb+jDC6xkvAkOJ0nixs18JHPQ9AdJnL0TXny4R/+wa6f+K18rQmzhinXRZpCzvEP5wCz1LGeqEkt/sVGw2mj/+Nc3GDn78PbU5RbLpVgdRWqNrjjoRZ6IzJRXRwf74eL+OsxyZ8r7XgVGUyamfqM0hHfk+HM2JBDtvCNfWj6VpcVMX/FIfr+R+YNx1wjWR4QR6PjU2GsSX95YzjvA8MF5fcGXJzfAgPJ+aXTOHvOLOlh8Z1Pg9chlutGTrww5P3dK3578vZ5xYLb68R93ewoCWpY3lW+CLzXgmNW28WfE8OTiDTlUM8yy8O3mHR6zrWYdC2ms8XZ0uPi1uvwdDMq0p78p5bM+4ksYVCOK3vEdcXkyraoWMXIuMP2ZIFqki7/EmrMvcdip/3/uPT1hnJJwKT4Ke32b7wqm0L6bCOWMOKrQcwPc7zpqNR0mFH0lhE/Yp7xD5/BAjlCXBlK7zLt9x9Jn5neK4mXr17woG18xOoXofveHyfHG3l9SrNCPvobdZ/FkN8mXIQ9fl1wnTTrmZVK6s875dyjvgfmIWvWvnIZOTiuIuX3PatHqHCURUAHf2zKJz5aKUqDGE1WeeWK3brj3K+4sDU2lWtgyly5aj7YTZ2pl5nyhrxer/IiKCuH/1b1Z9/TmtOnVh7PoL+KiT68Vg+ObbPUp5F+dnV/Ie/JAd84dQpnAOVPnL0fjTUcxef4ArD7zx1+ham2JjNXi/us/e5dPpXKMC7zf5nHlHr4i1NotjSRBpl/Ie8pKL6yfTtIwT6ct/xo/Ll7M8hf9Zs2Yxpl1NsqQvz/fXkh0PlICB6BtpSd7vbBpKI8McJ6qqTDv1isj4niOa8TeIs0Tew84vMC0bpW8pG5LIkrDxZ5tPcsx7nJZ3IMCN7d9/RNGsekHPX4eR687hFRoDIS+5e2ACjQwtdCoVGQpWoM+yG8blxRShTW6puOCLc6ihnWBYt/18ZRszYe0/uGtnRgvH1+Mie5Yt4uCtFyg/6XNmEpUcDF2bM5K/9KfMO3MbX20Py0iCvG7y96717L3sSiJDuhMtDRF5j42O4M7W4VTNo+egzXMhPuwzl+Mept6JAf/+Srv3cxu72afP1JKpf13WrzsfTWjgQ84f3syOo5dMS78ZUuV3iSkNc+PkoAzhzEzzxfrZ5gyf6x9DHu5hXLuKRrlTqWowYO0BnvgrlTSWmCgv7l7YwcYte7mlv7MRX94L91uJq1f8bqnR+LifZd7or9lx1yfOr3oe+pZWlXUz3OfpOJ9bfmHa4TVRHofpr++ZkaNMXaYcNn3vxdHZdK2pv+FRrDY/HXiCfkL1ONuO/0J9ZxtftS6j7+lQmCGb777ZUnHxNyzw+um+UTQqllXX+p6/DsuSmJzQ8+wK+tU3LfWmavQ1px75EfTyCuee62ZKjAz2ZuXHpvqS7IR1xm7zgCYKr6vr6VFc911lVZmFZ02zLz7ZOZp6pTPr5L1UE5ZfNNW/N3Oq2QAAIABJREFUVJF3v1usn9BOP3dDNhqMUpYDTv68IFveU6hcgYGBPPrnL9as+o4vP2nFe07OlGvcnREzlnHoystUX4oqheTYacu7srpDNO4nljCwc2WK5S5C/X7T+f3IRXxCTRIf7HmfE1vn8kWLKtTrOYy1FxPc4kwp+xZ9nlbkPeTqcrpXK4xzwe6su+OrWy7Dopy+fbC9yjuEcO/Qr4xqVUk7zKLax8vYf/khutHs0agDHnJm02wGtmtMo7bDWP3XPXyTP+a9FSx7lHf3Ve20vVi04+Oc0pOtXAO69RvBlClTtP9jxnxJr95d+eyL6aw6eg+/dzSBlpR38apmV/IeeJ2VI9tSwEwQVPnL0qBzP76YNJmvp0xh8uRJ9O/bhRplq9Fx4By2n3mM6Ugvnm9LI+1O3oNus+27L6mfOWO8caqmC0jduNUkXlebyb1IweZKC2GlDXkPI9TnXzZPaGM283R+Gk7cy81X1r0+MMcpLu9qrm0dRI2ShmW1dOVaY975eOuPq3l8cja9PzCVe+6mE9h325toAjkxua5xnXeVYyaKNfiVO8bm7EheX/+TaW2qGvfBvNU7MHjkRKYM783g7h3pUMy0XVX6HBSr3YMZq7ZxU5nULewB+yd0orJx+WIVBYeu5HGo7sQYHfmCQ/O7UdE4xjkz+co0pMfQMUyZMpqBw4fy3dq/eWlcIeEph8d34j3D8SB9ZgpWb8XAkcr5ZSyTpozh1y1HeSx64o0Mxn3/bPoYJFO73Tx0nL2LeyGRZj0MYokIecSumZ1Mk8UpsQUq0mLiWk4/C9JPSPuCM7MH8kGWDLp90MGRLGXq0ecrJX0TmDxlFD+v2s41j/jirKsBhvNnxnI92J3k9Eu+3Nr2PZ1LFySDgUOhyvT4YhJTpnzN11OG8e0vCzjiapC6cG7v/JYOpc3KqeEU9rsHGGep1/16tG6puLr5KddtnNk1cyivj0yl9Qc5URWoy4QdNwnR381SrrWv/jGExoVUKD0nGn+xioevQwjze8Guab11Nzvy1uSj+YfxFFgmTpuOMDc2jW1PSX2dafr9SbzVid09i+b19Z2MbpTL2AqtUuWk+aQVXPIJjZc38z0smefBrizpWZ4cGVQU7b8r3n5k+l746/PMH9iQ/Ab+eWvQ/YtRDJ34Devu6SZuCA+6yC8tTMwzl27OpC13CSOU25vH07ikXsCVbRT8kqNPTbP/R6m9Ob6kJ7WUoZe5K/HRlG089w1D7fWE379qRYnsyncaMHD9JUKjDGxiCH55hGmGFRyUZd4qdeKHP90IR831VUOo+Z7ZsaLwGC75mvJkeBbx5BSz+uiXW81VnwkbLuGdQs9IKe8GevEen51ayrcje9G1a1da1GlPg3rN6dNnAgu2bOXktcd4v4srlXhpUl7aa8u7krbYmEheu51g9/IZjB/wCS7NO9C/Rw969eql/R8+YATfzfiZOev+5MwTX/SNOInkMnXeShvyHsTFhb35oKAzxXqtws0v3CqTF6VE1H7lXUl5KF43T7N40RT6NK9P+9rNcdHWqX70HTCJcd/+yJJ1f3DurkcKk9qlRCHlz+1R3nl9jS0LJtOzSWnT8nrKSSRrVqo3bM3g8XPZvOsUd56bz+ifcl7fNkLKuzhBu5J31Ly4sIs5A9pSr1o2smQxXQwpIlqmTBlaterHN9/8xs4953FN4qJYPPfikfYl7084MPkzKmXLqJuw1XBRacFjgznXiUowCZc4j+Qi7VreA59xauP39Or1ET061aVy4RwmKVL45f6ARh060qt3H4bOPUEi17vJZd3iz1KUd+/b7Fg8lV69utOsThGym4mxsk84lKlJl169GDxiPPsehPL8+h9MbFbB1Hqu5ClbCeoOWMSGZYNoVS6LtrVXd2PHicxZa9Nvwj7TTNSRal78c4QVX3WjeYFsZNHWqaLUdZnGn6ePa5eKK1euHK1bt2PAkCl8s3gxG46ex/3RXXbNH0rDEvnNWolVqN6vTNtPlnBd23FGQ0SoG4f/+JbPW1SloKG+5i5Ore5fMXvdcR56xxsHH+zKwVk/M7xecYoZ4rMVoFyb/sxe+xfur0w9vZKCHxX0ktNrJ9Lr4260r12WwvGOKznL1aBVj4/5rNdSrsWY5Ej94jy/fVzNTBZVqPKWplrroSw77oq/IjnqJ5xatphJLcpRypC+DNkoWP8jvlm4g7vJDaN7fYT+lZypOvls8o1x4a+4vmszP/VoQs0s6Y0t/ekqtGLItGVcMFvPz9f1L37qU4GC5vUkZzlqdZ7Naf9QsxsU0fg8O8f8YaOYt3oFv8z4htFDh9KrVw86uNSi2ZCvmLL1PO7BcbvoR0d4c2XXcqYO6EGjKk1p3qE7H3VpS4saDejy0SjmbTzJEz/z30mqVAzvR/DqyC+0rZJfyznX52t5EWBa5k0TEcKNrVPo1etTOreqTfFscc8J2UtWoolLDz7t9TU77wda3ADlvXsIRfNUYHiysyeq8Ti/kyku1Smg//1iH/Zh2rYr+EZriNVcY/FHDaiUyyxtGfNQsuUIvv91JsM7l9BOCG26mfo+jdqZD9vVEBb4jDOb5zP2UxcaVG9Bm8496N6xJc2qNqL755NZsuMSr0IjjdfoESHnmde1DuWNS96pUGXKT7n2E5i9YCoDW71HDrMhASpVSZp1Xs1tA3b9o/e1nYxuoVtyvEznKey7E5TijRAp7/EgGl6qX7tx48pZzp5V/q9z48YDPD39k5263/Bdaz7as7zr8q1BEx2M/4sn3P/nH65o+ek4Xr16B/dXgYRYaXbd+NzThrxH4f/sLv9ePMu1J35Wnf07Ph/z1/Yt77qUhocH4PnwJjeMdeoCF6/c46GnD6FRKdymNM/sWzy3S3lX8hPuz4sHN7huZHOWS5cucdftMa/9woi2fi/5BFTTrLxHvOb2hfPaY/+5C5dw9TJdxCTIZCq9YV/yrgwSDSPw1WNc717i4kXDeVD3ePPmTR49eklg3AWIU4lE8puxL3kP4cXNq1w02+d01wtxeSX3npu36UIw+Zxb/qldy3uUmtdPbumvr5Lhde4cl+6+SmEOHcvZxP9GivIeHoC76/UU03vxyr94BEej9nvGrcTqxdWHPHG7wqV4+9TZsxe5esODuEPPown1fsbDfy/p69g1XN2DiNGE43nzLLdu3eLx4ye88gokMDJSt5RqRCDP3JJKp5tZq2Ys0VFBvHx4h38N6bxynXvPfAhLoidIbKgab9frXDPEX/r3/9o777Amsi4OhyoiiCiigCggKGLvuoi997b2XrB3XV117WXVtde197r23iuKXWzYAUF67yXJ73sGEggh5QYIiZ/nDx4mmTMz9773JJl35t478PoahFjGZ0xyj40N+fJcKcP79z8iQigxGRw/GVH+72Rs9wyfg2KyhlckJSHyy+us84OHnnj24TsiFT+mhvvxROBrD7wJzLoLK50fma9TUhD7/RPeP3oIDxEHj9dfECz1XZgcE4RPr2TltTdCUtIy5Y/rcp+aEoeQgDAkpXJDFr7i1dOnGXV9+hRvAkIRnSaQkP3MkkDIT0V0kC/ePs9i+uTJK3z9Hi63DbO2lrGU8BG7JzTNuOBUYhjOBERlTmTI3e2P9JGXV5L1fAG/6Fx8p3ksgV3/jfgQoaTbZFoiQn3f4alnxjFfvP+BWPFdcGEEPopzU/L/49d4+/4tvJ5LllO8/EniM5HBRJCahAj/b/ASt8P9+3j27A18AqOQKjX3Cz8tDB8kjyVefvIW771f4+Uz8XEk/4t7jorbIAovTy5AK+7OvmV9TNh+B0p6zKdvSPIu5veT/Nd+edcekD+HvGsHr59B3rWBlNbKuzbAkSrDTyvvUvUoiJdaJ+8FUelcHEO75D0XFSjATbRa3guQA8uhlMo7y04ohgj81AQESPp8DCPr2sOYVxhNVz5EoliM1Vyvp/+MxKhDvmC8DqTm0hTw7iO8cXROWxTiWaLJiA3wCEqVuLgjvywk7/LZaOUaknf2ZiF5Z2dF8s7GiuSdjRMXRfLOzorknY0VyTsbJy6K5J2dFck7OyuK/D8n8GQtajlagMfri/9iGXojqITDH9eOjEDNMjw4/D4ONz4GQhhwEkP7rcOjwBiZPQxU2v1PF5wEn0c7McBJB1U6T8T5T+wVIHlnZ6UVkSTv7M1A8s7OiuSdjRXJOxsnLorknZ0VyTsbK5J3Nk5cFMk7OyuSd3ZWFPn/TyDw7HTUrmgNo17b4BMYk293xOO8L2Nuj/IZ8xeUbY95B49hrXsz9Fl5GSFxGhjbp7GmFEKQFAkfz234o7UpKrQZhp2PFD8aTrqoJO/SRLT8Nck7ewORvLOzInlnY0XyzsaJiyJ5Z2dF8s7GiuSdjRMXRfLOzorknZ0VRf4aBIJeXsSU1o1Qo+1f2Pcg67Fpeap96Fvsn90TliYZz5Q3Ni+NKr8vx93vkZnj6/O0/59kY2FqMr6e/BvjW7qii/tqXPyiOl+S95+kscXFJHkXk1D+n+RdOSNxBMm7mITi/yTvivlIriV5l6SheJnkXTEf8VqSdzEJ5f9J3pUzEkeQvItJ0H8iIEkgBC/3LMXao+8k38zTcthbT2yZNxmDBw/GzBXb8fxHeMZki3na68+1MT85EQ/3rMG289KT17HXg+SdnZVWRJK8szcDyTs7K5J3NlYk72ycuCiSd3ZWJO9srEje2ThxUSTv7KxI3tlZUSQRIAKaJ0Dyrvk2UKkEJO/suEje2VmRvLOxInln48RFkbyzsyJ5Z2NF8s7GiYsieWdnRfLOzooiiQAR0DwBknfNt4FKJSB5Z8dF8s7OiuSdjRXJOxsnLorknZ0VyTsbK5J3Nk5cFMk7OyuSd3ZWFEkEiIDmCWiNvOvp6cHJyYn+lDAoXbo0uBM9YqU8V0xMTGBjY0OslOQUl0s8Ho84MXDi8snU1JRYMbDivqesrKyIFQMr7uIZfacr/063tbWFsbExsWLIKXNzc1haWhIrBlYGBgYoX748sWJgRd9Tyr+niBExUncOcOeiffv2zXEVYdoFD9TdcCJPfzxFO/AKDM88qEAgQIkSJZCSkkJ/ShgcPHgQ7u7uxEkJJy6XunXrhmvXrhErBlacPNDnT/n3z8WLF9GrVy9ixZBTw4YNA9dTiPJKeV5xFzqIk3JODx8+RMuWLYkVw+dv+vTp2LZtG7FiYGVnZ4fQ0FBixcCKvqeUf08RI2Kk7hy4cOGCdsi7hYVFpszTgnwC1G1ePhvpNdRtXpqI/NfUbV4+G8k11G1ekobiZeo2r5iP5FrqNi9JQ/4ydZuXz0Z6DXWblyYi/zV1m5fPhtYQASKgfQS0pts8yTtbcpC8s3Hiokje2VmRvLOxInln48RFkbyzsyJ5Z2NF8s7GiYsieWdnRfLOzooiiQAR0DwBknfNt4FKJSB5Z8dF8s7OiuSdjRXJOxsnLorknZ0VyTsbK5J3Nk5cFMk7OyuSd3ZWFEkEiIDmCZC8a74NVCoByTs7LpJ3dlYk72ysSN7ZOHFRJO/srEje2ViRvLNx4qJI3tlZkbyzs6JIIkAENE+A5F3zbaBSCUje2XGRvLOzInlnY0XyzsaJiyJ5Z2dF8s7GiuSdjRMXRfLOzorknZ0VRRIBIqB5AiTvmm8DlUpA8s6Oi+SdnRXJOxsrknc2TlwUyTs7K5J3NlYk72ycuCiSd3ZWJO/srCiSCBABzRMgedd8G6hUApJ3dlwk7+ysSN7ZWJG8s3Hiokje2VmRvLOxInln48RFkbyzsyJ5Z2dFkUSACGieAMm75ttApRKQvLPjInlnZ0XyzsaK5J2NExdF8s7OiuSdjRXJOxsnLorknZ0VyTs7K4okAkRA8wRI3jXfBiqVgOSdHRfJOzsrknc2ViTvbJy4KJJ3dlYk72ysSN7ZOHFRJO/srEje2VlRJBEgAponQPKu+TZQqQQk7+y4SN7ZWZG8s7EieWfjxEWRvLOzInlnY0XyzsaJiyJ5Z2dF8s7OiiKJABHQPAGSd823gUolIHlnx0Xyzs6K5J2N1bVr19CnTx+24F88iuSdPQFI3tlYkbyzceKiSN7ZWZG8s7OiSCJABDRPgORd822gUglI3tlxkbyzsyJ5Z2NF8s7GiYsieWdnRfLOxorknY0TF0Xyzs6K5J2dFUUSASKgeQIk75pvA5VKQPLOjovknZ0VyTsbK5J3Nk5cFMk7OyuSdzZWJO9snLgoknd2ViTv7KwokggQAc0TIHnXfBuoVAKSd3ZcJO/srEje2ViRvLNx4qJI3tlZkbyzsSJ5Z+PERZG8s7MieWdnRZFEgAhongDJu+bbQKUSkLyz4yJ5Z2dF8s7GiuSdjRMXRfLOzorknY0VyTsbJy6K5J2dFck7OyuKJAJEQPMESN413wYqlYDknR0XyTs7K5J3NlYk72ycuCiSd3ZWJO9srEje2ThxUSTv7KxI3tlZUSQRIAKaJ0Dyrvk2UKkEJO/suEje2VmRvLOxInln48RFkbyzsyJ5Z2NF8s7GiYsieWdnRfLOzooiiQAR0DwBknfNt4FKJSB5Z8dF8s7OiuSdjRXJOxsnLorknZ0VyTsbK5J3Nk5cFMk7OyuSd3ZWFEkEiIDmCZC8a74NVCoByTs7LpJ3dlYk72ysSN7ZOHFRJO/srEje2ViRvLNx4qJI3tlZkbyzs6JIIkAENE+A5F3zbaBSCUje2XGRvLOzInlnY0XyzsaJiyJ5Z2dF8s7GiuSdjRMXRfLOzorknZ0VRRIBIqB5AiTvmm8DlUpA8s6Oi+SdnRXJOxsrknc2TlwUyTs7K5J3NlYk72ycuCiSd3ZWJO/srCiSCBABzRMgedd8G6hUApJ3dlwk7+ysSN7ZWJG8s3Hiokje2VmRvLOxInln48RFkbyzsyJ5Z2dFkUSACGieAMm75ttApRKQvLPjInlnZ0XyzsaK5J2NExdF8s7OiuSdjRXJOxsnLorknZ0VyTs7K4okAkRA8wRI3jXfBiqVgOSdHRfJOzsrknc2ViTvbJy4KJJ3dlYk72ysSN7ZOHFRJO/srEje2VlRJBEgAponQPKu+TZQqQQk7+y4SN7ZWZG8s7EieWfjxEWRvLOzInlnY0XyzsaJiyJ5Z2dF8s7OiiKJABHQPAGSd823gUolIHlnx0Xyzs6K5J2NFck7GycuiuSdnRXJOxsrknc2TlwUyTs7K5J3dlYUSQSIgOYJkLxrvg1UKgHJOzsuknd2ViTvbKxI3tk4cVEk7+ysSN7ZWJG8s3Hiokje2VmRvLOzokgiQAQ0T4DkXfNtoFIJSN7ZcZG8s7MieWdjRfLOxomLInlnZ0XyzsaK5J2NExdF8s7OiuSdnRVFEgEioHkCJO+abwOVSkDyzo6L5J2dFck7GyuSdzZOXBTJOzsrknc2ViTvbJy4KJJ3dlYk7+ysKJIIEAHNEyB513wbqFQCknd2XCTv7KxI3tlYkbyzceKiSN7ZWZG8s7EieWfjxEWRvLOzInlnZ0WRRIAIaJ4Aybvm20ClEpC8s+MieWdnRfLOxorknY0TF0Xyzs6K5J2NFck7GycuiuSdnRXJOzsriiQCREDzBEjeNd8GKpWA5J0dF8k7OyuSdzZWJO9snLgoknd2ViTvbKxI3tk4cVEk7+ysSN7ZWVEkESACmidA8q75NlCpBCTv7LhI3tlZkbyzsSJ5Z+PERZG8s7MieWdjRfLOxomLInlnZ0Xyzs6KIokAEdA8gV9X3tPSkBQXhaiwEIRHJiBNhbYQClIR6eeNY8smoJGDA3g8Hng8a5StMwRz996Dd1Ai0gRCFfbIHlow8i5EamoiYiPDEBYUhKD0v1CEhkYhNj4JfOa6CcFPTsBXz/NYOqQHbM3NRawqo3qP2dh3PwARCXz2yqsYWSDyLuAjNTEW0WEhCMlkFYbwqHgkp6mSVQKkxkfj+el1GO7aUMTJAEZmzdBlxnZcfxeJ+BSBigTYwzUq70I+kuOjEBwcjNDIaCSmKqmnMA2xQT44u2YaWlSoIGJlCetq/TH93xt4E5CAVL56Pn8FKe9Cfhrio4LTuXBs5P5FJ0F2bYXgpyTC78V1rB7dF44WFiJWzqjS6Q9sv/kNYfGq5Ch7PnGRGpd3Ph8pCQmIiYhAhIhfSFgE4pJl5ZcAqQkx8LqwDWObN4aBnh54PB0YGDVCm4kbcem1vO1UYyIvWn3yLkBKQjQiQhXkj9zcikBcUipy0uIjITwQV7bMQjsXF1FOlYClcy9M2HARL/zikJImOyPl1Z/1/YKTdyFSk+IRHR6OcAk+YWHhiI1LQopAKOczJ1kTIQSpSfjx5j42Tx4El9KlRawc4dx6MjZc9EZgTKrkBvm6XDDyLoSQn4KkuBiEh4VlfUeFhyM6PhFpzHkgQFpiLN5e3YMp7VuiiKFhOisd3fpoMmo1zr4MQ0xSzkzML2Ak7/lFkvZDBIhAQRD4heQ9BSmxoQjx9cbjx4/hcewwlo9uhaaOlqjddj1eMdLmxP370x2Y2rwSjEqUQcUqNVGvXj3Uq1cLVSvZwbKIERy7zsaZ50FqOYFRt7wLBQnw87qHfTv+whBXB5RLvzDBXZywhJVVM/QZuwKn7rxEYFQSlPlRSuw33N85Bc2r2KNEGSdUq1lbxKoGnO1Lw1RHB3X+OINPocmM9FULU6+8C5ASF4pvnpewY+4AtLMvAbNMVk5wbjMGq44ex3ufaLDULj7oPvaPb4PiJa1g61RVxKkuatdygV0pc1g61MH4XZ4IjlWPbGlO3gVIDnqOPaN+Sz9Zs3IbiJ2PIhQ2dMi7g5jbxgWGxW3gVLmGiFVtVHNxQGnTwnBoOxEHPb4rvwig8CiyVxaYvAv5CPe+jmmu3GdP8V+JceeQkpbzxDY1PgCPD81GxxoOKGZdHlVrZH3+KjlYw0xPF1UnHoF3MEuGyuah6F1NyXtKfCT8P73Es3NnsGH6dHRt+Bua2VWEc/XqcO02GJvuheUodkKoJ4790RVlrK1hU74y6tatm55XdepUgYN1cVjYOGPolgf4Ea0e2VKbvKf9wMUlvVG1mOIckp1jv2HGAU+EStGK9jmJZR2rQL+YFcq7ZH3+qldxhJVZEZRrOgz/3vwi5yKJ1M5UfFkg8p4cjC+vPXBg2UQMbNIZ3Wtwv+/cX220bNoO46asxo7zD/EyIAJJMj534iqlJYXg1enF6FXXEUWt7FG5ei3RfmrCxdEG5gb6cBm1E14BCeJN8vW/2uVdkIKEiHd4em0H/pk+EZ1ats2oX82acGlcH+3GLMD+w8/x5Uei0nolhr/AmQV9UKFsGVjZV0LtOhmfv7p1q8GxTAkUL1EGv6++he9R6vn8kbwrbSIKIAJEQIsI/DLyHu59Faf3b8Suxe6o4SC+A5UhparIe9LX2xjjVghmlVpj1IZTeOkTJWrOOAS8u47tk3uhlmVROHT4B0+C4mXctchb66tX3oPw6OAq/O6g5ETPpjoGzNqLJ9/jIffCelIknhyeg2ZVLVGxw2isOvUYwdFJosqH4c3NfZjXsTYs9Auh0dQbyHk6nTdO3Nbqk3c+4sPe4eLaMWjuVFKhXFVqMxc7vUIUVybqK3ZNqofSthXQdOI/OP3EXxQvQFLcJ1zfuRADatvD2rEF5h55hzjFe8vVWk3JOz85HA/2DkZNkaAqlfegZ5jSTA/G9o0xePUxPPkSKapvAoI+38HeWYPQ0Noc9i3n48aXSJV61LCAKyh55yeG496GzrBVIu68Ys6YfyMs54W0lFi8ObsC7WqUgEPLoVh89D6+h4tPoiPgfe8wlvT8DaV0dVDN/XIOQWNhoSym4OU9GYFfX+LQ2j/Ro35xGFmWxW+tu6PXX39h9zUvvA4Lg8zLQjF+ODynFezsysN11BIcffA1s+dUWrIv7h78G8MbOMHKtj4m7XyFWGUVz8V6dcl7iu9VzOtRE0WV5ZGs9SXaYcmZ14iRrE/IK8xupQMDm/ros/wgHnwMF61NQqjPQxyaPxJN7UrCzm0aTnuFIL9VS+3yHuKF25uGoblzKVRtOxzrjn5ARGbSJCD4yz3s+3MwXMu4oG7PKfjv+Q8kybqempqALze2oludYrB164e5B27ha0i8iFUkPj36Dyv7N4dtIQNUGHQawZKM82lZnfIuSEuE3+tzWDm5I5o1bIlR/5zEy2BR/aKi8PnkVgxrURGFDR3RbMBq3H4RJL9WsQE4s6wHKjnaod6Qv7D31gckpmT0yBMKfuDhibUY6+aM0qVcMHT9U0TL31Ou15C85xodbUgEiIAGCPwy8u578zh2nbiO12/f496JxXArLRZU1e68v1pRD4WL18SIXS+zn9SIGy/uI45O7whbs5oYd+oN4uXarXgD1f6rT96j8eLoKNTV0YGBfXk06OuO0dOnYzr3N8EdA9o3QNmSJhKiWhrNhu/Bq9hkmd0H4z/fwtI+VVDObQx2PfSHWNuz1Tb8AeY1sUFRy47Y/D7/T4nVJe9pcT9wc+tIuJYtjjqurTFi/PgMTtPHYHT/9mjgZAJDPVF+6ejCvM1UeIh9PBuAjBchl+fAtaID6o7Zh/dRMrpAp8bg05V16F7JCQ36r8CdIJk0ZeyZ/S1NyLswLQWfr6xB5yrizyIPyuT924aG0C/shL6bnkJ82SxbLeO/4sz83qhQojqG7XmIsHzualkg8i7kI+rjBbhXzeIi+84oD5bdNsFbRrf5RP9n2DysGqzrDsKGWz4Qa3s2VhGeWN7GDgZGTfDP62yKli0sty8KVN4TA/Dk/HaM7+mGkmZGKFm3Bfqv3IfXQbLMKnuNwm6tQIeajqgxZAueBMXlvODKT8D3+zvQv2p5VO80F5f9ZdLMvlMVX6lH3pPx5fwydKlaVOJ7W3lOiXPNusscXHiXPS98t7eBjo41Ov3zCOLLZtmqmuCHq6uGo0bpqui74Rr883lYhnrl3R93prRBeV0dOLRbgYtfstUs60X8N5xb1A/OFkZw6TgPFz5EQ3qkT0roH/pIAAAgAElEQVToRxwcXwOWlbtj2cXPkHlvPeo51navDH3d+lj8Uua3WdYxc7GkNnnnJyP48QH071ATJcu1xZw9zyDr8nTUiyMY0dQc+ro8lG80Cqdey9buyIdb0c+1Air3XonbPlE5L7gKUhD28ghG1LJHhcaTcdpXJs1cEMrahOQ9iwUtEQEioP0Efhl5z94U0djeSXwSo4q8v8OCyoVg3XgBHiu4/Rn/ciu6uJSGtftRhMfn770Htcn7x31obqsPw6bjsfTseTwKjIP4PgFSYhHy4REOrJ2IGs6WEieCjmi91QOpOcbAx+PDtbXoXrEy+iw6C18FvXKDL4yCnaklmq9jHbiQvSUVvVKLvPPj4Xt3G8Z2aAD3RVtw/8lbRCeLK5iA+OAPeHRxNYbUMks/aeFOhPVNLdB5p7wzwUCcmdYWjo5dsPXRd8hzzdSwNzjwR0vY1u2DtbcUXAlQBETBOk3Ie+K3C5hQN3vPBcXy/gErqujApPoMPFBwrSfh7T4Mql8ONgO340to/opWQci7IDUBt5a6wblMB0zbsAEbFPwd8fBFkrQ5IAm+nrvR37k8Okw/gs8KrvVE35wMewMj1F7+TEF25G5Vgcl7uDfub5mEthWsYMTjoXKngdhy4zmCU9JkXljMXpsQXFnYG9Wc2mDF1Q+IlTMFR1rUF5xd1AFlq7bH/As+2XeRD6/UIu+JX3FqYW84FymBCi0GYtys1VizRnE+rZo7Fm2rlwDPvBKGrLkI38wfAa6Sn7HetRh07MfhTnanz0Yg8eMJjG9ZETa/r8ZzPwUf1Gxbsb1Qp7xHPl4GN3Nj6PDsMe22bNEUlzLBcxPa17YGj1cCtedfQkSC5EWiVAR7/4cRlcqgsftOvFfwFRRzbzYqGuih/DxP8a7z7b965F2IxIgHWNnUETwja7gO3453CuoXcH4UXIz0oaOrh0qdV+FJjis+4bi7zh31nZpi7vHniJDEKEGCHx+E22u7o5xTI0w+8VliTf4skrznD0faCxEgAgVD4BeVd+DY4NzI+2UMMSwC+0mXZN/JErdZ0gPMq1cBpm5L8Cazq7h4Zd7+q0feQ3F1Ui3ot52LC29CZd8lAJASF4jrW8egRjnTLIEvMxWPUqR/ccPx/MRsuJVvialHXivsOpkcehBdjMxRafRJiDtg5o1Q1tbqkPfEsC84u7w15u25iO8xYmnPOmbGUiL8LvyBWoUNMjgVMkMF9//k1O8ttvduDJtmf+HBt0j5ssEPxN1/x6GmXSvMPPxSbhtJl4T1dcHL+zOsalwN9iU7YPysLpndwxXL+3WM0tFBsRFnFH/+kh9jRZtasGjwJ+77R+e8k8oKRUZcQch70pdj6FvREp0WecjuXSCjXNnfisGHm8vRyrYBhu18hpTsK7O/ij+J3/UMYT3gSL4PXSkQeQ9/j9MrBqOatRkK8XiwaeGOgw+/IFHBWOTsAD7i4Oj2cHCdgvNvQuTnCj8Mz47/gfo2v8H9X898H7qiDnkPeXYAE/v+hq4z1+D8O3+ExvAhyDk1ggSOZPjc247BNYxh4ToMOx8ESt0FvYspJYqC1+e44u+flJfY3LcxrGtPwgXvEKl9SBwuF4vqk/dwXJxcB2ZGuuDxGmLLVyWF+34O45o6w5gbbtBoEV5FJkp8dyfi+4uN6FCqKrqte6R4zpOE8xhYyADGXfbKvHutpBQKV6tD3rk5f17v7QVrHg/GtjUwZp+3kvo9xdxahdN/B/VNHdFl1zupMn/D6dm9UanuSOx/5A85184AQQw+XF+ExpbV0Xv1Xdm9HqX2rMpLkndVaFEsESACmibwy8q7x/wqIgFV5c77ZQzRL4xyAw4pHqMWegnjaznAuOsmBMTKE7zcNb165N0TcxzcMONu5uA+uYVLi/XG7rGuKFNEfPHDHFNuSeuBSN6tG2HsDk+FP7TJH9fD1bgEqs65qVDy5RZIwQp1yLsgIRaRr+4jPFFJj4qUN1j+m3FGjhmYwrHffsi+Xy6S95qTcOlTmPwT3URfXF0zGE4unbHg7Af5JzkKeChaVdDyfn+RPUoZF8PY3d548t8UVBKNuWWRd7MuuxGoqDLhN/Fn8yowa/c33gTGSZxUK9qIbV1ByPu1GTawsmqLbd5KckxukUXyblkL/dfcVXwBwH87mugXQpnJV/L986d2eU/0x91tE1C7uOhzVqsvNlzxVnGiQpG8VxmBw8/95V/oSA6Cx64xqFS+OSYdfpPvn7/8l/cQ3D+5EUvX7sST6Di2tk3yx61NI+FiaIGmozbhcai0SonkvfkWBMjNPQCRD7C8e32UaDEX975E5OvnT33y7o/9/crD1ID7XTPGjDuKKggg5BpmtqySMZdAjVl4GJEgUU+RvJs7o8PCa7LnWRDvPmAf2hjqo8jIc/JzTxyr4n91yDs/5TPWNM/4vBUtXxezziv8JuYu+ePVMtHTU3SNUKbuRFzL1sdeJO8V+2HLnS+yh9dx9U6NxJuT01HNti4G7Xgu/3dSRUbicJJ3MQn6TwSIwM9A4JeV92fL6uVC3lNxuJ8+LOz74YSCs5egC7NQx74oqs+6gqhE6ROgvKWFWuT94RJ0GX2U8VFkQvifno46Dll334eflb5AIcSPp0cx1tUKrcf+ixcKhvO9W+uGwmal0W+/b97AyNhaHfKefhjFt69EJRHg8rgMRgamFui9+6ucu3p8PNvyO6qXqY5Z5z9B3mTyCT4e+GeQM6ybDMFuz/zuowAUqLzfno0ihjy0XOuFpMQovGOW9zScHaID4+IdceC7jAYXvRV6fSlaVCmByhOPwjdS+sKS/O1Y1qhd3r/9i8aGPOjomqCkXS/0X3wMV71Unc5KiLD31zCzWUk06v8PFE3e/21bKxgaGqHTdmW3GlnoZI9Rr7xH4vWFxWhtZAjd9As/teC+8Qb8+QpvLWcvYPorAbz2usO1vAsmHHgGeQ++SAp8jR2jqqBU3W5Yd0d6/nUZu1XxrXyX97gAfP3ghffBsh71JrtwYe+u4s/WhtAt1QjjtnsgMsfT3tJweVwJ6Og3wU4FX9fh9zegR71ScB65HW8CFYzZkF0Mhe8WjLzzYN5hJ/wUlCT05t9oU80COjweqk4/j9BsY/uFiPZ9gsVtzVGz43zcVjAbq9+e7jDW10WTDZ8UHC13q9Qh76lJ5zFINJ9L6Spu2PxU+edN8GEd6oouzhaxcsaEUz8kKiTA+/9mom2lChi+6TbkTSeREumL41NrokTl5lh0RcHkdxJ7VmWR5F0VWhRLBIiApgmQvPNUufMORJ8ejcKmJVB50G58SkhGWubz0oQQpKUg8dsZTHJzhrlRL+z5FJLvV9PVIu+qZuHzLWhcxUp08aM+1si6Qxj8CruntoChbVNM2nkfwcmpEAjFZ4MCpKUkIf7lKtTl6cPaaT4eqVoGhni1yTvDsYE0XBzNybsuSjnMxUNF27zei471bKFbdQIufAnOdudQKOQjJeorrq8bDCf9Sug18zS+KdpXLtcVjLwLkPJhG1qamaFI661IHzmcqoq8A7g+GcaFC6NM163wTkhCaqasCSHgpyLJ7wrmdKgJC6PO2PDYR3H33lywUqu8C1JwdkTG843Fk4aJ/1tWbI35m18g4EcK+DnmmJBRkYhPOD2/Awyt62Pouhv4kZQqsZ0AaalJiH+9EW6G+jC1mIF7MnaR17fUJ+9ChHvfwKzmot4/uvpoOGIlHsju2qK8Gu+PYWALJ+i5jMDhl76IS5W44CrkIzU2AI92j4azngPaux/CR+V7VDki3+Vd1RIII/H6/Hw05unApulQ7Mk5ODljj7dnw6QQD0VbrsXbeBmfP//b+LuvK0oXaoNlV97l+8zg6pN3wGNJDVgY64h6SxWG7dSLSEjm57joKkwLxIUFXeBizoOBUV3Mv+6HBImUSQcV64/bq7qjkGVV9Fh8Ad+TJD+3QvBTk5HwbgfaWZiikPF43FS1vRji1SHvKW9XoY5IxNPl/Zn4N11Rga5iuGgbnnlZNPr7oUQvBW4qhQuY2KUq9Cv0w7Z7HxGdwkfmqQIESE0Ix9v/pqCyrjXcft+Bt4oOlct1JO+qgRMK+EhJSkJ8bCyio6Oz/cXFJSA5/XxPtX2qHi1EalI8YmOyHz86OgYJKVIXlQRpSEmMQ2x0NGLjE9LPG1gyV/UyKdkiLRmxMTHZeMXExmY751OyBxmruXOfFCQlJiE5KQkJcdn3n9U+ibJ7rAjSkJQQl61M4m3ikqW/2ESHFwqQmpSQzpOLjeV+C1jOS2SUnnuLn5yI+MTUfO/RJudw/xdvk7yrKO9pSbE4ObU8rEtbw77jRGw5fgteXl7w8rqP07vn4ffK5VCyeBmM2vUSmU9mysdU0Tp5Lzwcl5Olx7xnVDjo+THM7GQNM4daaDtxLS7c8hSxuoqdCwahtr4ezOxqYO2TfAQksSuNynvcOQwwKQxT2ypY/ViiUHIW3xwYiqbOxaBfpQMmrzsl4vQSnvcPYl7/pnA0MkH9vjNxVR3mjoK5854Q8gB/t7OClcMs3BdzUFXeAVyZ7YQylhYo3Wo01h2+IWLlgQsHl2BAHSeULmaFwRvuwD9/58pKL7E65T3u6WLUMdATXRQTD0uR/F8K1ZrNwr6L7xEen5JDKsRIxf/D3l/Bot/LwNyuKpqO+hunrj0UsbqOvctG4DcTI5hYVcAyD/EW+ftfXfIuSAjC/S39YC8SAgP7Nph7zCtP49C9/5uMjjWKw9ClFUavOIrnL16ls3r2+ASWDm+NioaFUb3TGJzN/xuk6dA1Le/88E84OasRePrWaDlqK14omK/t/iJnlLUoBvPGQ7Fi/zVRTj3CleOrMLyRC2zMLNFr2Vl8zjE5Wd7zS53yjsDzGOJkJurJwYOhcXG0m3gYD39EZ5708rlHMJ5agJZVrWBaqixG7XyGUDmTn0d9e4TVA8vCoqwzGgxZiKOXHohY3cTBf8ahmUVRFC3liHk5hp3lnRO3B3XLu4l9bUw5paALVGY1JOTdqBRqDz0E6a0+X5iP3g0sUNi5GYYs2oeHT16ks3r18iz+GdcRlfQNUaF5PxyVHjKfeYy8LZC8s/ET8BMREfgJnlcOYN6goWhQsTpsHSuicrVqqFbNBZWcrFCvSitMGLcKp5+8h39YbL7fwMoqaQTurB2J9nUcUcrQIPNzq1eoCLrvkpxUNA3xb89hTecqsOTxYFunHTbceIXoHBO9Zu1ZbUsvtqFlAyeU0BFdJOTmjrCuiHH/KejKq6AwAn4yooLf4s6hVZgxbhF2rV+NGQPd4GRnAaNC2c8l9A37YI9PRM4hVAEPsX7676jmUgE2FkVgoGeEktYOqFylKvrvln2pOjXkKXZMaIZSPB4MzUqh+eC1uPUtKtdt/XLzNPQdthqnnn5AQGz+9pZUgO+nXkXyrqK8AwIkR7/H6YXuaFDFERZFiohOtgvD2NwOleo2xfB1V/K9u644y7RB3pM9VsO1UsYs4WV67YWv3MmhEhD0/CwWDeuEKnY2MDYU31UsimI2lVCvWUfMuZD/XeDErDQm74kBeLq6H6xrNGcYEygubQTeH1uFHs3rwr5ECVFO6ULPwBLWFWuj/fA5OKpo/IF4N7n8r/Y771HfsGNsVdhXb4hVdyWsOhfyzk/+hqvLx8G1egVYmoqHbxRCYbOyqFCrMQavOAXvYOmhHLkEI7WZOuXda/dAdO3cCc2bNUOTunVQoYIVTE0l5V20bNUYYzddwbeYJCUCn4TQt1exanR3VHewhUmhQqK8MkVRq4qo3bgdpp1S1DlYqvIqvlSLvAv5CH9/BRPribmYoHLXP3Hhk4LHfzCVOxKfzmzEwHa/obxlSeiKTq509SxQyrEmWg2Ygj2Plc8JwnQoGUGalXc+Qj9cxpTaPBiWbYQJu54reZZ9IO6tngy3ms4oXVT8GDpDFDItA8cajdBv4QE8l9f/WUbdVXlLrfIOwGt3D1SzyDqx5hlZoFL3hbjw1heRYUF4fPZvtGpREzY1emL6vvsIjFN0opmMyM93sGliH9R0KoeiRkaiz58JTEs5oUajNph02BtpebhjpYidWuTdZyuaZt5Fr4D2C28qyRWuhBLyzjNHZbeVeJ6j4NH4emUH3Ls0gZOVJfR1uYkDeeDpFEdJh2po1tMdWx7k/3AxcTFI3sUk5P8XpEXC6/IaTOzaELY8A5iVqoPek//FDe8foicTRSHi839YO7QF7I0LQYfnhNYj5mH3I1/FE8zKPyTbmvAP2NjEHiai4Rw55T0Qd7eOzxy6weWV84itePVDwWMS2I6cu6jgM5hlJT4Xzr28C1IS8O3hIfwxtDlqNXXHomPvEJT+MxiNr0+3Y2TnyjAxkhB4HT2YNZyKEx/l/I5F++LMki5wrNoBa088Q2KKnLvuSManq+vRu6IRitlWRvcFB+D1I4/Do8Le4/rigXArXxntFu7AYzU8DjJ3jaW9W5G8qyzvGY2ZlhgL77tnsWHhQowfPx7jx8/FvNXHcM0rCOq8cKR5eU/Eq+3DUNXaCDyLWlhxLxyZIwfk5Hl88BfcPbYX8/74Q8RqOVbuvYY3wVJdm+Rsn9u3NSHv8cEvcXX9aNQyM4aD+z54+Sm4hSWjYhGfHuH4+nUiTpMwZcZm7L70AiruRsaeFb+lXnkPg9emsajk0gjjj7xGYqpEh7VcyDtXE35KIr48vIgtS5aIWM3G3BWHcfG5P/L5AQ/ZwKlT3sUHCg0JwY/XL3Hx4g4sWTAaQzu2Tp9NXdyFPv1/qd8w5N/bCGF4FGVCmB88Th3Eoj//FLFaiuU7L+GFf7JE91Tx0fPvvzrkXZgcg2c7+sJKLBDF6mDIqsv4HOWDZ8+u4dy5ndi+fSM2bhT9nTiBO37RCifNlKxx5NenOL1lIyZNmJDOatKUDfj37GP4KJi3Q3L73C5rVN7TovHuzHS48ArBockIHHit/EKIkJ8Kv6dXsH3ZMlFOzcTspftx1tMHEWo8J1a3vAPhuLN2MH4rJb44xAOvcDGUb9YXUyeMROd29dB4zDxsf/QVYYq8XSIRkiJ/4Mn5I1g2Z46I1WIs3XYenj7xkHvdW2L73C6qQ97Tkl9gdkUxm6Ko3uZP3FLm1DHH0U38eZUr7xm1jPZ9hfM7tmLa5MkZrCaswaaTHviihl4cklxJ3iVpyFqOhueBmWhrm9H2hczLo/ufJyDzmmnUc2zoUwvGBhkXYAq59Mfqy+/z1DNKVokk37s33wXmxhllyynvMfh8eR2GO5dCER4PZjbVMXj9NfhG53ZCWMkj52bZB5uaiS/k5U7eBamJ+HJtEwa3coZtqwnY+Fh8ASWrPAEnJ8DZWnxzUfSZNTRG2d8X4M4X2d/xQRfnoMO8fXjzI9szQrN2ys0dGfMBJxb2QyOXTpi+4xY+R+ZR3CX27n2iNyrr6KL64JV4LDk1hkQMLWYQIHnPpbxrKoE0Lu9xr7BxQAOUNuSh2uhj+BqrqS9A5S1QYPKekICgNw9x4uByTBnRDJWKFYYed7JiVQUtfnfHzgufFc/4rbwqao9Qn7zH48O1FejrUg1tph7Bh+jk7OMdcynvagci5wAFIe/ZDp2Whviv73Fj9yIM71QJVkXFJ8488BybYO3170iSPWol22408SL/5V2I5GhvbOpmKbqDyQOvuB3qdh6DBf9sxo6Dh3Do0EasX78Sc8b2Q5OKhaFnY4Uav7tjws4LeK5mAc8LY03Ke0qkH45NcAKvcFk0H7sH3mqU77ww4rZVv7xzR4nCoz1T0btmmaw8E8lnmVa9sfH5N+aLQXmtb162V4e8C/kpeLK5dfqj4riLiGaOjTHr2CfRnVc5pf26GQ0Y5V3OHtT+Nsm7YsTh95eisZX4t6cIyjcci+Pf5AtezNsNaG1unD6hI09XH+Y1+mDnS/V9ASuWdwAx/nh76QC2rFyJHUdu4UNIQuZQGMU1V8faPMq7UIDYT2cxvp4liparhSmHv8ic24eT9+b9+qOdUxHo6YjbjgeDIuZo7L4SD2X01OfkfcS6s/gob+ZWTt6j/PH4/CEcvfwcQfnn7SLQPrg0tD70C5mi9bhD8FLt3pc6Gktr90nyTvKuUnL6XZ2PzlXMYFB7AI49DYYmhg2xFrgg5D3+2wPs+GsY2rjWgr2tCQzSHzWU9UXJ09GBVdUOGHX8PWuxNRKnLnmPeXcSUzo5o/GA5bj6MSZnvpC8s7V3ajSCPl7G+nHN4WSWlV+2PbbirfQFEbY9qj0q/+VdgJjg0xhSLKv+Zk7V0HvhNpy5/wb+3AmZ6EIG19vg1b3tGFmNGyqgAwOrymg9fIPCmffVDkTBATQn72mI8DmLkTY8lHBujMWXghQ/t1tBHQpiVcHIOyDkR+H9lfXoVC4r1zhZLVzKFjX7zceJ5/5azYlrC3XIOyBEYoAnVnSxy7iwYWiGyt1n4qy3xFCobIkQCq+Ng1BCLO+GlqjZb69aJl3NdlgVX5C8KwAWch1TamUMk0zv9VXUDk1nXVZyQyIUB3qUgK5IGvUMi6LO76vxWE09KJTKu4LqFfyqvMm7IM0PB0dURjGeCSo0nIrrcphy8t5n3Xl4XlmM9kYG2S5EGpk5oc/sqzmeqMEi7+rmxff/F415ujAqXhX91j+EnOqpuxhav3+Sd5J39iT1vYnZfevApFB9jD/6GOFyx8Sw71KdkQUh72nx4fDxfgFPz8u4ePFfLBjdBpZmhbN9UXJXni1rd8CBN+qsbd72rRZ5/34ff7s3g3mTodhzzwcyJy4leVeh4dIQG3wLK7vVz+o2btwU615EKh26osJB8i003+VdyEfE8xUSd/Gs4NpnNTxi5cyii2QE35iJKunioAMDI3u0GXoA3vlWw/zbkcbkPS0BX4+5w5xnjuotF8FDzuRr+VfTvO2poOQ95cstzO5XHZXs6qBND1eUFcsn97+QOWxbDMbWG58Qo56pNfIGSbS1euQdEArSEPrhFlaPd0M5Hg8GJsVRt7M7tl1+j2DRzdjQ0Lc4v20mxjetC5dS4nkReDAq6YBBO71zTpqVLzXO/U5I3uWz+3G0H4qK5gBJv4BlUxmjj0pOCCd7W+/1TaCrK54/QhdmdvXx17WMx2wGPf8PC4bUR/36WX/TD3mlT/L84+kGuDdsAFe3cdhyPlBi5wmIC7qJw1uHoEOHjO16TdwOD/9Y3JTXbT7aFze2jM92HO6YvZaewqf0u8svsbF9KzSUKEeTjr3xzy1/hH+4ij2juqMLt67rMMw95yX7UYZCIVK+fMCFHbPQt29WfToOGI+jnt4yeqXkTd6T78xBmSI88IrawnXOdRn7z0CWIe83ERIbAd8zf4h+B8UXIw1gUq4lJu19nO2JIMrkPTkmFA+PbsSYHj0ymXbv7o5DVx4gOknWbXg+YsJfYPX0fqL4tug3Zh0uvXuHOwdP4saT99mOz5VcyA/H1nY88HQNYFu/Bw5r4w+2RFZqapHkneSdMfei4bl9LFxtHNHv70v4EsPP3v2ZcS8FGVYQ8p5VHwEEghQkxkcjNOQFTk5oDSOJmcN1i1jBdco5qPrE7qz9q3cp/+XdH9f+Ho5aTl2w4NQLRMkb3EnyrmLDpiHx0Ta0r20rukBkgEZ/P0aqsoknVDxKfoSrQ97DHy5CjUyRskPrYfsUyzg/AY/m1xax0oW5UyPMv6p9n0JNyXtqfAT2D+LmL3FCm1UeGuxKypZxBSLvPjvRzqIEStt2wLaXEYiO+YHHJ5ZkvwuvZwiTYj2w6dQ3MEw7wVa5fI5Sl7xzxRQKBUiOD8T7R4fw54iGKGdvCBOzEihZqjRcXV3RfvRCLD5wF999j2F4kazxvcXKumC5h7yJsPIZgAq7I3mXB8sfe7pZQkei27WFY22s9lQ+XxH/6iToZco7DzqmZdHsj/Pg9J2fEozbW9yzzS3R+Z8HCLyxCi52JWDI40FHpwjsqixGxsOIEvH13nYMr1MMpkUMUHfgBJx/8Rlv72zE6OHrsHyYFYrKGvPOPQYt6BlO/9FJ4ndDcsK6FMSGnMSQhll3povYlEG7+TPQs34xmBjqZQyB1DOAkVltTNzzKEdX8feb26OUtQOq9t+Fa2988PraMgxvwIOeviGKmrfCnEOP0+ucRTgv8u6LLS0ybg4VtqoA96PyJ5zNkvc0gJ+AwL39ctxUMqrRDfPPf84smnx55yM++CE2D3SDuakN6jefhDP33yHo/Tks6OmKcmbmcOu/DvcCYiV+Q4SICz2FEZY2qFStP/ZdfYWgz1/xYtc6DG5aBcVMW+Gv408Rlnn0jAXuMYQeC2qkl1W3mCPa/3VVip/UBr/oS5J3knflqS8U4NOFJehWXQ/Np63EqxD5Y52U76zgIgpW3nPW69u/baGvK77SWRj2tUfhrJZOwpGv8i4U4Ov1tehbqwy6zj6M1+HJSE6W8xcXgpdHJsJZJGSlG/XH1nuBmfEpaZLP/M3JuKDfKfAx7zIrGIILs1qhvGj8e51FD39NeS9eFT2XXsvx4y+NLNV7LeqLTz5NHdDij7NadxFNU/IeF3oYv/N4sHRuiI3PpMlp32v1yrsAaR+3oJG+Xvrd5Ll3Jesfh+/3d2J4Q4dsQsLjdcTmNz+0sgu9OuVdkoz8ZSH4N2bAJLPLrjHsqi0Cw5NT5e9STWtI3uWBvYupFkUzxq6LfqNLOtXF+qfy4iXevzFN6rNigVqt1+GlKOTLxcXoVlV8fsRDx/ETMWrDK8QkXMd4I33weIYoXX4uHkKIsHdX8UezjFgd29aYffRF5lMOAv4bhwqljTPFNOeEdXF4fXoROpTNOpb0bPNXxoqfxMLF6KBYxUaYd+kL3pxdgk524t4DPFQcthkvA7ImBRFeHis6bhHYVZsPD74Q8Z/vYElvx8zy8Nwm4uQLyacq5V7ehZ82oL6oHYrbVVP4GOJs8p5+RzsVj5Y2lDgnzeBhzfWM9AwD99ALefKeFheK8zOqZ9TJrgGG7Xud2dCht1ahfdaa8sMAABiPSURBVE2LjHVd1+FrWAYfbn6MQwO4CT8tUcv9CPz4wswbfhGPdmJg416YfSynvEMoQMiRQaKcM0XlZtNxJUhikuPMI//aCyTvJO+KPwGCVMS9PYs5fV1Re9Ay3P4se5ZKxTvRzFpNyzvwHbs6mGV+iZeu3AibtfQEOV/l/Ycn1o/+LbPe6ePkMu+WZv2AsrxfyX0n3ub/rCi5TkjtkHcg9NoCNHIyT/+BI3lX3JyCtM/4+zdx3pVGgy6bkXXqoXjbglqrGXkX4vuuruDpFkOlFuugxaN6MptBnfKeGH4CI0sWTX9etM2fDzKPKbkQ/fo0Zvasku0RTJVGHcP3OO2buFXj8p74Fivbloah6AJ2oWKOGHtGO69ek7xLZrnksrS8G8G2yjCcZmlGFeWdZ9IH+z8Gpz8r3G9/P1SqWgPj/wuAMDEID/4dAnvROUS5tuNx7FWMRCGfYknNcjAWj6/P8Zx31eRd19QWTf+4mH63N+b1GUzrWC7rXKb1XNz9lPWoNb8DvWFhxD3SUBf6tjXQbbsXEPQc/05wy9qmfB9svvNZ4nF5uZd37zUNRfs1hFWFgTghY9I5MRhpeefeT4kNwYExNihWSPx7mPG/Gjdvxds4+J2XMWGdkI/vlyehkoi/RbVWWCH5iIm3B9HLzUFULmeMP/sVyXwhBGneWFxXdBwLRzScfxYv/MMyH0H36dw53H3zJueYdqEAkZ5LUFN0PLNKTTHvIkvCiWv+a/wneSd5l5/p/FTEfLyD9eN6oEP3P3HzmeTVQ/mbacsazcs7kPbwT9H4ZD3YVG2LnVp6hkzyzpa12iLvCDyHMXUcYMzjocmqF7/MnfeIF6vwm/hCEOOdd0Ga6A5A+nYk75mZLgzF5lY86Be3Rcdt7zLf1uYF9cl7NM6MqoCi6Se1Nlik4CIrd0I/o4cLzLiT9vScaoz17yKhvCNxwZLVrLwnI+jYOFibi+Z/0dGHQ6P1WnuBiORdXm5Ky7shbFx64cg3efES70vLu14p1Om2DeKpe6XvvJv03oSPwdKTbggR/+MFNvTNEuiavefgWrbj+2N/P0eYiiYLzuud9yI2lTDhZIYVK5N3IBDHJrRCq/ad0GfpftzyC4XvjX34s2tVNch7Ik4PFfcwyJ28A3zEBD7Eyp5OWZNIpn+HWaLJkPU4unkiBkvNNi9Ii8bO7uLvOh7KNeiCvZJXv7PJOw+8LlsRkpQGQZov/mmatR2PZ4qKtXph07Gb+BwYo+ApOQJEea2Gq/h33qYO+m99qnXzZEhkukYWSd5J3uUkXiqifB5gq/swdOo7HydfaN84UTkFz3xbG+Sdn3oOA9K/hEzgVH8Gbmjpoy/yVd6jvuLGgeUYMWKE8r9hg9CjRRUUE31RG5d2hFvngZnb/bX/Hn5o7HmsmamUuaB98m6PWbdCf40J68CNobuFifaiE4Iizug88wz8M1tH9gL3TPJz40SzJRuUgdugfcga5Sd7m4J+VxN33qPfLMVvPD2UKNsGe74UdI1zdzy1yXv8DUyuaAOj9O+hEbimpHj+HqsxsJYlCou+tzpt/aTWZ7YrKY7M1ZqU9wSfS5je0hbG+hmfVT0bNyy7Jz26VWaxNfImybs87B+xtmExqW7zdbAuYyC6vI0y3peWdzM7NJ17NfMxi9LyXnXSMfhEpEjtMxUhH89gbOUsCdSovP82FZffh+a4UCfgJ+PHuyvYt2IOpnbtgHaVS6tB3n2wqbl4MmQjlKk0DpcVTMUu6857BtwkBL8/iT9cK6Ko6Psr4yKkE1xdq6D5whPZHhXHT/XEdLss/krlvdxk3ItPSZ/Y8v7GZpk9JsQ9LYuVqYj2w5dh3w0fhElfq0kvoBCxIYfRS1w288rotviq0uFxUonzf/+S5J3kXUaSpyE6/C7Wzu+H1oOX4/jrjBlCZQRq9VtaJe8GFqjefTs+aimxfJV3VepIE9apQiszNvbZJnSuXBq2bsvxOCIxcyxZZoAWLOT7hHXcREfxYbj0R2XRiVEx1OuxAHeVOAEn7xcnWWdsU6Ii2i27I3eGXk1hK3h5j8SFEWXA0y8Cu+57lF4A0RQX6eOqTd7fbUczO4uMyals/4SCG++iIoXg3LSWcDDJOKmtq4XzTmhM3uM+4siUtrA2FU8CVgtD9z1R8mgx6ZYu2Nck7/J5P19WPfORb5yAFbOvgQU35D0aMGs/kccHZRvzblymCsafyur+LC3vjeddhn+09GSGyfjxZh/6lcySR43Ku/MwHH4ZkN61X1xTAT8EN46swcB21eDs2A7ztx/DWrV0m5eU9yKwq7oQnuJCyPgvX94BpMXC7852DGsoeuSjWJR5PFQeuz+bvKeliG9AZbSBUnnn9cPJWG7meSGS41/jwNRBaFAqq/0yJN4MtnVGYdO1r8h5b4bkXUZz5niL5J3kXSopBIiPvoO/Z7RB08HzcfJjBGQ9AEJqIwS/CdG6K2PaIO9pATvQgsdDEcvyGHvQV2LckzRBzb4meWfjrx133r/j/LQuKG9aD1PPvUVcmnZO5qIOeedmzf12c17meLgyjfpi5xPF83AI0vyxtgV38mAIS5fuWOMZztbYBRhV4PIeehZ9S/JgUMQcA478PL2q1CbvH3ejrX3JDHkvOQ2PGNr+69HRqFku405Y522f6c57OrMYvNo/GU3KFoV+uhDYofeS28hSNgawGggheZcPPe7jBjSXmDVev7Qzeu18K38D0RrPhc4S0m+EslXdcVHiq1da3tNnm8/xVZ6CwLeHMMgmS/4cO07GqTeSt2wLsNt8DnkPwfl5nVHdvgR4JlaoN/EI/L+pa8x7HE4MkLzzPhaXcnXnXdRASRF4fWYFOtYSTTYnEnhpeeenPsYMcW83HkO3ebspuB8v7kEhRHLcD3jsW4XxTaqilMRFAq4bfflOC3HlU7hUl3iSd6UfLgAk7yTv2fIkNfku5o2sg9q9FuPa57BsVxizBUq+eLwWbkMOQ/mTPyU3Uv+y5uX9B44OKQ/TQqZwHLUL3yXnWFF/9VU6Ask7Gy5tkPfIp9vQp64Nmo05jNdhKTm68LHVRP1RapF3CJAS9hqHRBMiGhSthWHLryuUA37Kdbib8sAztUK9GWcQLj6vUD8C5iMUtLwHHhuQ3mWy6G8z4amlQ3lkwVObvCe/w7qOdiiS3s3bCgsYZtMOPDcTdRy4Z5g3xUZvGvMOxOD54bnoWrU4CqdzdMSQDdfxLVbbZgPImVkk7zmZZL0TidsTJcZwG1ihft89SoYeeWFplazu9sbFy2DCPr/MGeK5fbPJuxBRPg8xP/3ia4bAl2k1BkeeR2UVD5qT9x+nRsFB9NQXI6uKGHrwq1onrLs6Pq9j3iWwcT3ZEsLhsWcKmjlmXRyRlvf0Me89stYrvfPedRtCk9KyHUiQkohQr7s4PqsXGpXO2hevcHv8c+tjtrwABIh69U/W3DbcmPdtNOY9G9BfWd5PjhA/GsIULk1m4JqSrpfS4DT1+ujRoxgzZoyaDn8X07uVgUPnVXgaFg/pDkzSB/3x4wfuLR4CRyszDDku+XxH6UjNvM5/eecjKsQTC0a0gV0NV3SduxdPvsi/9HlvQW8UN9KFWcvROB3F0n9BM5y4o5K8s7FXm7z/eIJlQwaiZ48eWHBP/rNbI5/sg3tbR1QZuBx3PkaDr8XnxeqRdwACPoJfnccEN+4kwAD23OzDXvIN9PP2tjDhGcG64jRcik5ma+gCjipYeQ/Avu6W4OnooPmadxLP5S3gSuficGqTd/AR92oDWhYvkj6+t1SPA0qGEoTh6rz2cCqmiw5LPRCUqH0fxILtNh+DZwdnoX2FIhmzy1dojoWHniE4nq+VQ3qkU4/kXZpI9tdpMUHY3FMsXXqwqNIGK+7IH04ZcNIdZU0NM4YqGRRG2Qn/QfqrV1rea079D76ROZ/aIIjywcV5zTPHkOvZt8e8E17Iukn/FItr5N9s8wonrMt2590fuzpwF+8yuBS3r4YVHny1yvuHta6i4+V2wrrs7cq9Skv8jssr+6O2RUY9pOUdQj4Crk6Fi6ie0vIefmc1OtQSzSnD46Hz1g/pk9EJ+N9wcOmRrAvrQj5S4yLw/OhcdBLPYeAwALs8fbP37pWebd6lKeZf0va+Ozm5qvudX/bO+7HB4i8iEzg3noLLP0nPQbXJu89NjDUUj1HTgY4O41/6B3o4rqo7U3Ox/3yX9+RovN32e+aXNfc8UB2b6ug45yBu+kVn/ph8//4AMzqXgqEeD/qNN+CbUDu7NUsiJXmXpCF/WV3yfm++C8yNRd9J+oYo3n4GDj/4nlmQ6Gg/HFw7BNVt7NBk8i68DI7PXKetC2qT9/QKJ+LL3S3oK7pjUG/IctzLwpWF5OsWNNTRhalFR+z31d7PYYHKu+9etC1mDB0dV2z7moXqZ1hSn7xn1P7bvx2gr6cDPSMTdN8tvy/Z671D0dCOhyoTDuObNnblAFBQ8h7j/xYbhndBGdGjuiq2nI2z3uHQzstksrOc5F02F8l3UxOeY1cf8XlzMdTqNB+3Zfm7/zH0LV8KBiLZazHpGnxkfPVKyzuvyz94H5Sl5FnHTobfk70YXEF8bB7suv6Ji+9igMBnOD6kMkqLfzu5Y+oVgk333cj6OVDtUXHs8u6DjU3FNwF54JWwR7PVd/D59ib0Lp9VVl4+PioOXzahgYhrcbuq+EfBoPfHa5qj29/nERKb/S54FlfJpQ844N4ODjLGvHNRydFB2Pq7qE52DTBUYrr5twdHw81BtK77BviGZzznPf1RcY3N4TL/nuSBgG/XMadPzfTz6AqD1+GJn+QQCG6ovAAhhweKzrNNUbn5DFz9Sfwse0XV++rXkffkGPwI8Ief3wPc3dcPNUQfgPSrZkUd0WDkFtx4+RJ+ASGITtDerqj5L+/JiH62Ea2Km2SbUVR8NZHlv8l4bVR3IN/lHSkI/rAfgy2Lo6ixAfRFM+mKGRkYGKBIkaKwsCgNW9v2mLb1g3o/vfm4d5J3Npjqknc8XoPalcrB3KQQDCW+m7h2KWxsguIWVqjTph9Wn3mDQFnnN2zFL9Ao9co7V5UEBD49humd6qFk8Upo1m0m9t19ho9+fvDze45Tm/9Ap3K2cOg5Bx5ZZ3IFyoD1YAUn73x83NoFZoX1YdTqX4kTXNaSajZO3fLO1c73zhx0trVCaWsbuPScjstPnsAvPaf88O7hFWye1gkNqjVC/9Xn4ROtvT2q1CLvQiHiw/3w5csXXD17HAvGtIaLSzGULGWF+p2GYuOlDwiVOhfXbMawHZ3knY1TWmIE7u12R/My1ihZvByqd5qGdQ+88Eb0nfv06l/oW70cSqWfA3XCzJvZnumWeZC05B+4uXEEGkpOZFZxGJZ7fEaUrO5kSZHw2r0cXUoVR1FD/Yy5KXj6MDKxQLMhc7CspRUsTAxhYmICc3NLWFpbo4pbO+x4noqEH544Pq0Dqkv8rvIa98HGu28QmZqAyIBjWNRAP+umjHFp1Bq2C16h3/Fg/3S0kBhvz+M1xuyNjzN7lNyda49iRTiB14GuXmGY2VdDlxmzMGdmBxQxFO1TvxCKWrhi7um3iIyNRsCjVRhcSOJ4xUqhxtwdeB0WJzX2OxOXxIIvtrU2SS9r4dIVMPJo9l56guQ4hAUH4NmlPehTyR6FeS6YsuYsvn7zVS7x4Q+wqk8jNJ18KNuEdRkH5yPq+23Ma2GDkuZl0aDZBJy49Qqvbp/ClFauKFesJKybzcbVr+GZPbk4eV/aqDisnVzQyH0hbr56BT+/d3hwdCJ6/mYOi4ajsPPBtxzzQAkFfDyYXz29jnrmjugw/5rWzacl0SAaW/x15P3NAfTt1hZubm6K/3pMw45bn6Ctvz/5L+/vsHtgT7RUxkXB+r8f5OzqpLGMljhw/ss7gNREhL04iy0L+qNPn+y51K9fPyxa9C9u3PiI5GRlgw4kCqoFixqT97Q4+NzZiAGi/Oo6bgnOv9XeyQHUJu9cDgQ+x3+rx2GUxGetbdu2mD7/b5y+9w0x2otFZgarX94zDhsXFwiPi1uweEAXdMhkNwQjFh7AfZ/sJzcyC6oFbxacvIfg0ryeaNnUDWNPZDzLWAuqz1yEgpB3rjBCvh8+3jiAJUOGYGBmTrmhe/dhWL3rBl6EJmTv6slcg4ILVIe8C9JScHWx+HevDTp0mI5Fi/bDwyv7eOaCq2X+HInkXTWOSdHB8Di3CXPn9kKPHuJ8cIPbgAEYvHgx9t56j+RU+UNJgl+expKREttlfsbm4XpkgpyhFokIfnkW20f2RLf0+D6YtuIWAsICcGVRH0waMxIrV67Efycf42lQEEK4KkX74ta/k+Wc88/CmW83sa5rezTJPL6oTG37Yuj0ZZg3TlYZue3E80EF4PDyUXBza44O3WZj35334ObkC/G6j2XuPTOO22c8dtz4hBiuK4rXHnTr0EpGebpizJwzYOkIlXxvHspxT7koaovf/ryW2eMzvbqvT2P+6M4y9u+W+ex6hS396SzWnXuG71Gyz+mTY8PgeXwLJvTpk3mM3r3HYdPRhwiRGhchEHzHmc3nEJAYg5dnd2Ba//4Z23TtipHbj+J2cHwOcefKJuSHYnMbHni6Bijb8Hcc/XnugSlEm98rfx15z29yGtpf/su7hipSAIdVi7wXQLk1cQiNybsmKpuHY6pV3vNQLm3ctKDkXRvrrmqZCk7eVS2ZdsUXlLxrV61zVxp1yHvuSqL9W5G8a38bUQkzCAjSvuPI6Gow5xWBQ90JOB2Q0U39/4UP328rGvF0YVS8GgZu8tTqR0xqkjnJuybp5+LYJO/s0Eje2VmRvLOxInln48RFkbyzsyJ5Z2NF8s7GiYsieWdnRfLOzooiNUxAKED810uY19YZhYo7o9+SOxm9DDRcrPw5fBQe/VkH+kamaDvpGN78ZL0N84cB215I3tk4aU0UyTt7U5C8s7MieWdjRfLOxomLInlnZ0XyzsaK5J2NExdF8s7OiuSdnRVFagEBfgpCHh/G8GaOKFVnMNY++vmGQOWkGI53RwejYWld1By+Bs8Cc0bQO1kESN6zWPwUSyTv7M1E8s7OiuSdjRXJOxsnLorknZ0VyTsbK5J3Nk5cFMk7OyuSd3ZWFKkdBASpCfB9fBZ/Du+Num7Dsfjw259mMtscBEPf4er8zmhoXxkdl+7Fc///r6EAOeqbD2+QvOcDxILcBck7O22Sd3ZWJO9srEje2ThxUSTv7KxI3tlYkbyzceKiSN7ZWZG8s7OiSO0hIOSnISbsKzyOrcYf4xbgvzta/lgVOehebJyC3sPW4bzXFwTFp8iJorclCZC8S9L4CZZJ3tkbieSdnRXJOxsrknc2TlwUyTs7K5J3NlYk72ycuCiSd3ZWJO/srChS+whwj1dLTU0Fny/UvsIxlIh7ikVKKh/yn0/AsJNfLITk/SdrcJJ39gYjeWdnRfLOxorknY0TF0Xyzs6K5J2NFck7GycuiuSdnRXJOzsriiQCREDzBEjeNd8GKpWA5J0dF8k7OyuSdzZWJO9snLgoknd2ViTvbKxI3tk4cVEk7+ysSN7ZWVEkESACmiegNfJuamqKEydO0J8SBlOmTEHr1q2JkxJOXC41aNAACxYsIFYMrHR0dIgTA6e//voLrq6uxIqBVcuWLTF9+nRixcDK2NiYODFwWrFiBapXr06sGFh17doVo0ePJlYMrCwtLbFv3z5ixcCKztPJUygHNJ8Dc+fORd++fXNcRZh2wQN1N5zI0x9P0Q68AsMzDyoUCjFt2jT6IwaUA5QDlAOUA5QDlAOUA5QDlAOUA5QDlAOUA3Jy4MCBA5keLV4oUHkXH5T+EwEiQASIABEgAkSACBABIkAEiAARIALsBEje2VlRJBEgAkSACBABIkAEiAARIAJEgAgQAY0QIHnXCHY6KBEgAkSACBABIkAEiAARIAJEgAgQAXYCapf3jrsvgv6IAeUA5QDlAOUA5QDlAOUA5QDlAOUA5QDlAOVA3nJA0XxzLOsUTljHsgOKyduMgcSP+FEOUA5QDlAOUA5QDlAOUA5QDlAOUA5QDijLAZL3PE7XrwwwracPIeUA5QDlAOUA5QDlAOUA5QDlAOUA5QDlQF5zgOSd5D1PzxrMawLS9vQlRjlAOUA5QDlAOUA5QDlAOUA5QDlAOaA8B0jeSd5J3ikHKAcoBygHKAcoBygHKAcoBygHKAcoB7Q8B0jetbyB6AqU8itQxIgYUQ5QDlAOUA5QDlAOUA5QDlAOUA78v+cAyTvJO11hoxygHKAcoBygHKAcoBygHKAcoBygHKAc0PIcIHnX8gb6f796RPWjK6SUA5QDlAOUA5QDlAOUA5QDlAOUA5QDynOA5J3kna6wUQ5QDlAOUA5QDlAOUA5QDlAOUA5QDlAOaHkO/A+64TmilzU1cwAAAABJRU5ErkJggg==)"
      ],
      "metadata": {
        "id": "1p9RuRY0hJzu"
      }
    },
    {
      "cell_type": "code",
      "source": [
        "# Imprima na tela a sequencia do segundo ao quinto caracter\n",
        "#RANC\n",
        "nome[1:5]"
      ],
      "metadata": {
        "colab": {
          "base_uri": "https://localhost:8080/",
          "height": 35
        },
        "id": "DSGwp8KihRln",
        "outputId": "dc039490-785d-47d5-f44b-3769edb96384"
      },
      "execution_count": null,
      "outputs": [
        {
          "output_type": "execute_result",
          "data": {
            "text/plain": [
              "'ranc'"
            ],
            "application/vnd.google.colaboratory.intrinsic+json": {
              "type": "string"
            }
          },
          "metadata": {},
          "execution_count": 46
        }
      ]
    },
    {
      "cell_type": "code",
      "source": [
        "# Imprima na tela a sequencia a partir do quarto caracter\n",
        "#NCIANE\n",
        "nome[3:9]"
      ],
      "metadata": {
        "colab": {
          "base_uri": "https://localhost:8080/",
          "height": 35
        },
        "id": "gBt49Q5oisLN",
        "outputId": "f1d0eece-0c2d-4bef-bd19-c5d518457ba5"
      },
      "execution_count": null,
      "outputs": [
        {
          "output_type": "execute_result",
          "data": {
            "text/plain": [
              "'nciane'"
            ],
            "application/vnd.google.colaboratory.intrinsic+json": {
              "type": "string"
            }
          },
          "metadata": {},
          "execution_count": 49
        }
      ]
    },
    {
      "cell_type": "code",
      "source": [
        "# Imprima na tela a sequencia até o quinto caracter\n",
        "#FRANC\n",
        "nome[0:5]"
      ],
      "metadata": {
        "colab": {
          "base_uri": "https://localhost:8080/",
          "height": 35
        },
        "id": "7ttReIV5jwwa",
        "outputId": "e285e010-3fdb-406d-ac36-2d452e405c17"
      },
      "execution_count": null,
      "outputs": [
        {
          "output_type": "execute_result",
          "data": {
            "text/plain": [
              "'Franc'"
            ],
            "application/vnd.google.colaboratory.intrinsic+json": {
              "type": "string"
            }
          },
          "metadata": {},
          "execution_count": 51
        }
      ]
    },
    {
      "cell_type": "code",
      "source": [
        "# Exemplo da Ana Carol\n",
        "nome = 'Ana Carol'\n",
        "\n",
        "# Imprima na tela até a terceira posição do Python da string nome\n",
        "nome[0:4]\n",
        "\n",
        "# Aprendemos que espaços contam como caracter!"
      ],
      "metadata": {
        "colab": {
          "base_uri": "https://localhost:8080/",
          "height": 35
        },
        "id": "JMY-EodEq92w",
        "outputId": "f201bc91-6b17-4e0f-8fe8-69058d1cbc05"
      },
      "execution_count": null,
      "outputs": [
        {
          "output_type": "execute_result",
          "data": {
            "text/plain": [
              "'Ana '"
            ],
            "application/vnd.google.colaboratory.intrinsic+json": {
              "type": "string"
            }
          },
          "metadata": {},
          "execution_count": 52
        }
      ]
    },
    {
      "cell_type": "markdown",
      "source": [
        "# **Métodos de Strings**"
      ],
      "metadata": {
        "id": "bJIEUjMtqwjT"
      }
    },
    {
      "cell_type": "code",
      "source": [
        "# Sinal de + para concatenar : juntar as string\n",
        "nome3 = ' Luciana '\n",
        "sobrenome3 = 'S'\n",
        "print(nome3 +' '+ sobrenome3)"
      ],
      "metadata": {
        "colab": {
          "base_uri": "https://localhost:8080/"
        },
        "id": "G2-5iw2drNPV",
        "outputId": "68dbee1d-5543-4a9a-affd-7b731c5470c5"
      },
      "execution_count": null,
      "outputs": [
        {
          "output_type": "stream",
          "name": "stdout",
          "text": [
            " Luciana  S\n"
          ]
        }
      ]
    },
    {
      "cell_type": "code",
      "source": [
        "# LEN - Método que conta número de caracteres de uma string\n",
        "#Obs. Espaços são contabilizados\n",
        "contagem = len(nome3)\n",
        "print(nome3, 'tem', contagem, 'caracteres')"
      ],
      "metadata": {
        "colab": {
          "base_uri": "https://localhost:8080/"
        },
        "id": "VhhJ0TPCsmZF",
        "outputId": "cf869a3a-05b8-4d58-bbf0-bffd5e5092f2"
      },
      "execution_count": null,
      "outputs": [
        {
          "output_type": "stream",
          "name": "stdout",
          "text": [
            " Luciana  tem 9 caracteres\n"
          ]
        }
      ]
    },
    {
      "cell_type": "code",
      "source": [
        "# STRIP - Metódo que elimina caracteres indesejados de uma string\n",
        "#no inicio e no fim\n",
        "nome3 = nome3.strip()"
      ],
      "metadata": {
        "id": "o0NMSlzXt4pv"
      },
      "execution_count": null,
      "outputs": []
    },
    {
      "cell_type": "code",
      "source": [
        "# Chegando se o metódo foi aplicado\n",
        "print(len(nome3))"
      ],
      "metadata": {
        "colab": {
          "base_uri": "https://localhost:8080/"
        },
        "id": "TzDkHrR0uTHK",
        "outputId": "ab255fd3-8e3e-4e1b-d844-4a06edd6ba22"
      },
      "execution_count": null,
      "outputs": [
        {
          "output_type": "stream",
          "name": "stdout",
          "text": [
            "7\n"
          ]
        }
      ]
    },
    {
      "cell_type": "code",
      "source": [
        "# REPLACE - Metódo que substitui um caracter por outro\n",
        "preco = 'R$ 10,50'\n",
        "print(preco)\n",
        "\n",
        "# Aplicando o metódo replace na variável preco\n",
        "print (preco.replace(',' , '.'))"
      ],
      "metadata": {
        "colab": {
          "base_uri": "https://localhost:8080/"
        },
        "id": "CxlVLY8Oui_Z",
        "outputId": "f6f45ebc-3339-4184-ec65-24b41c0b8c22"
      },
      "execution_count": null,
      "outputs": [
        {
          "output_type": "stream",
          "name": "stdout",
          "text": [
            "R$ 10,50\n",
            "R$ 10.50\n"
          ]
        }
      ]
    },
    {
      "cell_type": "code",
      "source": [
        "# Coloque seu nome\n",
        "nome = input('Informe seu nome: ')\n",
        "print('O nome digitado é: ', nome)"
      ],
      "metadata": {
        "colab": {
          "base_uri": "https://localhost:8080/"
        },
        "id": "OFIutAxiw24w",
        "outputId": "5b637249-bf55-4985-95e1-975e2ffe91bc"
      },
      "execution_count": null,
      "outputs": [
        {
          "output_type": "stream",
          "name": "stdout",
          "text": [
            "Informe seu nome: luciana\n",
            "O nome digitado é:  luciana\n"
          ]
        }
      ]
    },
    {
      "cell_type": "code",
      "source": [
        "# CAPITALIZE - Metódo para deixa a letra maiuscula\n",
        "nome = nome.capitalize()\n",
        "nome"
      ],
      "metadata": {
        "colab": {
          "base_uri": "https://localhost:8080/",
          "height": 35
        },
        "id": "x_4gLLUixK1B",
        "outputId": "8db914a8-cd1f-42da-9974-f51e890fdcf4"
      },
      "execution_count": null,
      "outputs": [
        {
          "output_type": "execute_result",
          "data": {
            "text/plain": [
              "'Luciana'"
            ],
            "application/vnd.google.colaboratory.intrinsic+json": {
              "type": "string"
            }
          },
          "metadata": {},
          "execution_count": 83
        }
      ]
    },
    {
      "cell_type": "code",
      "source": [
        "# UPPER - Metódo para deixar as todas as letras em maiuscula\n",
        "nome = nome.upper()\n",
        "nome"
      ],
      "metadata": {
        "colab": {
          "base_uri": "https://localhost:8080/",
          "height": 35
        },
        "id": "DbZyk5qcxlTw",
        "outputId": "e174d18c-4f9c-4298-922c-e5f5e979d7b1"
      },
      "execution_count": null,
      "outputs": [
        {
          "output_type": "execute_result",
          "data": {
            "text/plain": [
              "'LUCIANA'"
            ],
            "application/vnd.google.colaboratory.intrinsic+json": {
              "type": "string"
            }
          },
          "metadata": {},
          "execution_count": 89
        }
      ]
    },
    {
      "cell_type": "code",
      "source": [
        "# CASEFOLF - Método que coloca todas as letras em minuscula\n",
        "nome = nome.casefold()\n",
        "nome"
      ],
      "metadata": {
        "colab": {
          "base_uri": "https://localhost:8080/",
          "height": 35
        },
        "id": "nGQDIaouyNBK",
        "outputId": "ab637505-2a72-4171-ff91-e7e544633b29"
      },
      "execution_count": null,
      "outputs": [
        {
          "output_type": "execute_result",
          "data": {
            "text/plain": [
              "'luciana'"
            ],
            "application/vnd.google.colaboratory.intrinsic+json": {
              "type": "string"
            }
          },
          "metadata": {},
          "execution_count": 90
        }
      ]
    },
    {
      "cell_type": "markdown",
      "source": [
        "# **TITLE**"
      ],
      "metadata": {
        "id": "b1kDkHqNl_t9"
      }
    },
    {
      "cell_type": "code",
      "source": [
        "# (TITLE) Coloca a primeira letra de cada palavra em maiúscula\n",
        "comp = 'Luci Ana'\n",
        "print (comp)"
      ],
      "metadata": {
        "colab": {
          "base_uri": "https://localhost:8080/"
        },
        "id": "xuyP1J_6mJ87",
        "outputId": "3d9b011f-0400-45af-865d-d0a8afa8e03b"
      },
      "execution_count": null,
      "outputs": [
        {
          "output_type": "stream",
          "name": "stdout",
          "text": [
            "Luci Ana\n"
          ]
        }
      ]
    },
    {
      "cell_type": "code",
      "source": [
        "# Aplicando o metodo title\n",
        "comp = comp.title()\n",
        "print(comp)"
      ],
      "metadata": {
        "colab": {
          "base_uri": "https://localhost:8080/"
        },
        "id": "7RnWtPXAmY0m",
        "outputId": "4dbc7e4c-e79d-4170-9b3b-80a8679096c4"
      },
      "execution_count": null,
      "outputs": [
        {
          "output_type": "stream",
          "name": "stdout",
          "text": [
            "Luci Ana\n"
          ]
        }
      ]
    }
  ]
}