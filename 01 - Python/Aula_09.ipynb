{
 "cells": [
  {
   "cell_type": "markdown",
   "id": "652f093b-8baf-4511-85da-b975940164cf",
   "metadata": {},
   "source": [
    "Recapitulando"
   ]
  },
  {
   "cell_type": "code",
   "execution_count": 5,
   "id": "9f18750d-5f34-4f1f-8bab-81c7dd16e7b7",
   "metadata": {},
   "outputs": [
    {
     "name": "stdin",
     "output_type": "stream",
     "text": [
      "Informe a 1ª nota de 0 a 10:  0\n",
      "Informe a 2ª nota de 0 a 10:  2\n",
      "Informe a 3ª nota de 0 a 10:  5\n",
      "Informe a 4ª nota de 0 a 10:  4\n",
      "Informe a 5ª nota de 0 a 10:  10\n"
     ]
    },
    {
     "name": "stdout",
     "output_type": "stream",
     "text": [
      "A média aritmética dos valores informados é 4.20\n"
     ]
    }
   ],
   "source": [
    "'''\n",
    "Crie um programa que receba do usuário cinco valores de notas (0 - 10)\n",
    "calcule a média,\n",
    "informe o usuário a média aritmética dos valores informados.\n",
    "Método de resolução sem estruturas\n",
    "'''\n",
    "n1 = float(input('Informe a 1ª nota de 0 a 10: '))\n",
    "n2 = float(input('Informe a 2ª nota de 0 a 10: '))\n",
    "n3 = float(input('Informe a 3ª nota de 0 a 10: '))\n",
    "n4 = float(input('Informe a 4ª nota de 0 a 10: '))\n",
    "n5 = float(input('Informe a 5ª nota de 0 a 10: '))\n",
    "\n",
    "media = (n1+n2+n3+n4+n5)/5\n",
    "\n",
    "print(f'A média aritmética dos valores informados é {media:.2f}')"
   ]
  },
  {
   "cell_type": "code",
   "execution_count": 4,
   "id": "4b7307b2-2fbb-44d2-a359-5e6a2ffb263c",
   "metadata": {},
   "outputs": [
    {
     "name": "stdin",
     "output_type": "stream",
     "text": [
      "Informe a quantidade de notas que deseja inserir no sistema:  3\n",
      "Informe a 1ª nota:  2\n",
      "Informe a 2ª nota:  5\n",
      "Informe a 3ª nota:  10\n"
     ]
    },
    {
     "name": "stdout",
     "output_type": "stream",
     "text": [
      "A média aritmética dos valores informados é 5.67\n"
     ]
    }
   ],
   "source": [
    "'''\n",
    "Crie um programa que receba do usuário n valores de notas (0 - 10)\n",
    "calcule a média e\n",
    "informe o usuário a média aritmética dos valores informados\n",
    "Método de resolução com while\n",
    "'''\n",
    "# Cria a lista vazia que receberá as notas\n",
    "notas = []\n",
    "\n",
    "# Cria a variável contadora () que deverá ser atualizada a cada novo input do usuários\n",
    "c = 0\n",
    "\n",
    "# cria a variável que o usuário informará a qtde de notas a ser inserida no sistema\n",
    "qtde = float(input('Informe a quantidade de notas que deseja inserir no sistema: '))\n",
    "\n",
    "while c < qtde: # cria a condição para o laço ser executado\n",
    "  notas.append(float(input(f'Informe a {c+1}ª nota: '))) # cria o input com cada nota e as insere na lista notas criada anteriormente\n",
    "  c += 1 # Atualiza a variável contadora a cada novo input\n",
    "\n",
    "# Calcula a média aritmética das notas\n",
    "media = sum(notas)/len(notas)\n",
    "\n",
    "# Imprime a média\n",
    "print(f'A média aritmética dos valores informados é {media:.2f}')\n"
   ]
  },
  {
   "cell_type": "markdown",
   "id": "a280dbc7-bc39-4163-bc01-6b6b7b8b940d",
   "metadata": {},
   "source": [
    "# Estrutura de repetição: FOR"
   ]
  },
  {
   "cell_type": "markdown",
   "id": "6897206f-f648-4fc8-9307-37fe67195ac6",
   "metadata": {},
   "source": [
    "O loop for é uma estrutura de repetição que permite executar um bloco de código várias vezes. Ele é amplamente usado para percorrer elementos em sequências, como listas, tuplas e strings. O loop for é uma escolha natural quando você sabe quantas vezes deseja repetir uma ação."
   ]
  },
  {
   "cell_type": "code",
   "execution_count": null,
   "id": "0565697b-dd0d-4685-8c40-cd85b0cabc2a",
   "metadata": {},
   "outputs": [],
   "source": [
    "'''\n",
    "for variável in sequência:\n",
    "    bloco de codigo a ser repetido\n",
    "'''"
   ]
  },
  {
   "cell_type": "code",
   "execution_count": 6,
   "id": "40b2d63f-5c2d-43c6-b0cc-2b193bf73fbe",
   "metadata": {},
   "outputs": [
    {
     "name": "stdout",
     "output_type": "stream",
     "text": [
      "0\n",
      "1\n",
      "2\n",
      "3\n",
      "4\n",
      "5\n",
      "6\n",
      "7\n",
      "8\n",
      "9\n"
     ]
    }
   ],
   "source": [
    "# Exemplo comparativo: Imprima na tela os números de 0 a 9 com while e for\n",
    "# Usando While\n",
    "i = 0\n",
    "while i < 10:\n",
    "    print(i)\n",
    "    i += 1"
   ]
  },
  {
   "cell_type": "code",
   "execution_count": 9,
   "id": "450f5aa1-7ff4-48a3-9489-11c1eaf9d09d",
   "metadata": {},
   "outputs": [
    {
     "name": "stdout",
     "output_type": "stream",
     "text": [
      "0\n",
      "1\n",
      "2\n",
      "3\n",
      "4\n",
      "5\n",
      "6\n",
      "7\n",
      "8\n",
      "9\n"
     ]
    }
   ],
   "source": [
    "# A função range poderá ter até 3 argumentos (valores)\n",
    "# for i in range (inicio_do_contador, condição_de_parada, incremento ou decremento)\n",
    "# Range em ingles significa faixa\n",
    "\n",
    "# 1° Forma\n",
    "# utilizando o range com apenas um argumento - condição de parada com incremento 1 por padrão\n",
    "for i in range(10):\n",
    "    print(i)"
   ]
  },
  {
   "cell_type": "code",
   "execution_count": 10,
   "id": "21ae1715-ef06-42bd-a329-4f078fa7d576",
   "metadata": {},
   "outputs": [
    {
     "name": "stdout",
     "output_type": "stream",
     "text": [
      "1\n",
      "2\n",
      "3\n",
      "4\n",
      "5\n",
      "6\n",
      "7\n",
      "8\n",
      "9\n",
      "10\n"
     ]
    }
   ],
   "source": [
    "# 2° Forma - utilizando o range com apenas 2 argumentos - inicio da contagem e a condição de parada\n",
    "for i in range(1, 11):\n",
    "  print(i)"
   ]
  },
  {
   "cell_type": "code",
   "execution_count": 11,
   "id": "cf9e7f6c-9c05-44e2-881a-c23911770af4",
   "metadata": {},
   "outputs": [
    {
     "name": "stdout",
     "output_type": "stream",
     "text": [
      "5\n",
      "8\n",
      "11\n",
      "14\n",
      "17\n"
     ]
    }
   ],
   "source": [
    "# 3° Forma\n",
    "# utilizando o range com apenas 3 argumentos\n",
    "# inicio da contagem, condição de parada e incremento\n",
    "\n",
    "for i in range(5, 20, 3):\n",
    "  print(i)"
   ]
  },
  {
   "cell_type": "code",
   "execution_count": 15,
   "id": "be10f98b-9278-40af-abc5-4c24c5b0f86b",
   "metadata": {},
   "outputs": [
    {
     "name": "stdout",
     "output_type": "stream",
     "text": [
      "p\n",
      "a\n",
      "r\n",
      "a\n",
      "l\n",
      "e\n",
      "l\n",
      "e\n",
      "p\n",
      "í\n",
      "p\n",
      "e\n",
      "d\n",
      "o\n"
     ]
    }
   ],
   "source": [
    "# 4° forma: exemplo de iteração de string\n",
    "\n",
    "palavra = 'paralelepípedo'\n",
    "\n",
    "for i in palavra:\n",
    "    print(i)"
   ]
  },
  {
   "cell_type": "code",
   "execution_count": 16,
   "id": "0cc99fcf-068e-47da-868f-02966b939eb2",
   "metadata": {},
   "outputs": [
    {
     "name": "stdout",
     "output_type": "stream",
     "text": [
      "40\n",
      "30\n",
      "20\n",
      "10\n"
     ]
    }
   ],
   "source": [
    "# 5° forma: exemplo de iteração de dupla\n",
    "tupla = ('40','30','20','10')\n",
    "\n",
    "for i in tupla: \n",
    "    print(i)"
   ]
  },
  {
   "cell_type": "code",
   "execution_count": 17,
   "id": "b38f944a-326c-4709-ae50-a8c73cb1a156",
   "metadata": {},
   "outputs": [
    {
     "name": "stdout",
     "output_type": "stream",
     "text": [
      "Erika\n",
      "Lidiane\n",
      "Rosangela\n",
      "Victor Gabriel\n"
     ]
    }
   ],
   "source": [
    "# 6° forma: exemplo de iteração com listas\n",
    "alunos =['Erika', 'Lidiane', 'Rosangela','Victor Gabriel']\n",
    "\n",
    "for i in alunos:\n",
    "    print (i)"
   ]
  },
  {
   "cell_type": "code",
   "execution_count": 18,
   "id": "9eb4a74a-5ce7-4a86-acee-52d05cbd198f",
   "metadata": {},
   "outputs": [
    {
     "name": "stdout",
     "output_type": "stream",
     "text": [
      "banana:9\n",
      "abacate:3\n",
      "morango:25\n",
      "limão:2\n"
     ]
    }
   ],
   "source": [
    "# 7° forma: exemplo de iteração com dicionários\n",
    "frutas = {\n",
    "    'banana': 9,\n",
    "    'abacate': 3,\n",
    "    'morango': 25,\n",
    "    'limão': 2\n",
    "}\n",
    "\n",
    "for chave, valor in frutas.items():\n",
    "    print(f'{chave}:{valor}')"
   ]
  },
  {
   "cell_type": "code",
   "execution_count": null,
   "id": "357f2491-e148-42e4-a566-1d951588383b",
   "metadata": {},
   "outputs": [],
   "source": []
  }
 ],
 "metadata": {
  "kernelspec": {
   "display_name": "Python 3 (ipykernel)",
   "language": "python",
   "name": "python3"
  },
  "language_info": {
   "codemirror_mode": {
    "name": "ipython",
    "version": 3
   },
   "file_extension": ".py",
   "mimetype": "text/x-python",
   "name": "python",
   "nbconvert_exporter": "python",
   "pygments_lexer": "ipython3",
   "version": "3.11.7"
  }
 },
 "nbformat": 4,
 "nbformat_minor": 5
}
