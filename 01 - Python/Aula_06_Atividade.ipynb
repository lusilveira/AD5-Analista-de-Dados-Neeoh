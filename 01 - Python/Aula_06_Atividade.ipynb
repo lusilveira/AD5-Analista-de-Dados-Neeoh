{
  "nbformat": 4,
  "nbformat_minor": 0,
  "metadata": {
    "colab": {
      "provenance": []
    },
    "kernelspec": {
      "name": "python3",
      "display_name": "Python 3"
    },
    "language_info": {
      "name": "python"
    }
  },
  "cells": [
    {
      "cell_type": "markdown",
      "source": [
        "Curso: Analista de Dados e Dashboards\n",
        "\n",
        "Período: Noturno\n",
        "\n",
        "Assunto: Python\n",
        "\n",
        "Professor: Franciane Rodrigues\n",
        "\n",
        "Aluno: Luciana Silveira"
      ],
      "metadata": {
        "id": "kI73hQFCCxc0"
      }
    },
    {
      "cell_type": "code",
      "source": [
        "#Exercício 01: Você trabalha em um laboratório químico e toda vez que você realiza um experimento as temperaturas\n",
        "#estão em Fahrenheit ou Celsius. Crie um algoritmo que realize a conversão para Kelvin para facilitar sua vida de quem lê os manuais.\n",
        "\n",
        "tipotemp = int(input('Digite 1 se a temperatura que será inserida estiver em Celsius e 2 se estiver em farenheint: ')) #Dígito verificador para\n",
        "temp = float(input('Digite aqui a temperatura: ')) #Temperatura a ser incluida\n",
        "#saber a unidade da temperatura.\n",
        "if tipotemp == 1: #Temperatura em Celsius\n",
        "               temp_kelvin = temp + 273 #Conversão de Celsius para Kelvin\n",
        "               print('Essa temperatura em Kelvin é igual a: ', temp_kelvin) #Impressão\n",
        "elif tipotemp == 2: #Temperatura em Farenheint\n",
        "                     temp_celsius = (temp - 32) / 1.8 #Conversão de Farenheint para Celsius\n",
        "                     temp_kelvin = temp_celsius + 273 #Conversão de Celsius para Kelvin\n",
        "                     print('Essa temperatura em Kelvin é igual a: ', temp_kelvin) #Impressão\n",
        "else:\n",
        "                           print('A temperatura ou o dígito inserido são inválidos') #Mensagem informando o erro"
      ],
      "metadata": {
        "id": "PFOtLAjrC60_",
        "colab": {
          "base_uri": "https://localhost:8080/"
        },
        "outputId": "ae057a1d-9001-4980-bfc1-718a41266d8f"
      },
      "execution_count": null,
      "outputs": [
        {
          "output_type": "stream",
          "name": "stdout",
          "text": [
            "Digite 1 se a temperatura que será inserida estiver em Celsius e 2 se estiver em farenheint: 1\n",
            "Digite aqui a temperatura: 28\n",
            "Essa temperatura em Kelvin é igual a:  301.0\n"
          ]
        }
      ]
    },
    {
      "cell_type": "code",
      "source": [
        "#Exercício 02: Um restaurante deseja avaliar a performance de seus garçons com base na gorjeta\n",
        "#recebida em relação ao valor total das contas dos clientes. Para isso, o restaurante irá coletar\n",
        "#informações sobre o valor total da compra de cada cliente e a gorjeta deixada para o garçom.\n",
        "#Se a porcentagem média de gorjeta recebida por um garçom estiver acima de 10%\n",
        "#do valor total da conta, ele será considerado como tendo uma boa performance. Caso contrário, será necessário\n",
        "#realizar treinamentos ou ajustes na abordagem de atendimento do garçom. Essa avaliação\n",
        "#de performance é importante para garantir um serviço de qualidade e garantir a satisfação dos clientes do restaurante.\n",
        "\n",
        "nome_garcom = input('Digite o nome do garçom: ')\n",
        "conta = float(input('Digite o valor da conta: '))\n",
        "gorjeta = float(input('Digite o valor da gorjeta: '))\n",
        "if gorjeta > 0.1 * conta:\n",
        "  print(f'A performace do garçom', nome_garcom, 'é boa!')\n",
        "else:\n",
        "  print(f'O garçom' ,nome_garcom, 'necessitará de um treinamento')"
      ],
      "metadata": {
        "colab": {
          "base_uri": "https://localhost:8080/"
        },
        "id": "Cz6eg94DE1my",
        "outputId": "38c2d77f-1e21-41c3-9586-f45294554ca3"
      },
      "execution_count": null,
      "outputs": [
        {
          "output_type": "stream",
          "name": "stdout",
          "text": [
            "Digite o nome do garçom: 20\n",
            "Digite o valor da conta: 5\n",
            "Digite o valor da gorjeta: 5\n",
            "A performace do garçom 20 é boa!\n"
          ]
        }
      ]
    },
    {
      "cell_type": "code",
      "source": [
        "#Exercício 03: Experiência do Cliente\n",
        "#Um aplicativo de compras online deseja implementar uma função de decisão de compra para seus usuários.\n",
        "#Ao realizar uma compra, os usuários precisam saber se possuem saldo suficiente em sua conta bancária para comprar um determinado produto.\n",
        "#Se o saldo disponível na conta bancária do usuário for maior ou igual ao preço do produto, ele poderá efetuar a compra.\n",
        "#Caso contrário, o usuário receberá uma mensagem informando que não possui saldo suficiente para realizar a compra.\n",
        "#O aplicativo precisa implementar essa funcionalidade para garantir uma experiência de compra tranquila e transparente para seus usuários.\n",
        "\n",
        "#Saldo conta bancária\n",
        "saldoconta= float(input('Digite o saldo disponível na sua conta bancária: '))\n",
        "\n",
        "#Preço do Produto\n",
        "precoproduto = float(input('Digite o preço do produto que deseja comprar: '))\n",
        "\n",
        "#Experiencia do usuário\n",
        "if saldoconta >= precoproduto:\n",
        "    print('Compra realizada com sucesso!')\n",
        "else:\n",
        "    print('Saldo insuficiente. Não é possível realizar a compra.')"
      ],
      "metadata": {
        "colab": {
          "base_uri": "https://localhost:8080/"
        },
        "id": "08ViEOevG6jz",
        "outputId": "7b867908-843f-4ee7-cb3a-fdc96e696724"
      },
      "execution_count": null,
      "outputs": [
        {
          "output_type": "stream",
          "name": "stdout",
          "text": [
            "Digite o saldo disponível na sua conta bancária: 500\n",
            "Digite o preço do produto que deseja comprar: 500\n",
            "Compra realizada com sucesso!\n"
          ]
        }
      ]
    },
    {
      "cell_type": "code",
      "source": [
        "\n",
        "cliente = input('Digite o nome do cliente: ')\n",
        "idade = int(input('Digite a idade do cliente: '))\n",
        "renda = float(input('Digite a renda mensal do cliente: '))\n",
        "historico.lower= input('Esse cliente tem registros de inadiplência nos últimos 12 meses? ')\n",
        "historico = historico.lower\n",
        "if idade > 18 and idade < 65:\n",
        "  if renda >= 1500:\n",
        "    if historico == 'nao':\n",
        "      print('Cliente aprovado para empréstimo!')\n",
        "    else:\n",
        "      print('Cliente reprovado para empréstimo. Motivo: Inadimplências nos ultimos 12 meses.')\n",
        "  else:\n",
        "    print('Cliente reprovado para empréstimo. Motivo: Renda insuficiente.')\n",
        "else:\n",
        "  print('Cliente reprovado para empréstimo. Motivo: Idade insuficiente.')"
      ],
      "metadata": {
        "colab": {
          "base_uri": "https://localhost:8080/"
        },
        "id": "j3COgGKNI7im",
        "outputId": "aea1edd9-ce44-4c55-d985-57d17fbde1a4"
      },
      "execution_count": null,
      "outputs": [
        {
          "output_type": "stream",
          "name": "stdout",
          "text": [
            "Digite o nome do cliente: Luciana\n",
            "Digite a idade do cliente: 20\n",
            "Digite a renda mensal do cliente: 5.0\n",
            "Esse cliente tem registros de inadiplência nos últimos 12 meses? nAo\n",
            "Cliente reprovado para empréstimo. Motivo: Renda insuficiente.\n"
          ]
        }
      ]
    }
  ]
}